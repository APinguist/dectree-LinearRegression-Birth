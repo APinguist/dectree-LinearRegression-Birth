{
  "nbformat": 4,
  "nbformat_minor": 0,
  "metadata": {
    "colab": {
      "provenance": []
    },
    "kernelspec": {
      "name": "python3",
      "display_name": "Python 3"
    },
    "language_info": {
      "name": "python"
    }
  },
  "cells": [
    {
      "cell_type": "markdown",
      "source": [
        "Import Library"
      ],
      "metadata": {
        "id": "vE5j8DWKWGhA"
      }
    },
    {
      "cell_type": "code",
      "execution_count": null,
      "metadata": {
        "id": "kVSLGS5r0gsG"
      },
      "outputs": [],
      "source": [
        "import pandas as pd\n",
        "import numpy as np\n",
        "import statsmodels.api as sm\n",
        "import matplotlib.pyplot as plt\n",
        "import seaborn as sns\n",
        "import scipy.stats as stats\n",
        "import pylab as py\n",
        "from sklearn.linear_model import LinearRegression\n",
        "from sklearn.metrics import classification_report, confusion_matrix, accuracy_score\n",
        "from sklearn import tree, metrics\n",
        "import warnings"
      ]
    },
    {
      "cell_type": "markdown",
      "source": [
        "# Import Dataset"
      ],
      "metadata": {
        "id": "lWPj_IzC-6Aq"
      }
    },
    {
      "cell_type": "code",
      "source": [
        "from google.colab import files\n",
        "files.upload()"
      ],
      "metadata": {
        "id": "Fk5SO-SE089v",
        "colab": {
          "base_uri": "https://localhost:8080/",
          "height": 1000
        },
        "outputId": "e67361ba-2235-4815-bb24-7afc0715ba70"
      },
      "execution_count": null,
      "outputs": [
        {
          "output_type": "display_data",
          "data": {
            "text/plain": [
              "<IPython.core.display.HTML object>"
            ],
            "text/html": [
              "\n",
              "     <input type=\"file\" id=\"files-cb866922-69d5-43f1-9ce1-8da4b1c5707e\" name=\"files[]\" multiple disabled\n",
              "        style=\"border:none\" />\n",
              "     <output id=\"result-cb866922-69d5-43f1-9ce1-8da4b1c5707e\">\n",
              "      Upload widget is only available when the cell has been executed in the\n",
              "      current browser session. Please rerun this cell to enable.\n",
              "      </output>\n",
              "      <script>// Copyright 2017 Google LLC\n",
              "//\n",
              "// Licensed under the Apache License, Version 2.0 (the \"License\");\n",
              "// you may not use this file except in compliance with the License.\n",
              "// You may obtain a copy of the License at\n",
              "//\n",
              "//      http://www.apache.org/licenses/LICENSE-2.0\n",
              "//\n",
              "// Unless required by applicable law or agreed to in writing, software\n",
              "// distributed under the License is distributed on an \"AS IS\" BASIS,\n",
              "// WITHOUT WARRANTIES OR CONDITIONS OF ANY KIND, either express or implied.\n",
              "// See the License for the specific language governing permissions and\n",
              "// limitations under the License.\n",
              "\n",
              "/**\n",
              " * @fileoverview Helpers for google.colab Python module.\n",
              " */\n",
              "(function(scope) {\n",
              "function span(text, styleAttributes = {}) {\n",
              "  const element = document.createElement('span');\n",
              "  element.textContent = text;\n",
              "  for (const key of Object.keys(styleAttributes)) {\n",
              "    element.style[key] = styleAttributes[key];\n",
              "  }\n",
              "  return element;\n",
              "}\n",
              "\n",
              "// Max number of bytes which will be uploaded at a time.\n",
              "const MAX_PAYLOAD_SIZE = 100 * 1024;\n",
              "\n",
              "function _uploadFiles(inputId, outputId) {\n",
              "  const steps = uploadFilesStep(inputId, outputId);\n",
              "  const outputElement = document.getElementById(outputId);\n",
              "  // Cache steps on the outputElement to make it available for the next call\n",
              "  // to uploadFilesContinue from Python.\n",
              "  outputElement.steps = steps;\n",
              "\n",
              "  return _uploadFilesContinue(outputId);\n",
              "}\n",
              "\n",
              "// This is roughly an async generator (not supported in the browser yet),\n",
              "// where there are multiple asynchronous steps and the Python side is going\n",
              "// to poll for completion of each step.\n",
              "// This uses a Promise to block the python side on completion of each step,\n",
              "// then passes the result of the previous step as the input to the next step.\n",
              "function _uploadFilesContinue(outputId) {\n",
              "  const outputElement = document.getElementById(outputId);\n",
              "  const steps = outputElement.steps;\n",
              "\n",
              "  const next = steps.next(outputElement.lastPromiseValue);\n",
              "  return Promise.resolve(next.value.promise).then((value) => {\n",
              "    // Cache the last promise value to make it available to the next\n",
              "    // step of the generator.\n",
              "    outputElement.lastPromiseValue = value;\n",
              "    return next.value.response;\n",
              "  });\n",
              "}\n",
              "\n",
              "/**\n",
              " * Generator function which is called between each async step of the upload\n",
              " * process.\n",
              " * @param {string} inputId Element ID of the input file picker element.\n",
              " * @param {string} outputId Element ID of the output display.\n",
              " * @return {!Iterable<!Object>} Iterable of next steps.\n",
              " */\n",
              "function* uploadFilesStep(inputId, outputId) {\n",
              "  const inputElement = document.getElementById(inputId);\n",
              "  inputElement.disabled = false;\n",
              "\n",
              "  const outputElement = document.getElementById(outputId);\n",
              "  outputElement.innerHTML = '';\n",
              "\n",
              "  const pickedPromise = new Promise((resolve) => {\n",
              "    inputElement.addEventListener('change', (e) => {\n",
              "      resolve(e.target.files);\n",
              "    });\n",
              "  });\n",
              "\n",
              "  const cancel = document.createElement('button');\n",
              "  inputElement.parentElement.appendChild(cancel);\n",
              "  cancel.textContent = 'Cancel upload';\n",
              "  const cancelPromise = new Promise((resolve) => {\n",
              "    cancel.onclick = () => {\n",
              "      resolve(null);\n",
              "    };\n",
              "  });\n",
              "\n",
              "  // Wait for the user to pick the files.\n",
              "  const files = yield {\n",
              "    promise: Promise.race([pickedPromise, cancelPromise]),\n",
              "    response: {\n",
              "      action: 'starting',\n",
              "    }\n",
              "  };\n",
              "\n",
              "  cancel.remove();\n",
              "\n",
              "  // Disable the input element since further picks are not allowed.\n",
              "  inputElement.disabled = true;\n",
              "\n",
              "  if (!files) {\n",
              "    return {\n",
              "      response: {\n",
              "        action: 'complete',\n",
              "      }\n",
              "    };\n",
              "  }\n",
              "\n",
              "  for (const file of files) {\n",
              "    const li = document.createElement('li');\n",
              "    li.append(span(file.name, {fontWeight: 'bold'}));\n",
              "    li.append(span(\n",
              "        `(${file.type || 'n/a'}) - ${file.size} bytes, ` +\n",
              "        `last modified: ${\n",
              "            file.lastModifiedDate ? file.lastModifiedDate.toLocaleDateString() :\n",
              "                                    'n/a'} - `));\n",
              "    const percent = span('0% done');\n",
              "    li.appendChild(percent);\n",
              "\n",
              "    outputElement.appendChild(li);\n",
              "\n",
              "    const fileDataPromise = new Promise((resolve) => {\n",
              "      const reader = new FileReader();\n",
              "      reader.onload = (e) => {\n",
              "        resolve(e.target.result);\n",
              "      };\n",
              "      reader.readAsArrayBuffer(file);\n",
              "    });\n",
              "    // Wait for the data to be ready.\n",
              "    let fileData = yield {\n",
              "      promise: fileDataPromise,\n",
              "      response: {\n",
              "        action: 'continue',\n",
              "      }\n",
              "    };\n",
              "\n",
              "    // Use a chunked sending to avoid message size limits. See b/62115660.\n",
              "    let position = 0;\n",
              "    do {\n",
              "      const length = Math.min(fileData.byteLength - position, MAX_PAYLOAD_SIZE);\n",
              "      const chunk = new Uint8Array(fileData, position, length);\n",
              "      position += length;\n",
              "\n",
              "      const base64 = btoa(String.fromCharCode.apply(null, chunk));\n",
              "      yield {\n",
              "        response: {\n",
              "          action: 'append',\n",
              "          file: file.name,\n",
              "          data: base64,\n",
              "        },\n",
              "      };\n",
              "\n",
              "      let percentDone = fileData.byteLength === 0 ?\n",
              "          100 :\n",
              "          Math.round((position / fileData.byteLength) * 100);\n",
              "      percent.textContent = `${percentDone}% done`;\n",
              "\n",
              "    } while (position < fileData.byteLength);\n",
              "  }\n",
              "\n",
              "  // All done.\n",
              "  yield {\n",
              "    response: {\n",
              "      action: 'complete',\n",
              "    }\n",
              "  };\n",
              "}\n",
              "\n",
              "scope.google = scope.google || {};\n",
              "scope.google.colab = scope.google.colab || {};\n",
              "scope.google.colab._files = {\n",
              "  _uploadFiles,\n",
              "  _uploadFilesContinue,\n",
              "};\n",
              "})(self);\n",
              "</script> "
            ]
          },
          "metadata": {}
        },
        {
          "output_type": "stream",
          "name": "stdout",
          "text": [
            "Saving Dataset Case Study 3 - Prediksi Cara Kelahiran Bayi.xlsx to Dataset Case Study 3 - Prediksi Cara Kelahiran Bayi.xlsx\n"
          ]
        },
        {
          "output_type": "execute_result",
          "data": {
            "text/plain": [
              "{'Dataset Case Study 3 - Prediksi Cara Kelahiran Bayi.xlsx': b'PK\\x03\\x04\\x14\\x00\\x06\\x00\\x08\\x00\\x00\\x00!\\x00b\\xee\\x9dh^\\x01\\x00\\x00\\x90\\x04\\x00\\x00\\x13\\x00\\x08\\x02[Content_Types].xml \\xa2\\x04\\x02(\\xa0\\x00\\x02\\x00\\x00\\x00\\x00\\x00\\x00\\x00\\x00\\x00\\x00\\x00\\x00\\x00\\x00\\x00\\x00\\x00\\x00\\x00\\x00\\x00\\x00\\x00\\x00\\x00\\x00\\x00\\x00\\x00\\x00\\x00\\x00\\x00\\x00\\x00\\x00\\x00\\x00\\x00\\x00\\x00\\x00\\x00\\x00\\x00\\x00\\x00\\x00\\x00\\x00\\x00\\x00\\x00\\x00\\x00\\x00\\x00\\x00\\x00\\x00\\x00\\x00\\x00\\x00\\x00\\x00\\x00\\x00\\x00\\x00\\x00\\x00\\x00\\x00\\x00\\x00\\x00\\x00\\x00\\x00\\x00\\x00\\x00\\x00\\x00\\x00\\x00\\x00\\x00\\x00\\x00\\x00\\x00\\x00\\x00\\x00\\x00\\x00\\x00\\x00\\x00\\x00\\x00\\x00\\x00\\x00\\x00\\x00\\x00\\x00\\x00\\x00\\x00\\x00\\x00\\x00\\x00\\x00\\x00\\x00\\x00\\x00\\x00\\x00\\x00\\x00\\x00\\x00\\x00\\x00\\x00\\x00\\x00\\x00\\x00\\x00\\x00\\x00\\x00\\x00\\x00\\x00\\x00\\x00\\x00\\x00\\x00\\x00\\x00\\x00\\x00\\x00\\x00\\x00\\x00\\x00\\x00\\x00\\x00\\x00\\x00\\x00\\x00\\x00\\x00\\x00\\x00\\x00\\x00\\x00\\x00\\x00\\x00\\x00\\x00\\x00\\x00\\x00\\x00\\x00\\x00\\x00\\x00\\x00\\x00\\x00\\x00\\x00\\x00\\x00\\x00\\x00\\x00\\x00\\x00\\x00\\x00\\x00\\x00\\x00\\x00\\x00\\x00\\x00\\x00\\x00\\x00\\x00\\x00\\x00\\x00\\x00\\x00\\x00\\x00\\x00\\x00\\x00\\x00\\x00\\x00\\x00\\x00\\x00\\x00\\x00\\x00\\x00\\x00\\x00\\x00\\x00\\x00\\x00\\x00\\x00\\x00\\x00\\x00\\x00\\x00\\x00\\x00\\x00\\x00\\x00\\x00\\x00\\x00\\x00\\x00\\x00\\x00\\x00\\x00\\x00\\x00\\x00\\x00\\x00\\x00\\x00\\x00\\x00\\x00\\x00\\x00\\x00\\x00\\x00\\x00\\x00\\x00\\x00\\x00\\x00\\x00\\x00\\x00\\x00\\x00\\x00\\x00\\x00\\x00\\x00\\x00\\x00\\x00\\x00\\x00\\x00\\x00\\x00\\x00\\x00\\x00\\x00\\x00\\x00\\x00\\x00\\x00\\x00\\x00\\x00\\x00\\x00\\x00\\x00\\x00\\x00\\x00\\x00\\x00\\x00\\x00\\x00\\x00\\x00\\x00\\x00\\x00\\x00\\x00\\x00\\x00\\x00\\x00\\x00\\x00\\x00\\x00\\x00\\x00\\x00\\x00\\x00\\x00\\x00\\x00\\x00\\x00\\x00\\x00\\x00\\x00\\x00\\x00\\x00\\x00\\x00\\x00\\x00\\x00\\x00\\x00\\x00\\x00\\x00\\x00\\x00\\x00\\x00\\x00\\x00\\x00\\x00\\x00\\x00\\x00\\x00\\x00\\x00\\x00\\x00\\x00\\x00\\x00\\x00\\x00\\x00\\x00\\x00\\x00\\x00\\x00\\x00\\x00\\x00\\x00\\x00\\x00\\x00\\x00\\x00\\x00\\x00\\x00\\x00\\x00\\x00\\x00\\x00\\x00\\x00\\x00\\x00\\x00\\x00\\x00\\x00\\x00\\x00\\x00\\x00\\x00\\x00\\x00\\x00\\x00\\x00\\x00\\x00\\x00\\x00\\x00\\x00\\x00\\x00\\x00\\x00\\x00\\x00\\x00\\x00\\x00\\x00\\x00\\x00\\x00\\x00\\x00\\x00\\x00\\x00\\x00\\x00\\x00\\x00\\x00\\x00\\x00\\x00\\x00\\x00\\x00\\x00\\x00\\x00\\x00\\x00\\x00\\x00\\x00\\x00\\x00\\x00\\x00\\x00\\x00\\x00\\x00\\x00\\x00\\x00\\x00\\x00\\x00\\x00\\x00\\x00\\x00\\x00\\x00\\x00\\x00\\x00\\x00\\x00\\x00\\x00\\x00\\x00\\x00\\x00\\x00\\x00\\x00\\x00\\x00\\x00\\x00\\x00\\x00\\x00\\x00\\x00\\x00\\x00\\x00\\x00\\xac\\x94\\xcbN\\xc30\\x10E\\xf7H\\xfcC\\xe4-J\\xdc\\xb2@\\x085\\xed\\x82\\xc7\\x12*Q>\\xc0\\xc4\\x93\\xc6\\xaac[\\x9eii\\xff\\x9e\\x89\\xfb\\x10B\\xa1\\x15j7\\xb1\\x12\\xcf\\xdc{2\\xf1\\xcdh\\xb2nm\\xb6\\x82\\x88\\xc6\\xbbR\\x0c\\x8b\\x81\\xc8\\xc0U^\\x1b7/\\xc5\\xc7\\xec%\\xbf\\x17\\x19\\x92rZY\\xef\\xa0\\x14\\x1b@1\\x19__\\x8df\\x9b\\x00\\x98q\\xb7\\xc3R4D\\xe1AJ\\xac\\x1ah\\x15\\x16>\\x80\\xe3\\x9d\\xda\\xc7V\\x11\\xdf\\xc6\\xb9\\x0c\\xaaZ\\xa89\\xc8\\xdb\\xc1\\xe0NV\\xde\\x118\\xca\\xa9\\xd3\\x10\\xe3\\xd1\\x13\\xd4ji){^\\xf3\\xe3-I\\x04\\x8b\"{\\xdc\\x16v^\\xa5P!XS)bR\\xb9r\\xfa\\x97K\\xbes(\\xb83\\xd5`c\\x02\\xde0\\x86\\x90\\xbd\\x0e\\xdd\\xce\\xdf\\x06\\xbb\\xbe7\\x1eM4\\x1a\\xb2\\xa9\\x8a\\xf4\\xaaZ\\xc6\\x90k+\\xbf|\\\\|z\\xbf(\\x8e\\x8b\\xf4P\\xfa\\xba6\\x15h_-[\\x9e@\\x81!\\x82\\xd2\\xd8\\x00Pk\\x8b\\xb4\\x16\\xad2n\\xcf}\\xc4?\\x15\\xa3L\\xcb\\xf0\\xc2 \\xdd\\xfb%\\xe1\\x13\\x1c\\xc4\\xdf\\x1bd\\xba\\x9e\\x8f\\x90dN\\x18\"m,\\xe0\\xa5\\xc7\\x9eDO97*\\x82~\\xa7\\xc8\\xc9\\xb88\\xc0O\\xedc\\x1c|n\\xa6\\xd1\\x07\\xe4\\x04E\\xf8\\xff\\x14\\xf6\\x11\\xe9\\xba\\xf3\\xc0B\\x10\\xc9\\xc0!$}\\x87\\xed\\xe0\\xc8\\xe9;{\\xec\\xd0\\xe5[\\x83\\xee\\xf1\\x96\\xe9\\x7f2\\xfe\\x06\\x00\\x00\\xff\\xff\\x03\\x00PK\\x03\\x04\\x14\\x00\\x06\\x00\\x08\\x00\\x00\\x00!\\x00\\xb5U0#\\xf4\\x00\\x00\\x00L\\x02\\x00\\x00\\x0b\\x00\\x08\\x02_rels/.rels \\xa2\\x04\\x02(\\xa0\\x00\\x02\\x00\\x00\\x00\\x00\\x00\\x00\\x00\\x00\\x00\\x00\\x00\\x00\\x00\\x00\\x00\\x00\\x00\\x00\\x00\\x00\\x00\\x00\\x00\\x00\\x00\\x00\\x00\\x00\\x00\\x00\\x00\\x00\\x00\\x00\\x00\\x00\\x00\\x00\\x00\\x00\\x00\\x00\\x00\\x00\\x00\\x00\\x00\\x00\\x00\\x00\\x00\\x00\\x00\\x00\\x00\\x00\\x00\\x00\\x00\\x00\\x00\\x00\\x00\\x00\\x00\\x00\\x00\\x00\\x00\\x00\\x00\\x00\\x00\\x00\\x00\\x00\\x00\\x00\\x00\\x00\\x00\\x00\\x00\\x00\\x00\\x00\\x00\\x00\\x00\\x00\\x00\\x00\\x00\\x00\\x00\\x00\\x00\\x00\\x00\\x00\\x00\\x00\\x00\\x00\\x00\\x00\\x00\\x00\\x00\\x00\\x00\\x00\\x00\\x00\\x00\\x00\\x00\\x00\\x00\\x00\\x00\\x00\\x00\\x00\\x00\\x00\\x00\\x00\\x00\\x00\\x00\\x00\\x00\\x00\\x00\\x00\\x00\\x00\\x00\\x00\\x00\\x00\\x00\\x00\\x00\\x00\\x00\\x00\\x00\\x00\\x00\\x00\\x00\\x00\\x00\\x00\\x00\\x00\\x00\\x00\\x00\\x00\\x00\\x00\\x00\\x00\\x00\\x00\\x00\\x00\\x00\\x00\\x00\\x00\\x00\\x00\\x00\\x00\\x00\\x00\\x00\\x00\\x00\\x00\\x00\\x00\\x00\\x00\\x00\\x00\\x00\\x00\\x00\\x00\\x00\\x00\\x00\\x00\\x00\\x00\\x00\\x00\\x00\\x00\\x00\\x00\\x00\\x00\\x00\\x00\\x00\\x00\\x00\\x00\\x00\\x00\\x00\\x00\\x00\\x00\\x00\\x00\\x00\\x00\\x00\\x00\\x00\\x00\\x00\\x00\\x00\\x00\\x00\\x00\\x00\\x00\\x00\\x00\\x00\\x00\\x00\\x00\\x00\\x00\\x00\\x00\\x00\\x00\\x00\\x00\\x00\\x00\\x00\\x00\\x00\\x00\\x00\\x00\\x00\\x00\\x00\\x00\\x00\\x00\\x00\\x00\\x00\\x00\\x00\\x00\\x00\\x00\\x00\\x00\\x00\\x00\\x00\\x00\\x00\\x00\\x00\\x00\\x00\\x00\\x00\\x00\\x00\\x00\\x00\\x00\\x00\\x00\\x00\\x00\\x00\\x00\\x00\\x00\\x00\\x00\\x00\\x00\\x00\\x00\\x00\\x00\\x00\\x00\\x00\\x00\\x00\\x00\\x00\\x00\\x00\\x00\\x00\\x00\\x00\\x00\\x00\\x00\\x00\\x00\\x00\\x00\\x00\\x00\\x00\\x00\\x00\\x00\\x00\\x00\\x00\\x00\\x00\\x00\\x00\\x00\\x00\\x00\\x00\\x00\\x00\\x00\\x00\\x00\\x00\\x00\\x00\\x00\\x00\\x00\\x00\\x00\\x00\\x00\\x00\\x00\\x00\\x00\\x00\\x00\\x00\\x00\\x00\\x00\\x00\\x00\\x00\\x00\\x00\\x00\\x00\\x00\\x00\\x00\\x00\\x00\\x00\\x00\\x00\\x00\\x00\\x00\\x00\\x00\\x00\\x00\\x00\\x00\\x00\\x00\\x00\\x00\\x00\\x00\\x00\\x00\\x00\\x00\\x00\\x00\\x00\\x00\\x00\\x00\\x00\\x00\\x00\\x00\\x00\\x00\\x00\\x00\\x00\\x00\\x00\\x00\\x00\\x00\\x00\\x00\\x00\\x00\\x00\\x00\\x00\\x00\\x00\\x00\\x00\\x00\\x00\\x00\\x00\\x00\\x00\\x00\\x00\\x00\\x00\\x00\\x00\\x00\\x00\\x00\\x00\\x00\\x00\\x00\\x00\\x00\\x00\\x00\\x00\\x00\\x00\\x00\\x00\\x00\\x00\\x00\\x00\\x00\\x00\\x00\\x00\\x00\\x00\\x00\\x00\\x00\\x00\\x00\\x00\\x00\\x00\\x00\\x00\\x00\\x00\\x00\\x00\\x00\\x00\\x00\\x00\\x00\\x00\\x00\\x00\\x00\\x00\\x00\\x00\\x00\\x00\\x00\\x00\\x00\\x00\\x00\\x00\\x00\\x00\\x00\\x00\\x00\\x00\\x00\\xac\\x92MO\\xc30\\x0c\\x86\\xefH\\xfc\\x87\\xc8\\xf7\\xd5\\xdd\\x90\\x10BKwAH\\xbb!T~\\x80I\\xdc\\x0f\\xb5\\x8d\\xa3$\\x1b\\xdd\\xbf\\'\\x1c\\x10T\\x1a\\x83\\x03G\\x7f\\xbd~\\xfc\\xca\\xdb\\xdd<\\x8d\\xea\\xc8!\\xf6\\xe24\\xac\\x8b\\x12\\x14;#\\xb6w\\xad\\x86\\x97\\xfaqu\\x07*&r\\x96Fq\\xac\\xe1\\xc4\\x11v\\xd5\\xf5\\xd5\\xf6\\x99GJy(v\\xbd\\x8f*\\xab\\xb8\\xa8\\xa1K\\xc9\\xdf#F\\xd3\\xf1D\\xb1\\x10\\xcf.W\\x1a\\t\\x13\\xa5\\x1c\\x86\\x16=\\x99\\x81Z\\xc6MY\\xdeb\\xf8\\xae\\x01\\xd5BS\\xed\\xad\\x86\\xb0\\xb77\\xa0\\xea\\x93\\xcf\\x9b\\x7f\\xd7\\x96\\xa6\\xe9\\r?\\x889L\\xec\\xd2\\x99\\x15\\xc8sbg\\xd9\\xae|\\xc8l!\\xf5\\xf9\\x1aUSh9i\\xb0b\\x9er:\"y_dl\\xc0\\xf3D\\x9b\\xbf\\x13\\xfd|-N\\x9c\\xc8R\"4\\x12\\xf82\\xcfG\\xc7%\\xa0\\xf5\\x7fZ\\xb44\\xf1\\xcb\\x9dy\\xc47\\t\\xc3\\xab\\xc8\\xf0\\xc9\\x82\\x8b\\x1f\\xa8\\xde\\x01\\x00\\x00\\xff\\xff\\x03\\x00PK\\x03\\x04\\x14\\x00\\x06\\x00\\x08\\x00\\x00\\x00!\\x00j\\xef\\x10\\x06\\x91\\x02\\x00\\x00\\xab\\x05\\x00\\x00\\x0f\\x00\\x00\\x00xl/workbook.xml\\xa4T\\xc9n\\xdb0\\x10\\xbd\\x17\\xe8?\\x10\\xbc+Z,\\xc9\\xb5\\x109\\x88\\x97\\xa0\\x06\\xea\\xc2H\\xb3\\\\\\x0c\\x044E[\\x84)R%\\xa9\\xd8A\\x90\\x7f\\xefH\\xb2\\xb2\\xb9\\x87\\xb4\\x11$R\\xe4\\x10\\x8f\\xf3f\\xde\\xcc\\xe9\\xd9\\xbe\\x10\\xe8\\x9ei\\xc3\\x95L\\xb1\\x7f\\xe2a\\xc4$U\\x19\\x97\\x9b\\x14__]8\\xdf02\\x96\\xc8\\x8c\\x08%Y\\x8a\\x1f\\x98\\xc1g\\xc3\\xaf_NwJoWJm\\x11\\x00H\\x93\\xe2\\xdc\\xda2q]CsV\\x10s\\xa2J&\\xc1\\xb2V\\xba \\x16\\x96z\\xe3\\x9aR3\\x92\\x99\\x9c1[\\x087\\xf0\\xbc\\xd8-\\x08\\x97\\xb8EH\\xf4G0\\xd4z\\xcd)\\x9b(Z\\x15L\\xda\\x16D3A,\\xb8or^\\x9a\\x0e\\xad\\xa0\\x1f\\x81+\\x88\\xdeV\\xa5CUQ\\x02\\xc4\\x8a\\x0bn\\x1f\\x1aP\\x8c\\n\\x9a\\xcc6Ri\\xb2\\x12@{\\xefGh\\xaf\\xe1\\x8d\\xe1\\xf3!H\\r\\xeb\\x04\\xb6\\x8f\\xae)8\\xd5\\xca\\xa8\\xb5=\\x01X\\xb7u\\xf8\\x88\\xbb\\xef\\xb9\\xbe\\xff\\x86\\xfe\\xfe\\x98\\xff\\xc7\\x90BW\\xb3{^\\xe7\\xef\\xd9+\\x1d\\xff\\xa7W\\xf13V\\xfc\\x02\\xe6{\\x9fF\\x83\\x88\\rO\\xd7\\\\\\xb0\\x9bVi\\x88\\x94\\xe5OR\\xd4\\x81\\x15\\x18\\tb\\xec4\\xe3\\x96e)\\xee\\xc3R\\xed\\xd8\\x9b\\r]\\x95\\xa3\\x8a\\x0b\\xb0\\x06A\\x14\\xf4\\xb1;|V\\xdfB\\xa3\\x8c\\xadI%\\xec\\x15\\xe8\\xae\\x83\\x07!\\xc7\\xf1 \\x88\\xea\\x93\\x90\\xc7sa\\x99\\x96\\xc4\\xb2\\xb1\\x92\\x16dsH\\xdeg%\\xd2`\\x8fs\\x05\\x82D\\x97\\xecw\\xc55\\x83:\\x00I\\x00W\\x18\\tM\\xc8\\xca,\\x88\\xcdQ\\xa5E\\x8a\\xc7\\xc9\\xf2\\xda\\x00\\xfd\\xe5\\\\i.-A\\x97\\xca@]q\\xc9\\x97\\x13\\xb5\\x93BAm,_\\t\\x8b\\x1c+\\xf8\\x1f\\xa4EhM\\xde\\x05\\xf6\\xad\\x87\\xed\\xff\\xfbH\\x80\\xa3:\\xe9\\xe4\\xb3\\xb0\\x1a\\xc1\\xffl\\xf2\\x03\\xf2\\xf1\\x8b\\xdcCv@\\xe8\\xd9\\xa1\\xd6f\\x10~\\xbfw\\'\\xa9NB\\xcf\\xf3\\x06w\\x8f\\xe3^\\x18G\\xfd\\x8b\\x9e\\xd3\\xeb\\x8d|\\'\\x1c\\xc4\\x13\\xe7|<\\x1d8\\xd1d\\xea\\x05Qx>\\x9a\\x86\\xa3\\' \\xa4\\xe3\\x84*R\\xd9\\xfc\\x90\\xfc\\x1a>\\xc5a\\xf4\\x17\\xd3\\x9c\\xec;\\x8b\\xef%\\x15\\xcf^\\\\y\\x84K\\x9b\\xc7\\xa9\\xc7wCg{\\xaaI\\xd7]\\xe9\\x86\\xb3\\x9dy\\x91I\\xbdD\\xfb[.3\\xb5K\\xb1\\xe3{\\xd0\\xd5\\x1e\\xde.w\\x8d\\xf1\\x96g6\\x07\\x9d\\xf5\\x82\\x08*\\xa0\\xdd\\xfb\\xce\\xf8&\\x07\\x8f\\xfd \\xea\\xc7MT_\\xdd\\xd0\\xb43\\xb8\\xa9\\x99\\x91l4=!\\x90\\xdd\\xd9\\xaaBs\\xe8L9\\xd7[\\x02\\xa5\\xd9\\x1ch\\x82\\x88\\x91N8DS\\xcf2\\xbf\\x81\\xeb0(\\x11\\x14\\x04]O\\xf5A\\xaf1v}v\\xf8\\x07\\x00\\x00\\xff\\xff\\x03\\x00PK\\x03\\x04\\x14\\x00\\x06\\x00\\x08\\x00\\x00\\x00!\\x00\\x81>\\x94\\x97\\xf3\\x00\\x00\\x00\\xba\\x02\\x00\\x00\\x1a\\x00\\x08\\x01xl/_rels/workbook.xml.rels \\xa2\\x04\\x01(\\xa0\\x00\\x01\\x00\\x00\\x00\\x00\\x00\\x00\\x00\\x00\\x00\\x00\\x00\\x00\\x00\\x00\\x00\\x00\\x00\\x00\\x00\\x00\\x00\\x00\\x00\\x00\\x00\\x00\\x00\\x00\\x00\\x00\\x00\\x00\\x00\\x00\\x00\\x00\\x00\\x00\\x00\\x00\\x00\\x00\\x00\\x00\\x00\\x00\\x00\\x00\\x00\\x00\\x00\\x00\\x00\\x00\\x00\\x00\\x00\\x00\\x00\\x00\\x00\\x00\\x00\\x00\\x00\\x00\\x00\\x00\\x00\\x00\\x00\\x00\\x00\\x00\\x00\\x00\\x00\\x00\\x00\\x00\\x00\\x00\\x00\\x00\\x00\\x00\\x00\\x00\\x00\\x00\\x00\\x00\\x00\\x00\\x00\\x00\\x00\\x00\\x00\\x00\\x00\\x00\\x00\\x00\\x00\\x00\\x00\\x00\\x00\\x00\\x00\\x00\\x00\\x00\\x00\\x00\\x00\\x00\\x00\\x00\\x00\\x00\\x00\\x00\\x00\\x00\\x00\\x00\\x00\\x00\\x00\\x00\\x00\\x00\\x00\\x00\\x00\\x00\\x00\\x00\\x00\\x00\\x00\\x00\\x00\\x00\\x00\\x00\\x00\\x00\\x00\\x00\\x00\\x00\\x00\\x00\\x00\\x00\\x00\\x00\\x00\\x00\\x00\\x00\\x00\\x00\\x00\\x00\\x00\\x00\\x00\\x00\\x00\\x00\\x00\\x00\\x00\\x00\\x00\\x00\\x00\\x00\\x00\\x00\\x00\\x00\\x00\\x00\\x00\\x00\\x00\\x00\\x00\\x00\\x00\\x00\\x00\\x00\\x00\\x00\\x00\\x00\\x00\\x00\\x00\\x00\\x00\\x00\\x00\\x00\\x00\\x00\\x00\\x00\\x00\\x00\\x00\\x00\\x00\\x00\\x00\\x00\\x00\\x00\\x00\\x00\\x00\\x00\\x00\\x00\\x00\\x00\\x00\\x00\\x00\\x00\\x00\\x00\\x00\\x00\\x00\\x00\\x00\\x00\\x00\\x00\\x00\\x00\\x00\\x00\\x00\\x00\\x00\\x00\\x00\\x00\\xacRMK\\xc40\\x10\\xbd\\x0b\\xfe\\x870w\\x9bv\\x15\\x11\\xd9t/\"\\xecU\\xeb\\x0f\\x08\\xc9\\xb4)\\xdb&!3~\\xf4\\xdf\\x1b*\\xba]X\\xd6K/\\x03o\\x86y\\xef\\xcd\\xc7v\\xf75\\x0e\\xe2\\x03\\x13\\xf5\\xc1+\\xa8\\x8a\\x12\\x04z\\x13l\\xef;\\x05o\\xcd\\xf3\\xcd\\x03\\x08b\\xed\\xad\\x1e\\x82G\\x05\\x13\\x12\\xec\\xea\\xeb\\xab\\xed\\x0b\\x0e\\x9as\\x13\\xb9>\\x92\\xc8,\\x9e\\x148\\xe6\\xf8(%\\x19\\x87\\xa3\\xa6\"D\\xf4\\xb9\\xd2\\x864j\\xce0u2js\\xd0\\x1d\\xcaMY\\xde\\xcb\\xb4\\xe4\\x80\\xfa\\x84S\\xec\\xad\\x82\\xb4\\xb7\\xb7 \\x9a)f\\xe5\\xff\\xb9C\\xdb\\xf6\\x06\\x9f\\x82y\\x1f\\xd1\\xf3\\x19\\tI<\\ry\\x00\\xd1\\xe8\\xd4!+\\xf8\\xc1E\\xf6\\x08\\xf2\\xbc\\xfcfMy\\xcek\\xc1\\xa3\\xfa\\x0c\\xe5\\x1c\\xabK\\x1e\\xaa5=|\\x86t \\x87\\xc8G\\x1f\\x7f)\\x92s\\xe5\\xa2\\x99\\xbbU\\xef\\xe1tB\\xfb\\xca)\\xbf\\xdb\\xf2,\\xcb\\xf4\\xeff\\xe4\\xc9\\xc7\\xd5\\xdf\\x00\\x00\\x00\\xff\\xff\\x03\\x00PK\\x03\\x04\\x14\\x00\\x06\\x00\\x08\\x00\\x00\\x00!\\x00\\x1a\\xc1\\xbaf\\xc4\\x0b\\x00\\x00\\x1eH\\x00\\x00\\x18\\x00\\x00\\x00xl/worksheets/sheet1.xml\\x94\\x9cKS\\xe3H\\x16\\x85\\xf7\\x131\\xff\\xc1\\xe1}c\\xf4\\x06\\x02\\xe8h\\xdbRN/&bb\\x9ekc\\x048\\xca\\xb6\\x18[UT\\xfd\\xfbN)OB\\xe5\\xb9\\xd7nr\\xd34_\\x1d\\xa7}t\\xf3q\\x9c)t\\xfb\\xeb\\xf7\\xddv\\xf2\\xad=\\x1c7\\xdd\\xfen\\x9a\\\\\\\\N\\'\\xed~\\xdd=n\\xf6\\xcfw\\xd3\\xff\\xfc\\xbb\\xf9\\xe5j:9\\xf6\\xab\\xfd\\xe3j\\xdb\\xed\\xdb\\xbb\\xe9\\x8f\\xf68\\xfd\\xf5\\xfe\\xaf\\x7f\\xb9}\\xeb\\x0e_\\x8e/m\\xdbOl\\x0b\\xfb\\xe3\\xdd\\xf4\\xa5\\xef_of\\xb3\\xe3\\xfa\\xa5\\xdd\\xad\\x8e\\x17\\xddk\\xbb\\xb7\\xff\\xf2\\xd4\\x1dv\\xab\\xde\\xfezx\\x9e\\x1d_\\x0f\\xed\\xeaq|\\xd1n;K//\\xcb\\xd9n\\xb5\\xd9O]\\x0b7\\x87\\xcf\\xb4\\xd1==m\\xd6\\xed\\xb2[\\x7f\\xdd\\xb5\\xfb\\xde5rh\\xb7\\xab\\xde~\\xfe\\xe3\\xcb\\xe6\\xf5\\xe8[\\xdb\\xad?\\xd3\\xdcnu\\xf8\\xf2\\xf5\\xf5\\x97u\\xb7{\\xb5M<l\\xb6\\x9b\\xfe\\xc7\\xd8\\xe8t\\xb2[\\xdf\\xfc\\xfe\\xbc\\xef\\x0e\\xab\\x87\\xad\\xf5\\xfd=\\xc9Wk\\xdf\\xf6\\xf8\\x8bh~\\xb7Y\\x1f\\xbac\\xf7\\xd4_\\xd8\\xe6f\\xee\\x83J\\xcf\\xd7\\xb3\\xeb\\x99m\\xe9\\xfe\\xf6qc\\x1d\\x0c\\x97}rh\\x9f\\xee\\xa6\\xbf%7\\xe6*\\x99\\xce\\xeeo\\xc7\\x0b\\xf4\\xdfM\\xfbv\\xfc\\xe9\\xff\\'\\xfd\\xea\\xe1_\\xed\\xb6]\\xf7\\xed\\xa3\\xad\\xd3t2\\\\\\xff\\x87\\xae\\xfb2\\x08\\x7f\\xb7\\xe8\\xd26y\\x1c\\x05C\\x93\\xabu\\xbf\\xf9\\xd6.\\xda\\xed\\xf6n:Om\\t\\xff?\\xbe\\xc9<\\xbd1\\xc9\\xe5\\xf0&\\xb3\\xf7w\\xf9\\xf9\\xff\\xfd;6c\\xd5\\xfeq\\x98<\\xb6O\\xab\\xaf\\xdb\\xfe\\x9f\\xdd\\xdb\\xdf\\xda\\xcd\\xf3Ko\\xdf:\\xbf\\xc8\\xedu\\x18.\\xc7\\xcd\\xe3\\x8fe{\\\\\\xdb:\\xd8\\xb7\\xbf\\xc8\\x86f\\xd7\\xdd\\xd6\\xb6a\\xff;\\xd9m\\x86\\xfed/\\xe3\\xea\\xbb\\xfb\\xbc\\x9b\\xc7\\xfe\\xe5nj_\\x9d\\'\\xf9e\\x99\\x16\\xd3\\xc9\\xfa\\xeb\\xb1\\xefv\\xffs\\xff0Z\\x7f\\x7f\\xa1\\xfd\\xc8\\xe3\\x0b\\xed\\xcf7\\xf7\\xef\\xe5Ery\\x9dU\\xe7_\\x96\\xe1e\\xf6\\'^\\x96\\\\^TU\\x95\\xe5\\x7f\\xf6J\\xebi|C\\xfb\\xf3\\xe3\\x95Y\\x96^f\\xc9\\x9f|\\xd4\\n\\xaf\\xb4??^y\\xce\\xe4\\xcc]\\xa4\\xb1\\x00\\xcbU\\xbf\\xba\\xbf=to\\x13\\xdb\\xfb\\xed\\xd5:\\xbe\\xae\\x86\\xb1\\x94\\xdc\\xd8\\xd6\\x86\\x9f\\xfe\"\\xb9\\x82\\x8c`(B\\x9e]\\xd8+\\xa3\\x16\\xc1^\\xfd\\xa1\\xad\\xdf\\x86\\xc6F\\xbd\\x95\\x1fm\\xdf\\xf8v\\x7fy;\\xfbf\\x8b\\xbd\\x86b.\\x15I\\xa8XHE\\x1a*\\x96R\\x91\\x85\\x8aZ*\\xf2P\\xd1HE\\x11*\\x8cT\\x94\\xef\\x8a\\x99\\xbdx\\xefWp\\xe8\\xe9?]\\xc1\\xb3\\x17(\\x1d/\\nY\\xb6ce\\xb8T)\\xf9\\\\\\xa8\\xe2\\xa5\\xa3t]k4A.U\\xad\\xe1v\\x037\\xb6\\x17\\x7f\\xdaM\\xe6>7\\x95\\x18\\xf4\\xe3j\\x8d}c\\xa1\\x8a\\x97\\x8e\\xb2\\x1bG\\xe925\\xaa\\xd60\\r\\xdc\\xd8\\x91\\xf5i7\\xf9\\xe8\\x86\\xba\\xd2\\xdc\\xd1\\x94\\xdd\\x00S\\xcft\\x94>w\\xad\\xd2\\xc6QrnX\\x1b\\xb8\\xb1\\xf3\\xd0\\xa7\\xdd\\x14\\xa3\\x1b\\xea\\xf6sG\\xd3+\\x1as\\x0e\\xd3\\xe7^:\\xca\\xb5A\\x13\\xd4\\xd3T\\xad\\xe1v\\x037e\\x84\\x9brtCCt\\xee\\xa8\\x187\\xc0T\\x1bG\\xd9\\x8d\\xa3\\xdc\\xd3T\\xada\\x1a\\xb8\\x19\\xe6\\xce\\xcf\\xce\\x02\\xd5\\xe8\\x86\\xba\\xd4\\xdcQ\\xd1\\xd3\\x1c\\xe6\\xda\\xa8\\xb4v\\x94<6*5\\xdcB\\xe0f\\x08`\\x9fus5\\xba\\xa9h\\x16p4%\\xbc\\x00\\xa6\\xda8\\xca\\xb5q\\x94k\\xa3j\\rk\\x037\\xd7\\x11n\\xaeG74@\\xe6\\x8ef<C\\x03\\x93\\x1bG\\xd9\\x8d\\xa3\\xecF\\xd5\\x1a\\xa6\\x81\\x1b\\x9b\\xa5>_\\x1c+\\x1e\\xd6\\x96k^\\x86\\x1d\\x16\\x13\\x01\\xe4b\\xc5ur\\xb6\\x045{\\x02\\xe6\\xa9M\\xa8CW\\x14D\\xce\\xe7\\x8c\\xc4\\xad\\xa3\"]8.z]\\x02=\\x07\\t\\x15\\xd7\\xba\\xba\\x01\\x16\\xb6\\\\#\\x1f8\\xb4\\x15\\x93\\x0e\\x12\\xac\\xcc\\x9c\\x0f\\xc03^\\x84\\xbc\\x9em\\xe9\\x11AW7\\xc0\\xc2\\xd6\\xd9\\x94\\x90\\xc4\\xc4\\x04+\\x1e\\xfa`B\\xbdj\\x0e\\x9e\\xd1\\x92\\xbb\\xf0z\\xb6\\xa5\\xa6\\x82\\x1aj\\x9e\\xf4tl\\x04\\x0e\\xab\\x15\\x93\\x17\\x12\\xac\\xd5\\x9c\\x18\\xc0SaK\\xcd\\x01K\\xdfL\\xe8\\xb6\\xd6q\\x03,\\xaau67$1\\xc1\\xc1\\x8a\\xc7jqt\\x00O\\xe9\\xad\\x17^\\xcf\\xd5\\xd2\\xd3\\x83\\xaentl\\x04\\x0e\\xab\\x15\\x93 \\x12\\xac\\xf4\\x9c!\\xc0S\\x9a!\\x17^\\xcf\\xb6\\xd4pQC-:\\xa1\\x1a/\\x8cP\\x87\\xb6b\\xa2D\\x82e\\x9c\\xc3\\x04xJv\\x17^\\xcf\\xb6\\x10>\\xb8\\x13\\xea\\x81\\x02\\x8d\\x88Nx6R$1\\x99\\xc2\\x8a\\xc7N\\xc8\\xa9\\x02\\\\\\xdaR\\xb3\\xc2\\x12r\\xb1n\\xe9\\xc9BW\\x1b\\xffY\\xde\\xafMX\\xad\\x98p\\x91 \\x04p\\xbc\\x00\\x97cK\\r\\rK/\\xe7j95M\\xb3\\r\\xd4\\xa2ZgCF\\x1a\\x132\\xacx\\xac\\x16\\xa7\\x0c\\xf0\\x8cC\\xa0\\xe7\\xd4\\t\\x81\\xb9Z\\xbe\\xf5P\\xdd\\xe8\\xd8\\x88F\\xc2\\xef\\xea1)#E\\x9a\\xe0\\x94\\xe19\\xcd\\x90\\x0bp\\x8e\\xea^N\\xd5\\x02\\xe6)Co\\xc4\\x08uh+j\\x0f\\x02{\\x05b\\x17\\x02\\x9cSFzb\\x1fB\\xc5\\xb5\\xaen\\x80\\xb9\\x13\\nuh+&e\\xa4\\xd8`\\xe0\\x94\\x01.R\\x86\\xd7s\\'\\xd4w$\\xa0\\x16\\xd5R3\\x89\\x11\\xea\\xd0VL\\xcaH\\xb1\\xd3\\xc0)\\xc3s\\x9e\\xe0\\xc1E\\'\\xd4\\xb7&|+<\\xb6\\xf4\\xcd\\t\\xd1vh+&e\\xd8\\xfd\\xcdq\\xcf\\x8bS\\x86\\xe7b\\xca\\xd0\\xb7( \\x17S\\x86\\x1a>\\x1a\\xa8\\xe9\\xda\\x18\\xd1Hh+&e\\xa4\\x88\\x07\\x9c2<\\xe7\\xf0\\x04.\\xaa\\xa5oV\\xf8V\\xb8Zz\\xca\\x80\\xfa\\xc4\\x17\\x934&eX\\xf1X-N\\x19\\xe0\\t\\xef\\'y\\xcecK\\x8d\\x13\\xb5\\xaen\\x80\\xc5\\x94q6e\\xa41)\\xc3\\x8aG[\\x9c2\\xc0\\xa5-=ex9O\\xf0\\xea^G\\xa3\\xab\\r\\xf0\\xa9j\\xc5\\xa4\\x8c\\x149\\x80S\\x06x&:\\xa1\\x9e2 \\x17cK\\xdf\\xc8\\xd0\\xd5\\x06\\xf8\\xa3\\x83\\x07c+\\x8bI\\x19V<V\\x8bS\\x06\\xb8\\xd8\\x9c\\x01\\xe7\\xb1\\x05\\xcc\\xb6|\\xeb4\\xb6\\xf4F\\x8ch$\\xb4\\x15\\x9322\\x972\\xb8*sp\\xb1\\x1f\\xe89\\x8d-`\\xde{\\xd6q\\xa3c#ph+&ed.\\x1ed\\x9c2\\xc0E\\x82\\x07\\x17\\xd5\\xd2\\xf72\\xa0\\xe6\\xe5X\\xc7F\\xb4\\x1d\\xda\\x8a:\\xf2p\\x0b>w\\xb6y\\xe6x\\xcec\\x0b\\\\\\xd8:q\\xeeq\\xe2\\xe0CO\\x19h\\xfb\\xc4\\x94\\x91\\xc5\\xa4\\x0c+\\x1e\\xc6\\x16\\x87\\xa4\\xb9\\xe7\\xbc\\xf1\\t\\xce\\xfb\\x84\\xc0bl\\xa9\\xa7%\\r\\xd4\\xbc\\x1c\\x8bF\\xc2j\\xc5\\xa4\\x8c\\xcc\\xe5\\x80\\x8cS\\x06\\xb8\\xd8\\'\\xf4\\x9c\\xc7\\x96\\xbe\\x97\\x015o\\x7f\\xea\\xd8\\x00\\x9f\\xaaVL\\xca\\xc8\\xdc\\x82\\x9fq\\xca\\x00\\x97S\\x86~\"\\xe2\\xe5\\xb4n\\x01\\x0b[\\xfa\\xa1\\x08\\xd4\\xa7l\\xc5\\xa4\\x8c\\xcc\\xad\\xec\\xbc\\xcd9\\x07\\x17\\x9b\\xd5^\\xcf\\xd5\\xd2S\\x86o\\x85\\'x\\xfdt\\x04\\xeaS\\xb6bRF\\xe6r\\x00\\x7f\\x0b\\x9e{\\xce\\xfb\\x84\\xe0b\\xcaP\\xc3G\\xad\\xab\\x1b`\\x0eOB\\x1d\\x8e\\xad\\x98\\x94\\x91\\xe1\\xf0\\x83S\\x86\\xe7\\xf4\\xf9\\x17\\xe0b\\xcaP7-j\\xa8E\\'\\xd4\\xcfK\\x84:\\xb0\\x95\\xc7\\xa4\\x0c+\\x1egBN\\x19\\x9e\\xb3-p\\xae\\x160\\xcf\\x84\\xba\\xba\\xd1\\xd5F\\xa8C[1)#w)\\x83\\xd7\\xa79\\xb8<\\xdf\\xd6OL\\xbc\\x9c\\xa6\\x0c`^\\x8e\\x81y\\x82\\x17\\xea\\xd0VL\\xca\\xc8]<\\xc89e\\x80\\x8b\\t\\x1e\\\\TKO\\x19\\xbe\\x15\\x9a2\\xf4F\\x0c\\xf0\\x89)#\\x8fI\\x19V<t\\xc2\\x9c\\xf72\\xc0\\x13\\xde\\xac\\xf6\\x9cfB`\\xd1\\t\\xf5\\x94\\xa1\\xab\\x8d\\xc0a\\xb5\\xa2\\xee\\xb0p9 \\x17\\xf7X }\\x88\\x9b,\\xf4\\x13\\x93\\xfc\\xc4m\\x16z\\xca\\x80\\x9agB\\x81C[1)#\\xc7\\xbd\\x16\\x9c2\\xc0\\xc5\\xfd\\t\\xe0\\xa2\\x13\\xea)CW7\\xc0\\xc2\\x167\\x12\\xda\\x8aI\\x19\\xb9[\\xf0sN\\x19\\xe0\\xe24\\xd2\\xeb\\xb9\\x13\\xea{\\x19P\\xf3f5\\xb0\\x982\\xce\\xde{\\x91\\xc7\\xa4\\x0c+\\x1e\\xc7\\x16\\xefe\\x80\\x8b\\x94\\x01N}v\\t,\\xc6\\x96zcF\\x03\\xb5\\xb0\\xc5\\xe1#\\xacVL\\xca\\xc8]<\\xc8y/\\x03\\\\N\\xf0\\xfa^\\x06\\xe4\\xc2\\x96~b\\xa2\\xab\\r\\xf0\\x87\\xdb\\xd0VL\\xca\\xc8\\xdd\\x82\\x9fs\\xca\\x00\\x17_\\xfa\\xc19e\\x00\\x0b[\\xfa\\x89\\t\\xd4\\xa2ZgOL\\x8a\\x98\\x94a\\xc5c\\'\\xe4\\x94\\x01.\\xaa\\xe59\\x8d-\\x1d\\xd7\\xc0\\x1c\\x9e\\x80y\\xca\\x10\\xea\\xa0ZEL\\xca\\xb0\\xe2\\xc1VAo1\\x07\\x17\\x87\\xac\\x9e\\xb3-\\xbe\\xa5b\\xbc\\x83\\xb0\\x86\\x9aS\\x060WK\\xa8C[1)\\xa3p\\xf1\\xa0\\xe0\\x94\\x01.\\x8e\\x16<g[\\xeaM\\x9a5\\xd4\\xa2Z\\xea\\xf9\\x8a\\x11\\xea\\xd0VL\\xca(\\\\\\x0e(8e\\x80\\xa7\\x1cu=g[\\xfa}\\x19P\\x8bj\\xe9{\\x19B\\x1d\\xda\\x8aI\\x19\\x85\\xcb\\x01\\x05\\xa7\\x0cp\\xb1\\xfd\\xe99\\xdbR\\xe3D\\r5\\xaf[\\xc0bl\\x9d\\xbf\\x9f3\\xea\\x86N\\xb7\\xb2\\x17\\xe2\\x96N\\xecq\\xf0AP\\xa1\\x9f\\x98\\xe8\\xb8\\x06\\x16\\xd5:q_\\xe7\\xd9\\x1b;\\x8b\\x98\\x94a\\xc5\\xe3\\x94\\xc1)\\x03\\\\N\\x19\\xfa^\\x06\\xe4<\\xc1\\x03\\x8b\\xb1\\xa5\\x9f\\x98\\x88F\\xc2N\\x18\\x932\\n\\xb7\\xb2\\x17\\x9c2\\xc0\\xc5\\xf6\\xa7\\xe7\\xdc\\t\\xf5\\xbd\\x0c\\xa8\\x85-}/C\\xa8C[1)\\xa3p9\\xa0\\xe0\\x94\\x01.\\x96c\\xcf\\xd9\\x96\\xbe\\x97\\x01\\xb5\\xe8\\x84\\xaa\\xda\\x08uh+&e\\x14ne/8e\\x80\\xcb\\x99P?1\\x81\\\\tBu\\xd3\\xa2\\xd1\\xd5F\\xe0\\xc0V\\x19\\x932\\xacx\\x1c[\\x9c2\\xc0E\\xca\\x00\\xe7/&\\xc0l\\xcb\\xb7B\\xdf\\x8eu\\xb5\\x118\\xb4\\x15\\x932J\\x17\\x0fJN\\x19\\xe0b\\x82\\x07\\xe7L\\x08Lnk]\\xdd\\xe8j\\x03\\xfc\\xf1QB[1)\\xa3t\\x0b~\\xc9)\\x03\\\\\\xde\\xe6\\xae\\xdf\\x97\\xe1\\xe5\\xb4E\\xa3\\xe3\\x06\\x98\\xd7-\\xe0\\x13\\t\\xbe\\x8cI\\x19V<t\\xc2\\x92S\\x06\\xb8\\xd8\\xcb\\xf0\\x9c\\xa6\\x0c`\\xd1\\t\\xf5\\xbd\\x0c]m\\x04\\x0e\\xab\\x15\\x932J\\xb7\\xb2\\x97\\x9c2\\xc0\\xc5L\\x08.:\\xa1z\\xa7E\\r5\\xcf\\x84:6\\x02\\x87\\xb6bRF\\xe9V\\xf6\\x92S\\x06\\xb8\\xb4\\x85\\xfb8\\xb8Z\\xfa^\\x06Z\\xe1uK\\xc7\\x06\\xf8\\xd4\\xd8\\x8a\\xfa\\xfb\\x11\\xb7\\xe0\\x97\\xe2/Hp\\x92\\xc2Q\\xb7T\\x03\\xc2\\x12\\x98\\x8aX\\xeb\\xb8\\xd1\\x1b1\\x02\\x87\\xd5\\x8aI\\x19\\xa5[\\xf0KN\\x19\\xe0|@\\xb4\\x00\\x17\\x9dPO\\x19P\\x8bj\\xe9)\\x03\\xeaS\\xd5\\x8aI\\x19\\xa5[\\xf0KN\\x19\\xe0b\\x8b\\x06\\x9c\\xb7h\\x80\\xc5\\x94\\xa1\\xefe\\xe8j#pX\\xad\\x98\\x94Q\\xba\\x1cPr\\xca\\x00\\x17Q\\xd7s\\x1e[j\\x9c\\xa8\\xa1\\x16\\xd5R\\xa3\\x8a\\x11\\xea\\xc0V\\x15\\x932\\xacx\\x9c\\xe09e\\x80\\x8b\\xa8\\x0b\\xce)\\x03\\x98\\xab\\xa5\\xe3F\\xc7F\\xe0\\xd0VL\\xca\\xa8\\\\\\xca\\xa88e\\x80\\x8b\\xa3\\x05\\xcf\\xa9Z:\\xae\\x81y\\x82\\xd7\\xb1\\x01>\\xb1\\x1cW1)\\xc3\\x8a\\x87jU\\x9c2\\xc0\\x13\\xbe\\xf1\\xces\\xb6\\xa5\\x9f\\x98@-l\\xa9j#\\xd4a\\xb5bRF\\xe5r@\\xc5)\\x03\\\\\\x8c-p\\xd1\\tq\\x13)\\x85\\'\\xa8\\x85-}/C\\xa8C[1)\\xa3r\\xf1\\xa0\\xe2\\x94\\x01.fB\\xcf\\xb9Zz\\xca\\x80\\x9a\\xa7\\x0c`\\xce\\x84B\\x1d\\xda\\x8aI\\x19\\xf6/\\xea\\xc7N\\xc8)\\x03\\\\\\xa4\\x0c\\xcf\\xd9\\x96\\x9e2\\xa0\\x16\\xb6\\xd4\\r\\x11#\\xd4\\xa1\\xad\\x98\\x94Q\\xb9\\xd4Pq\\xca\\x00\\xcf\\xf86I\\xcf\\xd9\\x96\\xba\\xc5QC\\xcd;O\\xc0\\xe4\\xd6\\x00\\x9fX\\x8e\\xab\\xa8?Wu\\x0b~%\\xfe`\\x15w\\x85\\x8a)\\x03\\x9cm\\xa9G#\\xb5\\xfd(C_\\x10\\xd5\\xd2S\\x86P\\x87\\xd5\\x8aI\\x19\\x95\\xcb\\x01\\x15\\xa7\\x0cp\\xb1\\xab\\x0bN}v\\t,\\xd6-=e\\xe8j#ph+&eTn\\xc1\\xaf8e\\x80\\xcb\\x99P=\\x03YB\\xce\\xdf\\x8e}+\\xf4\\xa5\\x1fXL\\x19gOL\\xaebR\\x86\\x15\\x8fS\\x06\\xa7\\x0cp\\x912\\xc0y\\x82\\xf7r\\x9a\\xe0\\x81y\\x82\\xd7\\xb1\\x118\\xa8\\x96}\\xa0J\\xc4\\x1fO\\xbb\\x94q\\xc5)\\xc362\\xde\\xec\\xca\\x7fc\\xe29\\x8d-\\x1d\\xd7\\xc0<\\xb6\\x80\\xb9ZB\\xedl\\xb9\\xa7\\xb6\\xb8\\x87\\x86\\xbc\\xae\\x9e\\xdb\\xbf\\xaf\\x0e\\xcf\\x9b\\xfdq\\xb2m\\x9f\\xc6g\\xb0\\xd8\\xa9\\xe4\\xe0\\x1e\\xd3b\\x1f{2\\x9d\\xf4\\xdd\\xeb\\xf0d\\x96\\xe1\\xa1)\\x0f]o\\x9f\\xb5\\xe2\\x7f{\\xb1\\xcf\\xe1i\\xedSB\\x86\\xa7\\xb6L\\x9e\\xba\\xae\\xf7\\xbf\\x0cO\\x86y\\x7f\\xb2\\xcf\\xfd\\x1f\\x00\\x00\\x00\\xff\\xff\\x03\\x00PK\\x03\\x04\\x14\\x00\\x06\\x00\\x08\\x00\\x00\\x00!\\x00\\xc1\\x17\\x10\\xbeN\\x07\\x00\\x00\\xc6 \\x00\\x00\\x13\\x00\\x00\\x00xl/theme/theme1.xml\\xecY\\xcd\\x8b\\x1b7\\x14\\xbf\\x17\\xfa?\\x0csw\\xfc5\\xe3\\x8f%\\xde\\xe0\\xcfl\\x93\\xdd$d\\x9d\\x94\\x1c\\xb5\\xb6\\xecQV32\\x92\\xbc\\x1b\\x13\\x02%9\\xf5R(\\xa4\\xa5\\x97Bo=\\x94\\xd2@\\x03\\r\\xbd\\xf4\\x8f\\t$\\xb4\\xe9\\x1f\\xd1\\'\\xcd\\xd8#\\xad\\xe5$\\x9blJZv\\r\\x8bG\\xfe\\xbd\\xa7\\xa7\\xf7\\x9e~z\\xf3t\\xf1\\xd2\\xbd\\x98zG\\x98\\x0b\\xc2\\x92\\x96_\\xbeP\\xf2=\\x9c\\x8c\\xd8\\x98$\\xd3\\x96\\x7fk8(4|OH\\x94\\x8c\\x11e\\tn\\xf9\\x0b,\\xfcK\\xdb\\x9f~r\\x11m\\xc9\\x08\\xc7\\xd8\\x03\\xf9Dl\\xa1\\x96\\x1fI9\\xdb*\\x16\\xc5\\x08\\x86\\x91\\xb8\\xc0f8\\x81\\xdf&\\x8c\\xc7H\\xc2#\\x9f\\x16\\xc7\\x1c\\x1d\\x83\\xde\\x98\\x16+\\xa5R\\xad\\x18#\\x92\\xf8^\\x82bP{}2!#\\xec\\r\\x95J\\x7f{\\xa9\\xbcO\\xe11\\x91B\\r\\x8c(\\xdfW\\xaa\\xb1%\\xa1\\xb1\\xe3\\xc3\\xb2B\\x88\\x85\\xe8R\\xee\\x1d!\\xda\\xf2a\\x9e1;\\x1e\\xe2{\\xd2\\xf7(\\x12\\x12~h\\xf9%\\xfd\\xe7\\x17\\xb7/\\x16\\xd1V&D\\xe5\\x06YCn\\xa0\\xff2\\xb9L`|X\\xd1s\\xf2\\xe9\\xc1j\\xd2 \\x08\\x83Z{\\xa5_\\x03\\xa8\\\\\\xc7\\xf5\\xeb\\xfdZ\\xbf\\xb6\\xd2\\xa7\\x01h4\\x82\\x95\\xa6\\xb6\\xd8:\\xeb\\x95n\\x90a\\rP\\xfa\\xd5\\xa1\\xbbW\\xefU\\xcb\\x16\\xde\\xd0_]\\xb3\\xb9\\x1d\\xaa\\x8f\\x85\\xd7\\xa0T\\x7f\\xb0\\x86\\x1f\\x0c\\xba\\xe0E\\x0b\\xafA)>\\\\\\xc3\\x87\\x9df\\xa7g\\xeb\\xd7\\xa0\\x14_[\\xc3\\xd7K\\xed^P\\xb7\\xf4kPDIr\\xb8\\x86.\\x85\\xb5jw\\xb9\\xda\\x15d\\xc2\\xe8\\x8e\\x13\\xde\\x0c\\x83A\\xbd\\x92)\\xcfQ\\x90\\r\\xab\\xecRSLX\"7\\xe5Z\\x8c\\xee2>\\x00\\x80\\x02R$I\\xe2\\xc9\\xc5\\x0cO\\xd0\\x08\\xb2\\xb8\\x8b(9\\xe0\\xc4\\xdb%\\xd3\\x08\\x12o\\x86\\x12&`\\xb8T)\\rJU\\xf8\\xaf>\\x81\\xfe\\xa6#\\x8a\\xb602\\xa4\\x95]`\\x89X\\x1bR\\xf6xb\\xc4\\xc9L\\xb6\\xfc+\\xa0\\xd57 /\\x9e={\\xfe\\xf0\\xe9\\xf3\\x87\\xbf=\\x7f\\xf4\\xe8\\xf9\\xc3_\\xb2\\xb9\\xb5*Kn\\x07%SS\\xee\\xd5\\x8f_\\xff\\xfd\\xfd\\x17\\xde_\\xbf\\xfe\\xf0\\xea\\xf17\\xe9\\xd4\\'\\xf1\\xc2\\xc4\\xbf\\xfc\\xf9\\xcb\\x97\\xbf\\xff\\xf1:\\xf5\\xb0\\xe2\\xdc\\x15/\\xbe}\\xf2\\xf2\\xe9\\x93\\x17\\xdf}\\xf5\\xe7O\\x8f\\x1d\\xda\\xdb\\x1c\\x1d\\x98\\xf0!\\x89\\xb1\\xf0\\xae\\xe1c\\xef&\\x8ba\\x81\\x0e\\xfb\\xf1\\x01?\\x9d\\xc40B\\xc4\\x92@\\x11\\xe8v\\xa8\\xee\\xcb\\xc8\\x02^[ \\xea\\xc2u\\xb0\\xed\\xc2\\xdb\\x1cX\\xc6\\x05\\xbc<\\xbfk\\xd9\\xba\\x1f\\xf1\\xb9$\\x8e\\x99\\xafF\\xb1\\x05\\xdcc\\x8cv\\x18w:\\xe0\\xaa\\x9a\\xcb\\xf0\\xf0p\\x9eL\\xdd\\x93\\xf3\\xb9\\x89\\xbb\\x89\\xd0\\x91k\\xee.J\\xac\\x00\\xf7\\xe73\\xa0W\\xe2R\\xd9\\x8d\\xb0e\\xe6\\r\\x8a\\x12\\x89\\xa68\\xc1\\xd2S\\xbf\\xb1C\\x8c\\x1d\\xab\\xbbC\\x88\\xe5\\xd7=2\\xe2L\\xb0\\x89\\xf4\\xee\\x10\\xaf\\x83\\x88\\xd3%Cr`%R.\\xb4Cb\\x88\\xcb\\xc2e \\x84\\xda\\xf2\\xcd\\xdem\\xaf\\xc3\\xa8k\\xd5=|d#a[ \\xea0~\\x88\\xa9\\xe5\\xc6\\xcbh.Q\\xecR9D15\\x1d\\xbe\\x8bd\\xe42r\\x7f\\xc1G&\\xae/$Dz\\x8a)\\xf3\\xfac,\\x84K\\xe6:\\x87\\xf5\\x1aA\\xbf\\n\\x0c\\xe3\\x0e\\xfb\\x1e]\\xc46\\x92Kr\\xe8\\xd2\\xb9\\x8b\\x183\\x91=v\\xd8\\x8dP<s\\xdaL\\x92\\xc8\\xc4~&\\x0e!E\\x91w\\x83I\\x17|\\x8f\\xd9;D=C\\x1cP\\xb21\\xdc\\xb7\\t\\xb6\\xc2\\xfdf\"\\xb8\\x05\\xe4j\\x9a\\x94\\'\\x88\\xfae\\xce\\x1d\\xb1\\xbc\\x8c\\x99\\xbd\\x1f\\x17t\\x82\\xb0\\x8be\\xda<\\xb6\\xd8\\xb5\\xcd\\x893;:\\xf3\\xa9\\x95\\xda\\xbb\\x18St\\x8c\\xc6\\x18{\\xb7>sX\\xd0a3\\xcb\\xe7\\xb9\\xd1W\"`\\x95\\x1d\\xecJ\\xac+\\xc8\\xceU\\xf5\\x9c`\\x01e\\x92\\xaak\\xd6)r\\x97\\x08+e\\xf7\\xf1\\x94m\\xb0goq\\x82x\\x16(\\x89\\x11\\xdf\\xa4\\xf9\\x1aD\\xddJ]8\\xe5\\x9cTz\\x9d\\x8e\\x0eM\\xe05\\x02\\xe5\\x1f\\xe4\\x8b\\xd3)\\xd7\\x05\\xe80\\x92\\xbb\\xbfI\\xeb\\x8d\\x08Yg\\x97z\\x16\\xee|]p+~o\\xb3\\xc7`_\\xde=\\xed\\xbe\\x04\\x19|j\\x19 \\xf6\\xb7\\xf6\\xcd\\x10Qk\\x82<a\\x86\\x08\\n\\x0c\\x17\\xdd\\x82\\x88\\x15\\xfe\\\\D\\x9d\\xabZl\\xee\\x94\\x9b\\xd8\\x9b6\\x0f\\x03\\x14FV\\xbd\\x13\\x93\\xe4\\x8d\\xc5\\xcf\\x89\\xb2\\'\\xfcw\\xca\\x1ew\\x01s\\x06\\x05\\x8f[\\xf1\\xfb\\x94:\\x9b(e\\xe7D\\x81\\xb3\\t\\xf7\\x1f,kzh\\x9e\\xdc\\xc0p\\x92\\xacs\\xd6yUs^\\xd5\\xf8\\xff\\xfb\\xaaf\\xd3^>\\xafe\\xcek\\x99\\xf3Z\\xc6\\xf5\\xf6\\xf5Aj\\x99\\xbc|\\x81\\xca&\\xef\\xf2\\xe8\\x9eO\\xbc\\xb1\\xe53!\\x94\\xee\\xcb\\x05\\xc5\\xbbBw}\\x04\\xbc\\xd1\\x8c\\x070\\xa8\\xdbQ\\xba\\'\\xb9j\\x01\\xce\"\\xf8\\x9a5\\x98,\\xdc\\x94#-\\xe3q&?\\'2\\xda\\x8f\\xd0\\x0cZCe\\xdd\\xc0\\x9c\\x8aL\\xf5Tx3&\\xa0c\\xa4\\x87u+\\x15\\x9f\\xd0\\xad\\xfbN\\xf3x\\x8f\\x8d\\xd3Ng\\xb9\\xac\\xba\\x9a\\xa9\\x0b\\x05\\x92\\xf9x)\\\\\\x8dC\\x97J\\xa6\\xe8Z=\\xef\\xde\\xad\\xd4\\xeb~\\xe8TwY\\x97\\x06(\\xd9\\xd3\\x18aLf\\x1bQu\\x18Q_\\x0eB\\x14^g\\x84^\\xd9\\x99X\\xd1tX\\xd1P\\xea\\x97\\xa1ZFq\\xe5\\n0m\\x15\\x15x\\xe5\\xf6\\xe0E\\xbd\\xe5\\x87A\\xdaA\\x86f\\x1c\\x94\\xe7c\\x15\\xa7\\xb4\\x99\\xbc\\x8c\\xae\\n\\xce\\x99Fz\\x933\\xa9\\x99\\x01Pb/3 \\x8ftS\\xd9\\xbaqyjui\\xaa\\xbdE\\xa4-#\\x8ct\\xb3\\x8d0\\xd20\\x82\\x17\\xe1,;\\xcd\\x96\\xfbY\\xc6\\xba\\x99\\x87\\xd42O\\xb9b\\xb9\\x1br3\\xea\\x8d\\x0f\\x11kE\"\\'\\xb8\\x81&&S\\xd0\\xc4;n\\xf9\\xb5j\\x08\\xb7*#4k\\xf9\\x13\\xe8\\x18\\xc3\\xd7x\\x06\\xb9#\\xd4[\\x17\\xa2S\\xb8v\\x19I\\x9en\\xf8wa\\x96\\x19\\x17\\xb2\\x87D\\x94:\\\\\\x93N\\xca\\x061\\x91\\x98{\\x94\\xc4-_-\\x7f\\x95\\r4\\xd1\\x1c\\xa2m+W\\x80\\x10>Z\\xe3\\x9a@+\\x1f\\x9bq\\x10t;\\xc8x2\\xc1#i\\x86\\xdd\\x18Q\\x9eN\\x1f\\x81\\xe1S\\xaep\\xfe\\xaa\\xc5\\xdf\\x1d\\xac$\\xd9\\x1c\\xc2\\xbd\\x1f\\x8d\\x8f\\xbd\\x03:\\xe77\\x11\\xa4XX/+\\x07\\x8e\\x89\\x80\\x8b\\x83r\\xea\\xcd1\\x81\\x9b\\xb0\\x15\\x91\\xe5\\xf9w\\xe2`\\xcah\\xd7\\xbc\\x8a\\xd29\\x94\\x8e#:\\x8bPv\\xa2\\x98d\\x9e\\xc25\\x89\\xae\\xcc\\xd1O+\\x1f\\x18O\\xd9\\x9a\\xc1\\xa1\\xeb.<\\x98\\xaa\\x03\\xf6\\xbdO\\xdd7\\x1f\\xd5\\xcas\\x06i\\xe6g\\xa6\\xc5*\\xea\\xd4t\\x93\\xe9\\x87;\\xe4\\r\\xab\\xf2C\\xd4\\xb2*\\xa5n\\xfdN-r\\xaek.\\xb9\\x0e\\x12\\xd5yJ\\xbc\\xe1\\xd4}\\x8b\\x03\\xc10-\\x9f\\xcc2MY\\xbcN\\xc3\\x8a\\xb3\\xb3Q\\xdb\\xb43,\\x08\\x0cO\\xd46\\xf8muF8=\\xf1\\xae\\'?\\xc8\\x9d\\xccZu@,\\xebJ\\x9d\\xf8\\xfa\\xca\\xdc\\xbc\\xd5f\\x07w\\x81<zp\\x7f8\\xa7R\\xe8PBo\\x97#(\\xfa\\xd2\\x1b\\xc8\\x946`\\x8b\\xdc\\x93Y\\x8d\\x08\\xdf\\xbc9\\'-\\xff~)l\\x07\\xddJ\\xd8-\\x94\\x1aa\\xbf\\x10T\\x83R\\xa1\\x11\\xb6\\xab\\x85v\\x18V\\xcb\\xfd\\xb0\\\\\\xeau*\\x0f\\xe0`\\x91Q\\\\\\x0e\\xd3\\xeb\\xfa\\x01\\\\a\\xd0Evi\\xaf\\xc7\\xd7.\\xee\\xe3\\xe5-\\xcd\\x85\\x11\\x8b\\x8bL_\\xcc\\x17\\xb5\\xe1\\xfa\\xe2\\xbe\\\\\\xd9|q\\xef\\x11 \\x9d\\xfb\\xb5\\xca\\xa0Ymvj\\x85f\\xb5=(\\x04\\xbdN\\xa3\\xd0\\xec\\xd6:\\x85^\\xad[\\xef\\rz\\xdd\\xb0\\xd1\\x1c<\\xf0\\xbd#\\r\\x0e\\xda\\xd5nP\\xeb7\\n\\xb5r\\xb7[\\x08j%e~\\xa3Y\\xa8\\x07\\x95J;\\xa8\\xb7\\x1b\\xfd\\xa0\\xfd +c`\\xe5)}d\\xbe\\x00\\xf7j\\xbb\\xb6\\xff\\x01\\x00\\x00\\xff\\xff\\x03\\x00PK\\x03\\x04\\x14\\x00\\x06\\x00\\x08\\x00\\x00\\x00!\\x00.\\xa5>\\xcb\\x92\\x08\\x00\\x00\\xe0B\\x00\\x00\\r\\x00\\x00\\x00xl/styles.xml\\xcc\\\\m\\x8f\\xe26\\x10\\xfe^\\xa9\\xff!\\x8a\\xd4\\x8f\\\\\\xde\\x81\\xac\\x80ja7\\xedI\\xd7\\xedI\\xb7U\\xfb5\\x84\\x00\\xe9\\xe6\\x05%\\xe1\\x0e\\xae\\xea\\x7f\\xef\\x8c\\x13b\\x9bW\\xb3\\x1b\\xd6\\x15\\xba[b\\xe2g\\xc6\\xf3\\x8c\\xc7\\xf68\\xce\\xe0\\xe7M\\x12+_\\xc3\\xbc\\x88\\xb2t\\xa8\\x1a\\x1ftU\\t\\xd3 \\x9bE\\xe9b\\xa8\\xfe\\xf1\\xecu\\xfa\\xaaR\\x94~:\\xf3\\xe3,\\r\\x87\\xea6,\\xd4\\x9fG?\\xfe0(\\xcam\\x1c~Y\\x86a\\xa9\\x00DZ\\x0c\\xd5eY\\xae\\xee4\\xad\\x08\\x96a\\xe2\\x17\\x1f\\xb2U\\x98\\xc2/\\xf3,O\\xfc\\x12.\\xf3\\x85V\\xac\\xf2\\xd0\\x9f\\x15X)\\x895S\\xd7\\xbbZ\\xe2G\\xa9Z!\\xdc%\\x81\\x08H\\xe2\\xe7/\\xebU\\'\\xc8\\x92\\x95_F\\xd3(\\x8e\\xca-\\xc1R\\x95$\\xb8\\xfb\\xb8H\\xb3\\xdc\\x9f\\xc6\\xa0\\xea\\xc6\\xb0\\xfd@\\xd9\\x18\\xdd\\xdc\\xdcI E\\x07B\\x92(\\xc8\\xb3\"\\x9b\\x97\\x1f\\x00T\\xcb\\xe6\\xf3(\\x08\\x0fuu5W\\xf3\\x03\\x8a\\x04\\xb0\\xafC2\\x1cM7\\xab\\x86\\x8f\\x06\\xf3,-\\x0b%\\xc8\\xd6i\\t\\xe6\\x07c\\x13\\x15\\xef^\\xd2\\xec[\\xea\\xe1oP\\xaaV\\xb7\\x8d\\x06\\xc5w\\xe5\\xab\\x1fC\\x89\\xa1j\\xa3A\\x90\\xc5Y\\xae\\x94`mh,)I\\xfd$\\xac\\xee\\x98\\xf8q4\\xcd#\\xbcm\\xee\\'Q\\xbc\\xad\\x8aMRo\\xe9\\xe7\\x05\\xd0VAa\\t\\xa1\\xac\\xae\\x99D`@,\\xd4P\\xb5\\xff\\x91\\xe4\\xfeA\\x9b-,9h\\xb3\\xf2)Z,\\xcb\\xd7\\xb4\\xdc\\xff\\xfbH\\xcb\\xa7h\\x9f\\x9d\\xdd\\x1dA\\x1dZ\\xb3;\\'\\x9d\\xb4\\x97c\\xfd\\xb8\\x05n#\\xfd\\xd0\\xe7n,\\xfd\\x98\\xb7\\xe7\\x8b\\xe9P\\xf5<\\x88\\x1c\\x86\\xae\\x1f\\xa5\\xff\\xa6._\\x8bw\\':h Q\\xbc\\xd3\\x93\\xd8z\\xcb\\xb3\\xbc\\xde\\x8d[\\xcf\\xf9=\\xe3y5\\x01\\xa8\\x82\\xe5\\xdd\\x96\\x80\\x0b*x\\xf7\\xbd\\x07\\x89$\\xbc\\x87\\xf8S\\x16\\xa8\\x87\\x1cy\\xfd\\x0f\\x03\\xc0\\xadm\\x1f\\xb1q\\xff\\xd0\\x03{\\x1e~\\xe4x\\xa0\\xf4!\\xfff\\xcc\\x939G\\x01\\x93\\x8e(\\x8e\\x9bY\\x91e\\xe1\\x04\\x08JF\\x03\\x98\\xf1\\x95a\\x9ezp\\xa1\\xd4\\xdf\\x9f\\xb7+\\x98\\xfe\\xa409E2\\xb4\\xea\\xbe\\x0bw/r\\x7fk\\x98d0\\x17\\xabPdq4C-\\x16\\x132\\xe9\\xaa\\xc3\\xd0\\xa4\\xfb\\xe8M\\x1e\\x89\\\\F3Q-N\\x80z\\xde\\xa4w\\x03\\xd0\\xc7\\xb1;i_\\xd3\\x89\\xeb\\xb6\\rjz\\xf0i\\x19\\xf4\\xde\\xc1O\\xeb\\xcd\\x07\\xaaZ\\xb3i\\xdd\\xa9\\xed\\xb6\\x94l\\xf0\\x942\\xc2\\xb5\\x85\\xfe\\xa1\\xe7\\xban\\xdf\\xe8\\xf6\\xfb}\\xd7\\xb6\\x0c\\xdb&F\\x9e\\xd6\\x1e\\x1d\\xa5\\xb3p\\x13\\xce\\x86j\\xb753\\x1dj\\xe0\\x80\\x06\\xae\\xd5w\\xbb&(\\xa2\\xdb}\"\\xea]5\\xb0@\\x81\\x9e\\xe3\\xf4\\x1d\\xc35m\\xf8G\\x02\\xfb\\xed5h\\xdb\\xa6\\x8e*\\x9bUF\\x03I\\xac2\\x1aHb\\x95\\xcc\\x81\\xb5\\x16\"\\x7f\\xddS\\xba\\xd2Ye4\\x90\\xc4*\\xa3\\x81$V{-G\\xe0\\x9etV\\x19\\r$\\xb1\\xcah \\x89U\\x92=j\\xb1\\xafB\\xa6N\\xf2\\xb8\\xcah \\x89UF\\x03I\\xac\\xb66\\xf9\\xac#\\xb0+\\x9dUF\\x03I\\xac2\\x1a\\xbc\\x99U\\xb2\\xba\\x82\\xf5\\xdc4\\xcbg\\xb0\\xc7\\xd0\\xe4\\xb9uXKUe\\xa3A\\x1c\\xceKX\\xb9\\xe5\\x98\\xb5\\x85\\xbfe\\xb6\\x82\\xff\\xa7YYB.~4\\x98E\\xfe\"K\\xfd\\x18\\xd7v\\xbb\\x1a\\x025a\\xcf\\x02\\xb6\\'\\x86j\\xb9\\x8c\\x82\\x17\\x10\\xc6eM\\xab9v%\\xe2V\\x12\\x9a\\xe8`\\xe3\\xac\\xdb\\xee\\xd9z\\xcfv\\xccn\\xb5\\xb0iIt\\x12\\xce\\xa2ur\\xd8\\xbaF\\xf6Q\\xfe\\xc0\\x8ch\\xdb\\xcb\\rgl\\x986B\\xea\\x95/M\\x7fh\\xc8_M\\x9f`\\rB5aZ\\xb0\\x02\\xf8\\xc4\\xce%\\x04k\\xb4\\xd1F\\x9ad\\x14m#SC\\xac\\x8dL\\x05\\xc1625Z\\xf2\\xa2Y\\xb6\\x86\\xed\\xb2}\\x82=\\xaf\\xaf\\xebdut\\xb5\\xbf\\x1c\\x07<o\\xcd\\x8bu\\x0e\\xedy\\xb1\\xca\\x11\\x8b^\\xac\\xd3\\x86\\xdf\\x8cM\\xfc\\x90Y\\xa4`\\xdf`j\\x88\\xf9\\rSA\\xd0o\\x98\\x1a\\xaf\\xf3\\x9b\\xa3\\x1d\\x8fKZ\\\\\\xb67w\\xfb95\\xeaP\\x0f#G\\x10\\xc6\\xf1\\x17\\x8c\\xe5\\x7f\\xcd\\x9b\\xe1\\x032\\x17\\xa3\\xc1f\\xae\\xa4\\xeb\\xc4K\\xca\\x8f\\x90\\xb4\\x80]k\\xdc\\xad\\xdc}\\x85\\xf4`\\xfd\\xb5\\x1a*\\xaa\\x0b\\x18BNU\\x82\\rbL\\x19\\x1e\\xa9\\xa4\\xf8\\xabU\\xbc}Z\\'\\xd30\\xf7\\xc8V6\\x91FJ1\\rI\\xaf\\xc6d\\x8c\\xa3\\xd7\\xf7q\\xb4H\\x93\\x90\\xe4^\\xd4\\n\\xe6s\\x9e\\x95aP\\x92\\xadv\\x92C=\\xa5\\x8fuB\\x1f\\xa3\\x06\\x12\\xd1\\xe7-\\xf2\\xed\\x13\\xf2\\xc1N\\xc2\\xf6x\\x8b|X\\xdb\\x1f\\xe5\\x03\\xec\"U>\\xf8\\x99\\x14\\x7f\\x80U\\xf1\\xce\\x1e@\\x01\\xeb\\xd4\\xe7\\xf4i\\xd3#a\\x05\\xb7\\xd3\\x00H\\x90\\xa1\\x01\\xac6v\\x1a\\x80{\\xca\\xd0\\x00f\\xc6;\\r\\xc0A\\xa9\\x06\\xa0\\xce\\x19\\xafxK?00\\xb0\\xd5\\x81\\t|\\x80\\x8a\\x04\\xf9\\xb7\\x12\\t1\\xe6\\xa8\\xc8\\x1b\\xb6\\xf2T\\xf8\\x85&\\xbfKw7\\x98x\\x0b\\x8eN\\xcd\\x0c\\x17\\xb72\\xf3\\xa9\\x10++\\xc40\\xb4CO\\xa3&\\x80\\x8bs\\x1c\\xc0\\xa8\\xdb\\xce\\x90g\\x9c\\x8a\\xf9\\xd2\\x0c\\xc2\\x04]\\xd0\\x81Z\\x04\\xc2\\xc0\\xfbx%\\x13sA\\xa6\\x8c\\x88\\xc78\\x05\\x86\"\\xd9*\\x80:\\xb2U\\x904\\xfc\\x1a\\x8c/`\\xb4\\x92m\\x06I#0\\xeb\\x8f\\xdc\\x10|>H\\xb49\\x11bU\\xe0\\x86\\xe4wT\\x81u\\x06n\\xbc\\x92c\\x06n\\xbc\\x90\\xa3\\x82\\xfc\\xf8h\\xca\\x8a\\x8f\\x8c3\\xc0v\\xb6\\xec\\xc8`\\xca\\n\\x90\\xcc\\nI~|4e\\xc5G\\xd6\\x19\\xe4\\x07HSV\\x80d\\x9cA~|4e\\xc5G\\xd6\\x19\\xe4\\x07HK\\xfe\\x04\\xd2\\x92\\x1f\\x1f\\xad\\x1b\\xc7G\\x8dM\\x98V\\xe9S&s\\xfa\\xba\\xc4\\xa9\\xb2\\x99_\\xcc\\xa02\\x89\\x8a}\\x9ew\\xb5\\xabU\\x13\\x93\\x0e\\xc1\\x83-pN\\xa5\\xca\\x92*\\xcb,\\x8f\\xbe\\xc3r\\x12\\x0f\\xb8\\x04\\x906\\rs\\x15\\x0f&\\x95Q\\xc0\\x96|\\xcb\\xfd\\xd5s\\xb8\\xc1\\xc32$\\xc3\\xbe\\x99\\xc3\\xc6 \\xb6\\x19Z\\xc9d\\x8b\\xf9\\\\qc\\x13\\x05O\\x8b\\x0cUS\\xffI\\xe9(\\xf7\\x01\\x8a\\x01\\x97\\xa8\\x144\\xb0\\x8b\\xac\\xa3\\x18\\xb6\\xf5\\xb1\\xb5\\xe8\\xae\\xc1\\xba\\x80\\x9d\\xb2qUXK<\\x87\\x85\\xe7\\x8c\\x88\\xa9L\\x1c\\x82\\x18,\\x18\\x0e\\xae\\xc5\\x02\\x84\\x1a\\x0b#\\x18\\x83\\x05\\xd1\\xe4Z,\\x10_a\\x91\\x0e@\\xb1 \\x91~5\\x16\\x8c*5\\x16\\x8e/\\x0c\\x16\\xc4\\xfak\\xf5\\x82*5\\x16o{G\\xd0\\xf6\\xf61\\x1e\\xc9D\\x8c\\xb1\\x17\\x10,\\xa2\\x17\\x8bEy\\xc4q\\x9c\\xc1\\x82&_\\x8bEy\\xc4a\\x80\\xc1\\x82&_\\x8bEy\\xc4(\\xc2\\xd8\\x1e\\x84\\\\\\x8bEy\\xc4A\\x9a\\xc1\\x02w\\xbb\\x16\\xab\\xe1\\xd1\\xc6\\xbeO\\xb1\\x1cA\\xdbw\\x8f\\xf2\\x88\\xc1\\x9a\\xb1\\x97\\xa0\\xaf\\xb2X\\x94G\\xdeW-A_e\\xb1(\\x8f\\xbc\\xafb\\x93E\\xec\\xc5bQ\\x1e\\xf98a\\x0b\\xc6\\t\\x16\\x8b\\xf2\\xc8\\xc7\\t[0N\\xb0X\\x94G\\xde\\xf6\\x8e\\xa0\\xed\\xf7#*\\xef\\xf1\\xa6\\xa0\\xc7W(\\x94;\\xde\\xd7\\xe14\\x80\\x90\\xbd+\\x14\\xca\\x1a\\xef\\xe5\\x96\\xa0\\x97W(\\x94/\\xde\\xbfmA\\xff\\xaeP(S|T\\xb1\\x05\\xa3J\\x85Bc&o][\\xd0\\xbac\\x7f\\xb6\\x8b\\xba\\xbc\\xc3\\x98\\x82&\\x81\\xa3\\xa5\\xc1:\\x86\\xa3\\xb7\\x19\\x1e\\xdc%\\xc3\\x1d\\x9cGe\\xbb*\\xae\\x01E\\xba\\xc4d\\x19\\x06/\\xca\\x04\\x06\\xef\\x06\\x88\\xef\\x0f8\\x8c\\x8a\\x00=nV\\xb1\\x9f\\xfae\\x96o\\x15\\x9c\\x1c4p<\\xe9\\x8e \\xdc/Y\\xd6\\xd8\\x88G\\xc0\\x05\\x8d\\x88B\\xbf\\xc21g8A\\xad4\\x93\\x0b\\xde\\x87\\x8d+a\\x9a\\xbe\\xc0\\x9b\\x07\\x93\\x82\\xd7h\\xd3t\\x06\\xde\\xff\\xf0\\xd4\\xf150Mo\\xe0\\x83*\\xce\\x9fD`>\\xa6\\xabu\\xc3\\x10\\x1fKq\\xe8\\x16\\x81\\xf8\\x14\\xa5/\\xe1\\x8c\\xf7\\x1c\\xde\\xc2\\xb8\\x00\\x17Az\\n\\xd7e\\xee7\\xfe\\xb7\\x17\\xb0\\x04\\r\\xf3\\x84\\xcf\\x054\\x18|\\x88 \\xdb\\xfc\\xfbs\\xc6\\'x\\x0c\\xa0\\xf1\\xd1=+\\n\\x9a\\xe0\\xf7u\\xc9\\x98\\x91$\\xe7\\xe9X\\x89y \\x91\\xd6?G%<\\xf9\\xb3\\xeb\\xc4\\\\\\x1f\\xc6\\xed\\x18!\\x88\\x0c&\\xec\\r\\xc4^D\\x11\\xc4\\xf8\\xd3\\xcfS\\xec-\\\\\\xd7\\xdd\\xf3\\xd1\\x13-\\xa2\\xcb\\x1d\\x98\\xfd\\xcf6\\xf4\\x19\\x11b\\xf7\\x12_\\x04@\\x9e\\x1ei\\xd6\\x03`\\xdeY8\\xf7\\xd7q\\xf9\\xdc\\xfc8T\\xe9\\xf7\\xdf\\xc83u\\xe0L\\xf5]\\x9f\\xa3\\xafYI \\x86*\\xfdN\\x8e\\x98C/\\x86GJ \\xdc|*\\xe0\\x018\\xf8\\xab\\xac\\xf3h\\xa8\\xfe\\xf38\\xee\\xb9\\x0f\\x8f\\x9e\\xd9\\xe9\\xeb\\xe3~\\xc7\\xb6B\\xa7\\xe3:\\xe3\\x87\\x8ecO\\xc6\\x0f\\x0f\\x9e\\xab\\x9b\\xfa\\xe4_\\xe6\\x8d\\x04ox\\x1f\\x01y{\\x02<\\xd6b\\xd8wE\\x0co-\\xc8\\xeb\\xc6\\xd6\\xca\\x7f\\xa1eC\\x95\\xb9\\xa8\\xd4\\'\\xeb\\'P\\x9b\\xd5\\xdd5\\xbb\\xfa\\xbdc\\xe8\\x1d\\xcf\\xd2\\x8d\\x8e\\xdd\\xf5\\xfb\\x9d~\\xd7r:\\x9ec\\x98\\x0f]{\\xfc\\xe8x\\x0e\\xa3\\xbb\\xf3\\xca7 \\xe8\\x9aa\\xec\\xde\\x80\\xb01\\x9c\\xbb2J\\xc28Jw\\\\\\xed\\x18bK\\x81$\\xb8<\\xd3\\x08m\\xc7\\x84F_M1\\xfa\\x0f\\x00\\x00\\xff\\xff\\x03\\x00PK\\x03\\x04\\x14\\x00\\x06\\x00\\x08\\x00\\x00\\x00!\\x00\\xd6\\xb9\\xc8x\\xda\\x00\\x00\\x00b\\x01\\x00\\x00\\x14\\x00\\x00\\x00xl/sharedStrings.xml|\\x90AK\\x031\\x10\\x85\\xef\\x82\\xff!\\xe4\\xdef\\xedAE\\x92\\xf4`\\xa9(\\xe8\\xa9\\xc5\\xf3\\xb0;\\xcd\\x86\\xdd\\x9d\\xac\\x99\\x89\\xe8\\xbf7E\\xa4\\xb0\\x07\\x8f\\xef}\\xef1\\xcc\\xb3\\xdb\\xafiT\\x9f\\x989&r\\xfaf\\xddh\\x85\\xd4\\xa6.Rp\\xfax\\xd8\\xaf\\xee\\xb5b\\x01\\xea`L\\x84N\\x7f#\\xeb\\xad\\xbf\\xbe\\xb2\\xcc\\xa2j\\x97\\xd8\\xe9^d~0\\x86\\xdb\\x1e\\'\\xe0u\\x9a\\x91*9\\xa5<\\x81T\\x99\\x83\\xe19#t\\xdc#\\xca4\\x9aM\\xd3\\xdc\\x9a\\t\"i\\xd5\\xa6B\\xe2\\xf4\\x9dV\\x85\\xe2G\\xc1\\xc7?\\xed-Go\\xc5?\\xef\\xac\\x11o\\xcdY\\xfd:G\\x8e\\xb0\\xf4^q\\x84>\\xe6\\x01H\\r\\xb8Z\\xd2w\\x18\\xa4\\xa8Kf\\xc9\\x0fX\\x8b\\xb5\\xba\\x83\\x0c\\xfd\\x12>\\x01\\x85P*}\\x01\\x92B\\xe1\\x9f\\xd3o\\xe7\\x8f\\xc7K\\xc0\\xd4\\x8d\\xfc\\x0f\\x00\\x00\\x00\\xff\\xff\\x03\\x00PK\\x03\\x04\\x14\\x00\\x06\\x00\\x08\\x00\\x00\\x00!\\x00Eq\\x94\\xef@\\x01\\x00\\x00I\\x02\\x00\\x00\\x11\\x00\\x08\\x01docProps/core.xml \\xa2\\x04\\x01(\\xa0\\x00\\x01\\x00\\x00\\x00\\x00\\x00\\x00\\x00\\x00\\x00\\x00\\x00\\x00\\x00\\x00\\x00\\x00\\x00\\x00\\x00\\x00\\x00\\x00\\x00\\x00\\x00\\x00\\x00\\x00\\x00\\x00\\x00\\x00\\x00\\x00\\x00\\x00\\x00\\x00\\x00\\x00\\x00\\x00\\x00\\x00\\x00\\x00\\x00\\x00\\x00\\x00\\x00\\x00\\x00\\x00\\x00\\x00\\x00\\x00\\x00\\x00\\x00\\x00\\x00\\x00\\x00\\x00\\x00\\x00\\x00\\x00\\x00\\x00\\x00\\x00\\x00\\x00\\x00\\x00\\x00\\x00\\x00\\x00\\x00\\x00\\x00\\x00\\x00\\x00\\x00\\x00\\x00\\x00\\x00\\x00\\x00\\x00\\x00\\x00\\x00\\x00\\x00\\x00\\x00\\x00\\x00\\x00\\x00\\x00\\x00\\x00\\x00\\x00\\x00\\x00\\x00\\x00\\x00\\x00\\x00\\x00\\x00\\x00\\x00\\x00\\x00\\x00\\x00\\x00\\x00\\x00\\x00\\x00\\x00\\x00\\x00\\x00\\x00\\x00\\x00\\x00\\x00\\x00\\x00\\x00\\x00\\x00\\x00\\x00\\x00\\x00\\x00\\x00\\x00\\x00\\x00\\x00\\x00\\x00\\x00\\x00\\x00\\x00\\x00\\x00\\x00\\x00\\x00\\x00\\x00\\x00\\x00\\x00\\x00\\x00\\x00\\x00\\x00\\x00\\x00\\x00\\x00\\x00\\x00\\x00\\x00\\x00\\x00\\x00\\x00\\x00\\x00\\x00\\x00\\x00\\x00\\x00\\x00\\x00\\x00\\x00\\x00\\x00\\x00\\x00\\x00\\x00\\x00\\x00\\x00\\x00\\x00\\x00\\x00\\x00\\x00\\x00\\x00\\x00\\x00\\x00\\x00\\x00\\x00\\x00\\x00\\x00\\x00\\x00\\x00\\x00\\x00\\x00\\x00\\x00\\x00\\x00\\x00\\x00\\x00\\x00\\x00\\x00\\x00\\x00\\x00\\x00\\x00\\x00\\x00\\x00\\x00\\x00\\x00\\x00\\x00\\x00\\x8c\\x91]O\\xc20\\x14\\x86\\xefM\\xfc\\x0fK/\\xbc\\xdb\\xba\\x0ePR\\xb7\\x91\\xa8\\xe1FIL\\xc4h\\xbck\\xda\\x034\\xac\\x1fi\\xab\\x83\\x7fo\\x190\\xf1\\xe3\\xc2\\xcb\\xe6}\\xfb\\xf49\\xa7\\xe5d\\xa3\\x9a\\xe4\\x03\\x9c\\x97FW\\x88d9J@s#\\xa4^V\\xe8y>M\\xc7(\\xf1\\x81i\\xc1\\x1a\\xa3\\xa1B[\\xf0hR\\x9f\\x9f\\x95\\xdcRn\\x1c<:c\\xc1\\x05\\t>\\x89$\\xed)\\xb7\\x15Z\\x85`)\\xc6\\x9e\\xaf@1\\x9f\\xc5\\x86\\x8e\\xe1\\xc28\\xc5B<\\xba%\\xb6\\x8c\\xaf\\xd9\\x12p\\x91\\xe7\\x97XA`\\x82\\x05\\x86w\\xc0\\xd4\\xf6Dt@\\n\\xde#\\xed\\xbbk:\\x80\\xe0\\x18\\x1aP\\xa0\\x83\\xc7$#\\xf8\\xab\\x1b\\xc0)\\xff\\xe7\\x85.9i*\\x19\\xb66\\xcet\\xd0=e\\x0b\\xbe\\x0f\\xfb\\xf6\\xc6\\xcb\\xbe\\xd8\\xb6m\\xd6\\x0e:\\x8d\\xe8O\\xf0\\xeb\\xec\\xe1\\xa9\\x1b5\\x95z\\xb7+\\x0e\\xa8\\xde\\xed\\xa7a>\\xcc\\xe2*\\x17\\x12\\xc4\\xcd\\xb6\\xbe7k\\xb3J.\\x98\\xb2\\xd7\\xc9\\xcc8\\xa9K\\xfc\\xbbT\\n\\xdeiR\\xee\\x80\\x05\\x10I|\\x98\\xee5\\x8f\\xc9\\xcb\\xe0\\xf6n>Eu\\x91\\x17yJ\\x8a\\x94\\x8c\\xe6\\xf9\\x98\\x921\\x1d\\\\\\xbd\\x95\\xf8\\xc7\\xfd\\xba\\x07\\xaa\\x83\\xc9\\xbf\\x89\\xc3!-F\\'\\xc4#\\xa0\\xee\\xbc\\xbf\\x7f~\\xfd\\t\\x00\\x00\\xff\\xff\\x03\\x00PK\\x03\\x04\\x14\\x00\\x06\\x00\\x08\\x00\\x00\\x00!\\x00\\x95$\\xab\\xe9\\x8a\\x01\\x00\\x00\\x0b\\x03\\x00\\x00\\x10\\x00\\x08\\x01docProps/app.xml \\xa2\\x04\\x01(\\xa0\\x00\\x01\\x00\\x00\\x00\\x00\\x00\\x00\\x00\\x00\\x00\\x00\\x00\\x00\\x00\\x00\\x00\\x00\\x00\\x00\\x00\\x00\\x00\\x00\\x00\\x00\\x00\\x00\\x00\\x00\\x00\\x00\\x00\\x00\\x00\\x00\\x00\\x00\\x00\\x00\\x00\\x00\\x00\\x00\\x00\\x00\\x00\\x00\\x00\\x00\\x00\\x00\\x00\\x00\\x00\\x00\\x00\\x00\\x00\\x00\\x00\\x00\\x00\\x00\\x00\\x00\\x00\\x00\\x00\\x00\\x00\\x00\\x00\\x00\\x00\\x00\\x00\\x00\\x00\\x00\\x00\\x00\\x00\\x00\\x00\\x00\\x00\\x00\\x00\\x00\\x00\\x00\\x00\\x00\\x00\\x00\\x00\\x00\\x00\\x00\\x00\\x00\\x00\\x00\\x00\\x00\\x00\\x00\\x00\\x00\\x00\\x00\\x00\\x00\\x00\\x00\\x00\\x00\\x00\\x00\\x00\\x00\\x00\\x00\\x00\\x00\\x00\\x00\\x00\\x00\\x00\\x00\\x00\\x00\\x00\\x00\\x00\\x00\\x00\\x00\\x00\\x00\\x00\\x00\\x00\\x00\\x00\\x00\\x00\\x00\\x00\\x00\\x00\\x00\\x00\\x00\\x00\\x00\\x00\\x00\\x00\\x00\\x00\\x00\\x00\\x00\\x00\\x00\\x00\\x00\\x00\\x00\\x00\\x00\\x00\\x00\\x00\\x00\\x00\\x00\\x00\\x00\\x00\\x00\\x00\\x00\\x00\\x00\\x00\\x00\\x00\\x00\\x00\\x00\\x00\\x00\\x00\\x00\\x00\\x00\\x00\\x00\\x00\\x00\\x00\\x00\\x00\\x00\\x00\\x00\\x00\\x00\\x00\\x00\\x00\\x00\\x00\\x00\\x00\\x00\\x00\\x00\\x00\\x00\\x00\\x00\\x00\\x00\\x00\\x00\\x00\\x00\\x00\\x00\\x00\\x00\\x00\\x00\\x00\\x00\\x00\\x00\\x00\\x00\\x00\\x00\\x00\\x00\\x00\\x00\\x00\\x00\\x00\\x00\\x00\\x00\\x00\\x00\\x9c\\x92_k\\xdb0\\x14\\xc5\\xdf\\x07\\xfb\\x0eB\\xef\\x8d\\x9cv\\x94\\x11d\\x95\\xd1vt\\xb0\\xb2@\\xd2\\xee\\xf9V\\xbe\\x8eE\\x14\\xc9H7&\\xd9\\xa7\\xdf\\xb5MS\\xa7\\xdd\\xd3\\xde\\xee\\x9f\\xc3\\xd1OG\\xd27\\x87\\x9d\\x17\\x1d\\xa6\\xecb(\\xe5|VH\\x81\\xc1\\xc6\\xca\\x85M)\\x9f\\xd6\\xdf/\\xbeJ\\x91\\tB\\x05>\\x06,\\xe5\\x11\\xb3\\xbc1\\x9f?\\xe9e\\x8a-&r\\x98\\x05[\\x84\\\\\\xca\\x86\\xa8](\\x95m\\x83;\\xc83^\\x07\\xde\\xd41\\xed\\x80\\xb8M\\x1b\\x15\\xeb\\xdaY\\xbc\\x8bv\\xbf\\xc3@\\xea\\xb2(\\xae\\x15\\x1e\\x08C\\x85\\xd5E{2\\x94\\xa3\\xe3\\xa2\\xa3\\xff5\\xad\\xa2\\xed\\xf9\\xf2\\xf3\\xfa\\xd82\\xb0\\xd1\\xdf\\xda\\xd6;\\x0b\\xc4\\xb74\\x8f\\xce\\xa6\\x98cM\\xe2\\xfe`\\xd1k5]j\\xa6[\\xa1\\xdd\\'GGSh5m\\xf5\\xca\\x82\\xc7[665\\xf8\\x8cZ\\xbd\\r\\xf4\\x03B\\x1f\\xda\\x12\\\\\\xcaFw\\xb4\\xe8\\xd0RL\"\\xbb?\\x1c\\xdb\\xa5\\x14/\\x90\\xb1\\xc7)e\\x07\\xc9A \\xc6\\xeaec3\\xd4\\xbe\\xcd\\x94\\xcc\\xef\\x98\\xb6\\xb9A\\xa4\\xac\\x15\\x0b\\xc6\\xe1PN\\xb5\\xd3\\xda}1\\xf3A\\xc0\\xc5\\xb9\\xb07\\x18Axq\\x8e\\xb8v\\xe41\\xff\\xaa\\x97\\x90\\xe8\\x1f\\xc4\\xf3)\\xf1\\xc00\\xf2\\x8e8w@ ~\\xbc\\xec\\xc5#zh\\\\\\xdaB\\xf8\\x00;\\xdc\\x9f\\x8f}w\\xd0O\\x17\\xb6\\xf9\\xa9]G\\xf6\\xc0\\xd7 \\xcf\\x87z\\xd5@\\xc2\\x8a\\xb3?\\x05}\\x1a\\xe8\\x07\\xce0\\xf9\\xde\\xe4\\xb6\\x81\\xb0\\xc1\\xeaU\\xf3q\\xd1?\\xfb\\xf3\\xf8\\xb7\\xcd\\xfczV\\\\\\x15\\xfc\\xa2\\x93\\x99Vo\\xbf\\xd8\\xfc\\x05\\x00\\x00\\xff\\xff\\x03\\x00PK\\x01\\x02-\\x00\\x14\\x00\\x06\\x00\\x08\\x00\\x00\\x00!\\x00b\\xee\\x9dh^\\x01\\x00\\x00\\x90\\x04\\x00\\x00\\x13\\x00\\x00\\x00\\x00\\x00\\x00\\x00\\x00\\x00\\x00\\x00\\x00\\x00\\x00\\x00\\x00\\x00[Content_Types].xmlPK\\x01\\x02-\\x00\\x14\\x00\\x06\\x00\\x08\\x00\\x00\\x00!\\x00\\xb5U0#\\xf4\\x00\\x00\\x00L\\x02\\x00\\x00\\x0b\\x00\\x00\\x00\\x00\\x00\\x00\\x00\\x00\\x00\\x00\\x00\\x00\\x00\\x97\\x03\\x00\\x00_rels/.relsPK\\x01\\x02-\\x00\\x14\\x00\\x06\\x00\\x08\\x00\\x00\\x00!\\x00j\\xef\\x10\\x06\\x91\\x02\\x00\\x00\\xab\\x05\\x00\\x00\\x0f\\x00\\x00\\x00\\x00\\x00\\x00\\x00\\x00\\x00\\x00\\x00\\x00\\x00\\xbc\\x06\\x00\\x00xl/workbook.xmlPK\\x01\\x02-\\x00\\x14\\x00\\x06\\x00\\x08\\x00\\x00\\x00!\\x00\\x81>\\x94\\x97\\xf3\\x00\\x00\\x00\\xba\\x02\\x00\\x00\\x1a\\x00\\x00\\x00\\x00\\x00\\x00\\x00\\x00\\x00\\x00\\x00\\x00\\x00z\\t\\x00\\x00xl/_rels/workbook.xml.relsPK\\x01\\x02-\\x00\\x14\\x00\\x06\\x00\\x08\\x00\\x00\\x00!\\x00\\x1a\\xc1\\xbaf\\xc4\\x0b\\x00\\x00\\x1eH\\x00\\x00\\x18\\x00\\x00\\x00\\x00\\x00\\x00\\x00\\x00\\x00\\x00\\x00\\x00\\x00\\xad\\x0b\\x00\\x00xl/worksheets/sheet1.xmlPK\\x01\\x02-\\x00\\x14\\x00\\x06\\x00\\x08\\x00\\x00\\x00!\\x00\\xc1\\x17\\x10\\xbeN\\x07\\x00\\x00\\xc6 \\x00\\x00\\x13\\x00\\x00\\x00\\x00\\x00\\x00\\x00\\x00\\x00\\x00\\x00\\x00\\x00\\xa7\\x17\\x00\\x00xl/theme/theme1.xmlPK\\x01\\x02-\\x00\\x14\\x00\\x06\\x00\\x08\\x00\\x00\\x00!\\x00.\\xa5>\\xcb\\x92\\x08\\x00\\x00\\xe0B\\x00\\x00\\r\\x00\\x00\\x00\\x00\\x00\\x00\\x00\\x00\\x00\\x00\\x00\\x00\\x00&\\x1f\\x00\\x00xl/styles.xmlPK\\x01\\x02-\\x00\\x14\\x00\\x06\\x00\\x08\\x00\\x00\\x00!\\x00\\xd6\\xb9\\xc8x\\xda\\x00\\x00\\x00b\\x01\\x00\\x00\\x14\\x00\\x00\\x00\\x00\\x00\\x00\\x00\\x00\\x00\\x00\\x00\\x00\\x00\\xe3\\'\\x00\\x00xl/sharedStrings.xmlPK\\x01\\x02-\\x00\\x14\\x00\\x06\\x00\\x08\\x00\\x00\\x00!\\x00Eq\\x94\\xef@\\x01\\x00\\x00I\\x02\\x00\\x00\\x11\\x00\\x00\\x00\\x00\\x00\\x00\\x00\\x00\\x00\\x00\\x00\\x00\\x00\\xef(\\x00\\x00docProps/core.xmlPK\\x01\\x02-\\x00\\x14\\x00\\x06\\x00\\x08\\x00\\x00\\x00!\\x00\\x95$\\xab\\xe9\\x8a\\x01\\x00\\x00\\x0b\\x03\\x00\\x00\\x10\\x00\\x00\\x00\\x00\\x00\\x00\\x00\\x00\\x00\\x00\\x00\\x00\\x00f+\\x00\\x00docProps/app.xmlPK\\x05\\x06\\x00\\x00\\x00\\x00\\n\\x00\\n\\x00\\x80\\x02\\x00\\x00&.\\x00\\x00\\x00\\x00'}"
            ]
          },
          "metadata": {},
          "execution_count": 2
        }
      ]
    },
    {
      "cell_type": "markdown",
      "source": [
        "# Data Exploration"
      ],
      "metadata": {
        "id": "XDfVrQC84K_k"
      }
    },
    {
      "cell_type": "code",
      "source": [
        "df=pd.read_excel('Dataset Case Study 3 - Prediksi Cara Kelahiran Bayi.xlsx')"
      ],
      "metadata": {
        "id": "luZlf51n0vbK"
      },
      "execution_count": null,
      "outputs": []
    },
    {
      "cell_type": "code",
      "source": [
        "print(df)"
      ],
      "metadata": {
        "colab": {
          "base_uri": "https://localhost:8080/"
        },
        "id": "TPpRcBMU1H9U",
        "outputId": "1c7b0a9c-d699-4d77-f68f-67cda2af6794"
      },
      "execution_count": null,
      "outputs": [
        {
          "output_type": "stream",
          "name": "stdout",
          "text": [
            "    ID  Usia  Melahirkan ke-  Waktu Melahirkan  Tekanan Darah  \\\n",
            "0    1    22               1                 0              2   \n",
            "1    2    26               2                 0              1   \n",
            "2    3    26               2                 1              1   \n",
            "3    4    28               1                 0              2   \n",
            "4    5    22               2                 0              1   \n",
            "..  ..   ...             ...               ...            ...   \n",
            "75  76    27               2                 1              1   \n",
            "76  77    33               4                 0              1   \n",
            "77  78    29               2                 1              2   \n",
            "78  79    25               1                 2              0   \n",
            "79  80    24               2                 2              1   \n",
            "\n",
            "    Gangguan Jantung  Melahirkan Normal  \n",
            "0                  0                  1  \n",
            "1                  0                  0  \n",
            "2                  0                  1  \n",
            "3                  0                  1  \n",
            "4                  0                  0  \n",
            "..               ...                ...  \n",
            "75                 0                  1  \n",
            "76                 0                  0  \n",
            "77                 0                  0  \n",
            "78                 0                  0  \n",
            "79                 0                  1  \n",
            "\n",
            "[80 rows x 7 columns]\n"
          ]
        }
      ]
    },
    {
      "cell_type": "code",
      "source": [
        "df.shape"
      ],
      "metadata": {
        "colab": {
          "base_uri": "https://localhost:8080/"
        },
        "id": "Qa25aOJk1Z4a",
        "outputId": "a9e4452a-dec4-488e-e4b2-e5902ff9f14e"
      },
      "execution_count": null,
      "outputs": [
        {
          "output_type": "execute_result",
          "data": {
            "text/plain": [
              "(80, 7)"
            ]
          },
          "metadata": {},
          "execution_count": 5
        }
      ]
    },
    {
      "cell_type": "markdown",
      "source": [
        "terdapat 80 baris dan 7 kolom"
      ],
      "metadata": {
        "id": "05WiBkdw_E-q"
      }
    },
    {
      "cell_type": "code",
      "source": [
        "df.isnull().sum()"
      ],
      "metadata": {
        "colab": {
          "base_uri": "https://localhost:8080/"
        },
        "id": "KluMihvn1bws",
        "outputId": "e9e582b8-2fe8-4af3-c64d-6c65957087c7"
      },
      "execution_count": null,
      "outputs": [
        {
          "output_type": "execute_result",
          "data": {
            "text/plain": [
              "ID                   0\n",
              "Usia                 0\n",
              "Melahirkan ke-       0\n",
              "Waktu Melahirkan     0\n",
              "Tekanan Darah        0\n",
              "Gangguan Jantung     0\n",
              "Melahirkan Normal    0\n",
              "dtype: int64"
            ]
          },
          "metadata": {},
          "execution_count": 6
        }
      ]
    },
    {
      "cell_type": "markdown",
      "source": [
        "tidak ada data kosong"
      ],
      "metadata": {
        "id": "ovmQeCdw_Jjj"
      }
    },
    {
      "cell_type": "code",
      "source": [
        "df.describe().T"
      ],
      "metadata": {
        "colab": {
          "base_uri": "https://localhost:8080/",
          "height": 269
        },
        "id": "YlouekyCj4YR",
        "outputId": "09b6fa3f-ffba-42e1-ff66-6b6c2b5949ba"
      },
      "execution_count": null,
      "outputs": [
        {
          "output_type": "execute_result",
          "data": {
            "text/plain": [
              "                   count     mean        std   min    25%   50%    75%   max\n",
              "ID                  80.0  40.5000  23.237900   1.0  20.75  40.5  60.25  80.0\n",
              "Usia                80.0  27.6875   5.017927  17.0  25.00  27.0  32.00  40.0\n",
              "Melahirkan ke-      80.0   1.6625   0.794662   1.0   1.00   1.0   2.00   4.0\n",
              "Waktu Melahirkan    80.0   0.6375   0.815107   0.0   0.00   0.0   1.00   2.0\n",
              "Tekanan Darah       80.0   1.0000   0.711568   0.0   0.75   1.0   1.25   2.0\n",
              "Gangguan Jantung    80.0   0.3750   0.487177   0.0   0.00   0.0   1.00   1.0\n",
              "Melahirkan Normal   80.0   0.4250   0.497462   0.0   0.00   0.0   1.00   1.0"
            ],
            "text/html": [
              "\n",
              "  <div id=\"df-a9470295-45c5-42ba-898a-d0b2cb221636\">\n",
              "    <div class=\"colab-df-container\">\n",
              "      <div>\n",
              "<style scoped>\n",
              "    .dataframe tbody tr th:only-of-type {\n",
              "        vertical-align: middle;\n",
              "    }\n",
              "\n",
              "    .dataframe tbody tr th {\n",
              "        vertical-align: top;\n",
              "    }\n",
              "\n",
              "    .dataframe thead th {\n",
              "        text-align: right;\n",
              "    }\n",
              "</style>\n",
              "<table border=\"1\" class=\"dataframe\">\n",
              "  <thead>\n",
              "    <tr style=\"text-align: right;\">\n",
              "      <th></th>\n",
              "      <th>count</th>\n",
              "      <th>mean</th>\n",
              "      <th>std</th>\n",
              "      <th>min</th>\n",
              "      <th>25%</th>\n",
              "      <th>50%</th>\n",
              "      <th>75%</th>\n",
              "      <th>max</th>\n",
              "    </tr>\n",
              "  </thead>\n",
              "  <tbody>\n",
              "    <tr>\n",
              "      <th>ID</th>\n",
              "      <td>80.0</td>\n",
              "      <td>40.5000</td>\n",
              "      <td>23.237900</td>\n",
              "      <td>1.0</td>\n",
              "      <td>20.75</td>\n",
              "      <td>40.5</td>\n",
              "      <td>60.25</td>\n",
              "      <td>80.0</td>\n",
              "    </tr>\n",
              "    <tr>\n",
              "      <th>Usia</th>\n",
              "      <td>80.0</td>\n",
              "      <td>27.6875</td>\n",
              "      <td>5.017927</td>\n",
              "      <td>17.0</td>\n",
              "      <td>25.00</td>\n",
              "      <td>27.0</td>\n",
              "      <td>32.00</td>\n",
              "      <td>40.0</td>\n",
              "    </tr>\n",
              "    <tr>\n",
              "      <th>Melahirkan ke-</th>\n",
              "      <td>80.0</td>\n",
              "      <td>1.6625</td>\n",
              "      <td>0.794662</td>\n",
              "      <td>1.0</td>\n",
              "      <td>1.00</td>\n",
              "      <td>1.0</td>\n",
              "      <td>2.00</td>\n",
              "      <td>4.0</td>\n",
              "    </tr>\n",
              "    <tr>\n",
              "      <th>Waktu Melahirkan</th>\n",
              "      <td>80.0</td>\n",
              "      <td>0.6375</td>\n",
              "      <td>0.815107</td>\n",
              "      <td>0.0</td>\n",
              "      <td>0.00</td>\n",
              "      <td>0.0</td>\n",
              "      <td>1.00</td>\n",
              "      <td>2.0</td>\n",
              "    </tr>\n",
              "    <tr>\n",
              "      <th>Tekanan Darah</th>\n",
              "      <td>80.0</td>\n",
              "      <td>1.0000</td>\n",
              "      <td>0.711568</td>\n",
              "      <td>0.0</td>\n",
              "      <td>0.75</td>\n",
              "      <td>1.0</td>\n",
              "      <td>1.25</td>\n",
              "      <td>2.0</td>\n",
              "    </tr>\n",
              "    <tr>\n",
              "      <th>Gangguan Jantung</th>\n",
              "      <td>80.0</td>\n",
              "      <td>0.3750</td>\n",
              "      <td>0.487177</td>\n",
              "      <td>0.0</td>\n",
              "      <td>0.00</td>\n",
              "      <td>0.0</td>\n",
              "      <td>1.00</td>\n",
              "      <td>1.0</td>\n",
              "    </tr>\n",
              "    <tr>\n",
              "      <th>Melahirkan Normal</th>\n",
              "      <td>80.0</td>\n",
              "      <td>0.4250</td>\n",
              "      <td>0.497462</td>\n",
              "      <td>0.0</td>\n",
              "      <td>0.00</td>\n",
              "      <td>0.0</td>\n",
              "      <td>1.00</td>\n",
              "      <td>1.0</td>\n",
              "    </tr>\n",
              "  </tbody>\n",
              "</table>\n",
              "</div>\n",
              "      <button class=\"colab-df-convert\" onclick=\"convertToInteractive('df-a9470295-45c5-42ba-898a-d0b2cb221636')\"\n",
              "              title=\"Convert this dataframe to an interactive table.\"\n",
              "              style=\"display:none;\">\n",
              "        \n",
              "  <svg xmlns=\"http://www.w3.org/2000/svg\" height=\"24px\"viewBox=\"0 0 24 24\"\n",
              "       width=\"24px\">\n",
              "    <path d=\"M0 0h24v24H0V0z\" fill=\"none\"/>\n",
              "    <path d=\"M18.56 5.44l.94 2.06.94-2.06 2.06-.94-2.06-.94-.94-2.06-.94 2.06-2.06.94zm-11 1L8.5 8.5l.94-2.06 2.06-.94-2.06-.94L8.5 2.5l-.94 2.06-2.06.94zm10 10l.94 2.06.94-2.06 2.06-.94-2.06-.94-.94-2.06-.94 2.06-2.06.94z\"/><path d=\"M17.41 7.96l-1.37-1.37c-.4-.4-.92-.59-1.43-.59-.52 0-1.04.2-1.43.59L10.3 9.45l-7.72 7.72c-.78.78-.78 2.05 0 2.83L4 21.41c.39.39.9.59 1.41.59.51 0 1.02-.2 1.41-.59l7.78-7.78 2.81-2.81c.8-.78.8-2.07 0-2.86zM5.41 20L4 18.59l7.72-7.72 1.47 1.35L5.41 20z\"/>\n",
              "  </svg>\n",
              "      </button>\n",
              "      \n",
              "  <style>\n",
              "    .colab-df-container {\n",
              "      display:flex;\n",
              "      flex-wrap:wrap;\n",
              "      gap: 12px;\n",
              "    }\n",
              "\n",
              "    .colab-df-convert {\n",
              "      background-color: #E8F0FE;\n",
              "      border: none;\n",
              "      border-radius: 50%;\n",
              "      cursor: pointer;\n",
              "      display: none;\n",
              "      fill: #1967D2;\n",
              "      height: 32px;\n",
              "      padding: 0 0 0 0;\n",
              "      width: 32px;\n",
              "    }\n",
              "\n",
              "    .colab-df-convert:hover {\n",
              "      background-color: #E2EBFA;\n",
              "      box-shadow: 0px 1px 2px rgba(60, 64, 67, 0.3), 0px 1px 3px 1px rgba(60, 64, 67, 0.15);\n",
              "      fill: #174EA6;\n",
              "    }\n",
              "\n",
              "    [theme=dark] .colab-df-convert {\n",
              "      background-color: #3B4455;\n",
              "      fill: #D2E3FC;\n",
              "    }\n",
              "\n",
              "    [theme=dark] .colab-df-convert:hover {\n",
              "      background-color: #434B5C;\n",
              "      box-shadow: 0px 1px 3px 1px rgba(0, 0, 0, 0.15);\n",
              "      filter: drop-shadow(0px 1px 2px rgba(0, 0, 0, 0.3));\n",
              "      fill: #FFFFFF;\n",
              "    }\n",
              "  </style>\n",
              "\n",
              "      <script>\n",
              "        const buttonEl =\n",
              "          document.querySelector('#df-a9470295-45c5-42ba-898a-d0b2cb221636 button.colab-df-convert');\n",
              "        buttonEl.style.display =\n",
              "          google.colab.kernel.accessAllowed ? 'block' : 'none';\n",
              "\n",
              "        async function convertToInteractive(key) {\n",
              "          const element = document.querySelector('#df-a9470295-45c5-42ba-898a-d0b2cb221636');\n",
              "          const dataTable =\n",
              "            await google.colab.kernel.invokeFunction('convertToInteractive',\n",
              "                                                     [key], {});\n",
              "          if (!dataTable) return;\n",
              "\n",
              "          const docLinkHtml = 'Like what you see? Visit the ' +\n",
              "            '<a target=\"_blank\" href=https://colab.research.google.com/notebooks/data_table.ipynb>data table notebook</a>'\n",
              "            + ' to learn more about interactive tables.';\n",
              "          element.innerHTML = '';\n",
              "          dataTable['output_type'] = 'display_data';\n",
              "          await google.colab.output.renderOutput(dataTable, element);\n",
              "          const docLink = document.createElement('div');\n",
              "          docLink.innerHTML = docLinkHtml;\n",
              "          element.appendChild(docLink);\n",
              "        }\n",
              "      </script>\n",
              "    </div>\n",
              "  </div>\n",
              "  "
            ]
          },
          "metadata": {},
          "execution_count": 7
        }
      ]
    },
    {
      "cell_type": "code",
      "source": [
        "col_names = ['Usia','Melahirkan ke-','Waktu Melahirkan','Tekanan Darah','Gangguan Jantung','Melahirkan Normal']\n",
        "for col in col_names:\n",
        "  print(df[col].value_counts())"
      ],
      "metadata": {
        "colab": {
          "base_uri": "https://localhost:8080/"
        },
        "id": "rvCt3gv6kORI",
        "outputId": "d043755e-d5f2-4e4e-dbf6-b8e80e10376e"
      },
      "execution_count": null,
      "outputs": [
        {
          "output_type": "stream",
          "name": "stdout",
          "text": [
            "26    10\n",
            "32     8\n",
            "25     7\n",
            "27     7\n",
            "29     6\n",
            "28     6\n",
            "33     5\n",
            "22     4\n",
            "20     3\n",
            "36     3\n",
            "30     3\n",
            "31     3\n",
            "21     2\n",
            "24     2\n",
            "18     2\n",
            "35     2\n",
            "19     2\n",
            "17     1\n",
            "37     1\n",
            "40     1\n",
            "23     1\n",
            "38     1\n",
            "Name: Usia, dtype: int64\n",
            "1    41\n",
            "2    27\n",
            "3    10\n",
            "4     2\n",
            "Name: Melahirkan ke-, dtype: int64\n",
            "0    46\n",
            "1    17\n",
            "2    17\n",
            "Name: Waktu Melahirkan, dtype: int64\n",
            "1    40\n",
            "2    20\n",
            "0    20\n",
            "Name: Tekanan Darah, dtype: int64\n",
            "0    50\n",
            "1    30\n",
            "Name: Gangguan Jantung, dtype: int64\n",
            "0    46\n",
            "1    34\n",
            "Name: Melahirkan Normal, dtype: int64\n"
          ]
        }
      ]
    },
    {
      "cell_type": "markdown",
      "source": [
        "**DUPLIKASI**\n",
        "\n",
        "Caru duplicasi untuk cek jika input variabel sama dan output variabelnya beda"
      ],
      "metadata": {
        "id": "qErF6WHfGfFH"
      }
    },
    {
      "cell_type": "code",
      "source": [
        "df['duplicated'] = df.duplicated()\n",
        "df['duplicated'].value_counts()"
      ],
      "metadata": {
        "colab": {
          "base_uri": "https://localhost:8080/"
        },
        "id": "JRselabaHJaQ",
        "outputId": "06648910-452b-47e4-f342-c55908cb4611"
      },
      "execution_count": null,
      "outputs": [
        {
          "output_type": "execute_result",
          "data": {
            "text/plain": [
              "False    80\n",
              "Name: duplicated, dtype: int64"
            ]
          },
          "metadata": {},
          "execution_count": 9
        }
      ]
    },
    {
      "cell_type": "markdown",
      "source": [
        "tidak ada data duplikat"
      ],
      "metadata": {
        "id": "8OpMn0FYH_e2"
      }
    },
    {
      "cell_type": "code",
      "source": [
        "df = df.drop('duplicated', axis=1)"
      ],
      "metadata": {
        "id": "0shWYxZx-XcN"
      },
      "execution_count": null,
      "outputs": []
    },
    {
      "cell_type": "code",
      "source": [
        "df.info()"
      ],
      "metadata": {
        "colab": {
          "base_uri": "https://localhost:8080/"
        },
        "id": "8ajV7qRy1o2G",
        "outputId": "9f65a392-11e6-4576-ff91-83b9130c9fb0"
      },
      "execution_count": null,
      "outputs": [
        {
          "output_type": "stream",
          "name": "stdout",
          "text": [
            "<class 'pandas.core.frame.DataFrame'>\n",
            "RangeIndex: 80 entries, 0 to 79\n",
            "Data columns (total 7 columns):\n",
            " #   Column             Non-Null Count  Dtype\n",
            "---  ------             --------------  -----\n",
            " 0   ID                 80 non-null     int64\n",
            " 1   Usia               80 non-null     int64\n",
            " 2   Melahirkan ke-     80 non-null     int64\n",
            " 3   Waktu Melahirkan   80 non-null     int64\n",
            " 4   Tekanan Darah      80 non-null     int64\n",
            " 5   Gangguan Jantung   80 non-null     int64\n",
            " 6   Melahirkan Normal  80 non-null     int64\n",
            "dtypes: int64(7)\n",
            "memory usage: 4.5 KB\n"
          ]
        }
      ]
    },
    {
      "cell_type": "markdown",
      "source": [
        "**Visualisasi data kesehatan dan riwayat melahirkan**"
      ],
      "metadata": {
        "id": "db6__RKyIO4h"
      }
    },
    {
      "cell_type": "code",
      "source": [
        "df[['Usia','Melahirkan ke-','Melahirkan Normal']].describe()"
      ],
      "metadata": {
        "colab": {
          "base_uri": "https://localhost:8080/",
          "height": 300
        },
        "id": "_JeipZbPIi63",
        "outputId": "97fdf43d-f3e2-4e4a-a444-f1964918f3ee"
      },
      "execution_count": null,
      "outputs": [
        {
          "output_type": "execute_result",
          "data": {
            "text/plain": [
              "            Usia  Melahirkan ke-  Melahirkan Normal\n",
              "count  80.000000       80.000000          80.000000\n",
              "mean   27.687500        1.662500           0.425000\n",
              "std     5.017927        0.794662           0.497462\n",
              "min    17.000000        1.000000           0.000000\n",
              "25%    25.000000        1.000000           0.000000\n",
              "50%    27.000000        1.000000           0.000000\n",
              "75%    32.000000        2.000000           1.000000\n",
              "max    40.000000        4.000000           1.000000"
            ],
            "text/html": [
              "\n",
              "  <div id=\"df-c705bf9c-0661-471b-907a-42e8d410a301\">\n",
              "    <div class=\"colab-df-container\">\n",
              "      <div>\n",
              "<style scoped>\n",
              "    .dataframe tbody tr th:only-of-type {\n",
              "        vertical-align: middle;\n",
              "    }\n",
              "\n",
              "    .dataframe tbody tr th {\n",
              "        vertical-align: top;\n",
              "    }\n",
              "\n",
              "    .dataframe thead th {\n",
              "        text-align: right;\n",
              "    }\n",
              "</style>\n",
              "<table border=\"1\" class=\"dataframe\">\n",
              "  <thead>\n",
              "    <tr style=\"text-align: right;\">\n",
              "      <th></th>\n",
              "      <th>Usia</th>\n",
              "      <th>Melahirkan ke-</th>\n",
              "      <th>Melahirkan Normal</th>\n",
              "    </tr>\n",
              "  </thead>\n",
              "  <tbody>\n",
              "    <tr>\n",
              "      <th>count</th>\n",
              "      <td>80.000000</td>\n",
              "      <td>80.000000</td>\n",
              "      <td>80.000000</td>\n",
              "    </tr>\n",
              "    <tr>\n",
              "      <th>mean</th>\n",
              "      <td>27.687500</td>\n",
              "      <td>1.662500</td>\n",
              "      <td>0.425000</td>\n",
              "    </tr>\n",
              "    <tr>\n",
              "      <th>std</th>\n",
              "      <td>5.017927</td>\n",
              "      <td>0.794662</td>\n",
              "      <td>0.497462</td>\n",
              "    </tr>\n",
              "    <tr>\n",
              "      <th>min</th>\n",
              "      <td>17.000000</td>\n",
              "      <td>1.000000</td>\n",
              "      <td>0.000000</td>\n",
              "    </tr>\n",
              "    <tr>\n",
              "      <th>25%</th>\n",
              "      <td>25.000000</td>\n",
              "      <td>1.000000</td>\n",
              "      <td>0.000000</td>\n",
              "    </tr>\n",
              "    <tr>\n",
              "      <th>50%</th>\n",
              "      <td>27.000000</td>\n",
              "      <td>1.000000</td>\n",
              "      <td>0.000000</td>\n",
              "    </tr>\n",
              "    <tr>\n",
              "      <th>75%</th>\n",
              "      <td>32.000000</td>\n",
              "      <td>2.000000</td>\n",
              "      <td>1.000000</td>\n",
              "    </tr>\n",
              "    <tr>\n",
              "      <th>max</th>\n",
              "      <td>40.000000</td>\n",
              "      <td>4.000000</td>\n",
              "      <td>1.000000</td>\n",
              "    </tr>\n",
              "  </tbody>\n",
              "</table>\n",
              "</div>\n",
              "      <button class=\"colab-df-convert\" onclick=\"convertToInteractive('df-c705bf9c-0661-471b-907a-42e8d410a301')\"\n",
              "              title=\"Convert this dataframe to an interactive table.\"\n",
              "              style=\"display:none;\">\n",
              "        \n",
              "  <svg xmlns=\"http://www.w3.org/2000/svg\" height=\"24px\"viewBox=\"0 0 24 24\"\n",
              "       width=\"24px\">\n",
              "    <path d=\"M0 0h24v24H0V0z\" fill=\"none\"/>\n",
              "    <path d=\"M18.56 5.44l.94 2.06.94-2.06 2.06-.94-2.06-.94-.94-2.06-.94 2.06-2.06.94zm-11 1L8.5 8.5l.94-2.06 2.06-.94-2.06-.94L8.5 2.5l-.94 2.06-2.06.94zm10 10l.94 2.06.94-2.06 2.06-.94-2.06-.94-.94-2.06-.94 2.06-2.06.94z\"/><path d=\"M17.41 7.96l-1.37-1.37c-.4-.4-.92-.59-1.43-.59-.52 0-1.04.2-1.43.59L10.3 9.45l-7.72 7.72c-.78.78-.78 2.05 0 2.83L4 21.41c.39.39.9.59 1.41.59.51 0 1.02-.2 1.41-.59l7.78-7.78 2.81-2.81c.8-.78.8-2.07 0-2.86zM5.41 20L4 18.59l7.72-7.72 1.47 1.35L5.41 20z\"/>\n",
              "  </svg>\n",
              "      </button>\n",
              "      \n",
              "  <style>\n",
              "    .colab-df-container {\n",
              "      display:flex;\n",
              "      flex-wrap:wrap;\n",
              "      gap: 12px;\n",
              "    }\n",
              "\n",
              "    .colab-df-convert {\n",
              "      background-color: #E8F0FE;\n",
              "      border: none;\n",
              "      border-radius: 50%;\n",
              "      cursor: pointer;\n",
              "      display: none;\n",
              "      fill: #1967D2;\n",
              "      height: 32px;\n",
              "      padding: 0 0 0 0;\n",
              "      width: 32px;\n",
              "    }\n",
              "\n",
              "    .colab-df-convert:hover {\n",
              "      background-color: #E2EBFA;\n",
              "      box-shadow: 0px 1px 2px rgba(60, 64, 67, 0.3), 0px 1px 3px 1px rgba(60, 64, 67, 0.15);\n",
              "      fill: #174EA6;\n",
              "    }\n",
              "\n",
              "    [theme=dark] .colab-df-convert {\n",
              "      background-color: #3B4455;\n",
              "      fill: #D2E3FC;\n",
              "    }\n",
              "\n",
              "    [theme=dark] .colab-df-convert:hover {\n",
              "      background-color: #434B5C;\n",
              "      box-shadow: 0px 1px 3px 1px rgba(0, 0, 0, 0.15);\n",
              "      filter: drop-shadow(0px 1px 2px rgba(0, 0, 0, 0.3));\n",
              "      fill: #FFFFFF;\n",
              "    }\n",
              "  </style>\n",
              "\n",
              "      <script>\n",
              "        const buttonEl =\n",
              "          document.querySelector('#df-c705bf9c-0661-471b-907a-42e8d410a301 button.colab-df-convert');\n",
              "        buttonEl.style.display =\n",
              "          google.colab.kernel.accessAllowed ? 'block' : 'none';\n",
              "\n",
              "        async function convertToInteractive(key) {\n",
              "          const element = document.querySelector('#df-c705bf9c-0661-471b-907a-42e8d410a301');\n",
              "          const dataTable =\n",
              "            await google.colab.kernel.invokeFunction('convertToInteractive',\n",
              "                                                     [key], {});\n",
              "          if (!dataTable) return;\n",
              "\n",
              "          const docLinkHtml = 'Like what you see? Visit the ' +\n",
              "            '<a target=\"_blank\" href=https://colab.research.google.com/notebooks/data_table.ipynb>data table notebook</a>'\n",
              "            + ' to learn more about interactive tables.';\n",
              "          element.innerHTML = '';\n",
              "          dataTable['output_type'] = 'display_data';\n",
              "          await google.colab.output.renderOutput(dataTable, element);\n",
              "          const docLink = document.createElement('div');\n",
              "          docLink.innerHTML = docLinkHtml;\n",
              "          element.appendChild(docLink);\n",
              "        }\n",
              "      </script>\n",
              "    </div>\n",
              "  </div>\n",
              "  "
            ]
          },
          "metadata": {},
          "execution_count": 11
        }
      ]
    },
    {
      "cell_type": "markdown",
      "source": [
        "Usia berkisar dari 17 hingga 40 tahun, dengan rata-rata 27,7 tahun. Semua wanita memiliki setidaknya satu persalinan sebelumnya, rata-rata 1,66 persalinan sebelumnya dan maksimal 4 persalinan sebelumnya."
      ],
      "metadata": {
        "id": "y_bIrpe-I8fv"
      }
    },
    {
      "cell_type": "code",
      "source": [
        "# Plotting countplot\n",
        "\n",
        "fig = plt.figure(figsize=(15,10))\n",
        "\n",
        "fig.add_subplot(221)\n",
        "plt.title('Waktu Melahirkan', fontsize=12)\n",
        "sns.countplot(df['Waktu Melahirkan'])\n",
        "\n",
        "fig.add_subplot(2,2,2)\n",
        "plt.title('Tekanan Darah', fontsize=12)\n",
        "sns.countplot(df['Tekanan Darah'])\n",
        "\n",
        "fig.add_subplot(223)\n",
        "plt.title('Gangguan Jantung', fontsize=12)\n",
        "sns.countplot(df['Gangguan Jantung'])\n",
        "\n",
        "fig.add_subplot(2,2,4)\n",
        "plt.title('Melahirkan Normal', fontsize=12)\n",
        "sns.countplot(df['Melahirkan Normal'])\n",
        "\n",
        "plt.show()"
      ],
      "metadata": {
        "colab": {
          "base_uri": "https://localhost:8080/",
          "height": 717
        },
        "id": "lMhQPS_-1e9d",
        "outputId": "5c01c695-4987-4c91-a58e-1cef2913fda4"
      },
      "execution_count": null,
      "outputs": [
        {
          "output_type": "stream",
          "name": "stderr",
          "text": [
            "/usr/local/lib/python3.8/dist-packages/seaborn/_decorators.py:36: FutureWarning: Pass the following variable as a keyword arg: x. From version 0.12, the only valid positional argument will be `data`, and passing other arguments without an explicit keyword will result in an error or misinterpretation.\n",
            "  warnings.warn(\n",
            "/usr/local/lib/python3.8/dist-packages/seaborn/_decorators.py:36: FutureWarning: Pass the following variable as a keyword arg: x. From version 0.12, the only valid positional argument will be `data`, and passing other arguments without an explicit keyword will result in an error or misinterpretation.\n",
            "  warnings.warn(\n",
            "/usr/local/lib/python3.8/dist-packages/seaborn/_decorators.py:36: FutureWarning: Pass the following variable as a keyword arg: x. From version 0.12, the only valid positional argument will be `data`, and passing other arguments without an explicit keyword will result in an error or misinterpretation.\n",
            "  warnings.warn(\n",
            "/usr/local/lib/python3.8/dist-packages/seaborn/_decorators.py:36: FutureWarning: Pass the following variable as a keyword arg: x. From version 0.12, the only valid positional argument will be `data`, and passing other arguments without an explicit keyword will result in an error or misinterpretation.\n",
            "  warnings.warn(\n"
          ]
        },
        {
          "output_type": "display_data",
          "data": {
            "text/plain": [
              "<Figure size 1080x720 with 4 Axes>"
            ],
            "image/png": "[encoded data removed]"
          },
          "metadata": {
            "needs_background": "light"
          }
        }
      ]
    },
    {
      "cell_type": "markdown",
      "source": [
        "Hampir 50% ibu hamil memiliki tekanan darah normal. Jumlah wanita dengan tekanan darah rendah dan tinggi berada dalam urutan yang sama besarnya.\n",
        "50% wanita memiliki tepat satu persalinan sebelumnya.\n",
        "Lebih dari 50% wanita hamil memiliki waktu persalinan tepat waktu. Jumlah wanita dengan waktu persalinan prematur dan terlambat berada dalam urutan yang sama besarnya.\n",
        "Mayoritas wanita tidak memiliki masalah jantung.\n",
        "Sebagian besar wanita menjalani operasi caesar (57,5%).\n",
        "\n"
      ],
      "metadata": {
        "id": "tKLKa-ihJyZd"
      }
    },
    {
      "cell_type": "code",
      "source": [
        "df.describe()"
      ],
      "metadata": {
        "colab": {
          "base_uri": "https://localhost:8080/",
          "height": 362
        },
        "id": "UrxTb5lu1ubw",
        "outputId": "4d2ea86b-5564-4d82-d635-fed9a4685669"
      },
      "execution_count": null,
      "outputs": [
        {
          "output_type": "execute_result",
          "data": {
            "text/plain": [
              "            ID       Usia  Melahirkan ke-  Waktu Melahirkan  Tekanan Darah  \\\n",
              "count  80.0000  80.000000       80.000000         80.000000      80.000000   \n",
              "mean   40.5000  27.687500        1.662500          0.637500       1.000000   \n",
              "std    23.2379   5.017927        0.794662          0.815107       0.711568   \n",
              "min     1.0000  17.000000        1.000000          0.000000       0.000000   \n",
              "25%    20.7500  25.000000        1.000000          0.000000       0.750000   \n",
              "50%    40.5000  27.000000        1.000000          0.000000       1.000000   \n",
              "75%    60.2500  32.000000        2.000000          1.000000       1.250000   \n",
              "max    80.0000  40.000000        4.000000          2.000000       2.000000   \n",
              "\n",
              "       Gangguan Jantung  Melahirkan Normal  \n",
              "count         80.000000          80.000000  \n",
              "mean           0.375000           0.425000  \n",
              "std            0.487177           0.497462  \n",
              "min            0.000000           0.000000  \n",
              "25%            0.000000           0.000000  \n",
              "50%            0.000000           0.000000  \n",
              "75%            1.000000           1.000000  \n",
              "max            1.000000           1.000000  "
            ],
            "text/html": [
              "\n",
              "  <div id=\"df-26c5af78-833f-4e7a-8b85-ad64c13902e6\">\n",
              "    <div class=\"colab-df-container\">\n",
              "      <div>\n",
              "<style scoped>\n",
              "    .dataframe tbody tr th:only-of-type {\n",
              "        vertical-align: middle;\n",
              "    }\n",
              "\n",
              "    .dataframe tbody tr th {\n",
              "        vertical-align: top;\n",
              "    }\n",
              "\n",
              "    .dataframe thead th {\n",
              "        text-align: right;\n",
              "    }\n",
              "</style>\n",
              "<table border=\"1\" class=\"dataframe\">\n",
              "  <thead>\n",
              "    <tr style=\"text-align: right;\">\n",
              "      <th></th>\n",
              "      <th>ID</th>\n",
              "      <th>Usia</th>\n",
              "      <th>Melahirkan ke-</th>\n",
              "      <th>Waktu Melahirkan</th>\n",
              "      <th>Tekanan Darah</th>\n",
              "      <th>Gangguan Jantung</th>\n",
              "      <th>Melahirkan Normal</th>\n",
              "    </tr>\n",
              "  </thead>\n",
              "  <tbody>\n",
              "    <tr>\n",
              "      <th>count</th>\n",
              "      <td>80.0000</td>\n",
              "      <td>80.000000</td>\n",
              "      <td>80.000000</td>\n",
              "      <td>80.000000</td>\n",
              "      <td>80.000000</td>\n",
              "      <td>80.000000</td>\n",
              "      <td>80.000000</td>\n",
              "    </tr>\n",
              "    <tr>\n",
              "      <th>mean</th>\n",
              "      <td>40.5000</td>\n",
              "      <td>27.687500</td>\n",
              "      <td>1.662500</td>\n",
              "      <td>0.637500</td>\n",
              "      <td>1.000000</td>\n",
              "      <td>0.375000</td>\n",
              "      <td>0.425000</td>\n",
              "    </tr>\n",
              "    <tr>\n",
              "      <th>std</th>\n",
              "      <td>23.2379</td>\n",
              "      <td>5.017927</td>\n",
              "      <td>0.794662</td>\n",
              "      <td>0.815107</td>\n",
              "      <td>0.711568</td>\n",
              "      <td>0.487177</td>\n",
              "      <td>0.497462</td>\n",
              "    </tr>\n",
              "    <tr>\n",
              "      <th>min</th>\n",
              "      <td>1.0000</td>\n",
              "      <td>17.000000</td>\n",
              "      <td>1.000000</td>\n",
              "      <td>0.000000</td>\n",
              "      <td>0.000000</td>\n",
              "      <td>0.000000</td>\n",
              "      <td>0.000000</td>\n",
              "    </tr>\n",
              "    <tr>\n",
              "      <th>25%</th>\n",
              "      <td>20.7500</td>\n",
              "      <td>25.000000</td>\n",
              "      <td>1.000000</td>\n",
              "      <td>0.000000</td>\n",
              "      <td>0.750000</td>\n",
              "      <td>0.000000</td>\n",
              "      <td>0.000000</td>\n",
              "    </tr>\n",
              "    <tr>\n",
              "      <th>50%</th>\n",
              "      <td>40.5000</td>\n",
              "      <td>27.000000</td>\n",
              "      <td>1.000000</td>\n",
              "      <td>0.000000</td>\n",
              "      <td>1.000000</td>\n",
              "      <td>0.000000</td>\n",
              "      <td>0.000000</td>\n",
              "    </tr>\n",
              "    <tr>\n",
              "      <th>75%</th>\n",
              "      <td>60.2500</td>\n",
              "      <td>32.000000</td>\n",
              "      <td>2.000000</td>\n",
              "      <td>1.000000</td>\n",
              "      <td>1.250000</td>\n",
              "      <td>1.000000</td>\n",
              "      <td>1.000000</td>\n",
              "    </tr>\n",
              "    <tr>\n",
              "      <th>max</th>\n",
              "      <td>80.0000</td>\n",
              "      <td>40.000000</td>\n",
              "      <td>4.000000</td>\n",
              "      <td>2.000000</td>\n",
              "      <td>2.000000</td>\n",
              "      <td>1.000000</td>\n",
              "      <td>1.000000</td>\n",
              "    </tr>\n",
              "  </tbody>\n",
              "</table>\n",
              "</div>\n",
              "      <button class=\"colab-df-convert\" onclick=\"convertToInteractive('df-26c5af78-833f-4e7a-8b85-ad64c13902e6')\"\n",
              "              title=\"Convert this dataframe to an interactive table.\"\n",
              "              style=\"display:none;\">\n",
              "        \n",
              "  <svg xmlns=\"http://www.w3.org/2000/svg\" height=\"24px\"viewBox=\"0 0 24 24\"\n",
              "       width=\"24px\">\n",
              "    <path d=\"M0 0h24v24H0V0z\" fill=\"none\"/>\n",
              "    <path d=\"M18.56 5.44l.94 2.06.94-2.06 2.06-.94-2.06-.94-.94-2.06-.94 2.06-2.06.94zm-11 1L8.5 8.5l.94-2.06 2.06-.94-2.06-.94L8.5 2.5l-.94 2.06-2.06.94zm10 10l.94 2.06.94-2.06 2.06-.94-2.06-.94-.94-2.06-.94 2.06-2.06.94z\"/><path d=\"M17.41 7.96l-1.37-1.37c-.4-.4-.92-.59-1.43-.59-.52 0-1.04.2-1.43.59L10.3 9.45l-7.72 7.72c-.78.78-.78 2.05 0 2.83L4 21.41c.39.39.9.59 1.41.59.51 0 1.02-.2 1.41-.59l7.78-7.78 2.81-2.81c.8-.78.8-2.07 0-2.86zM5.41 20L4 18.59l7.72-7.72 1.47 1.35L5.41 20z\"/>\n",
              "  </svg>\n",
              "      </button>\n",
              "      \n",
              "  <style>\n",
              "    .colab-df-container {\n",
              "      display:flex;\n",
              "      flex-wrap:wrap;\n",
              "      gap: 12px;\n",
              "    }\n",
              "\n",
              "    .colab-df-convert {\n",
              "      background-color: #E8F0FE;\n",
              "      border: none;\n",
              "      border-radius: 50%;\n",
              "      cursor: pointer;\n",
              "      display: none;\n",
              "      fill: #1967D2;\n",
              "      height: 32px;\n",
              "      padding: 0 0 0 0;\n",
              "      width: 32px;\n",
              "    }\n",
              "\n",
              "    .colab-df-convert:hover {\n",
              "      background-color: #E2EBFA;\n",
              "      box-shadow: 0px 1px 2px rgba(60, 64, 67, 0.3), 0px 1px 3px 1px rgba(60, 64, 67, 0.15);\n",
              "      fill: #174EA6;\n",
              "    }\n",
              "\n",
              "    [theme=dark] .colab-df-convert {\n",
              "      background-color: #3B4455;\n",
              "      fill: #D2E3FC;\n",
              "    }\n",
              "\n",
              "    [theme=dark] .colab-df-convert:hover {\n",
              "      background-color: #434B5C;\n",
              "      box-shadow: 0px 1px 3px 1px rgba(0, 0, 0, 0.15);\n",
              "      filter: drop-shadow(0px 1px 2px rgba(0, 0, 0, 0.3));\n",
              "      fill: #FFFFFF;\n",
              "    }\n",
              "  </style>\n",
              "\n",
              "      <script>\n",
              "        const buttonEl =\n",
              "          document.querySelector('#df-26c5af78-833f-4e7a-8b85-ad64c13902e6 button.colab-df-convert');\n",
              "        buttonEl.style.display =\n",
              "          google.colab.kernel.accessAllowed ? 'block' : 'none';\n",
              "\n",
              "        async function convertToInteractive(key) {\n",
              "          const element = document.querySelector('#df-26c5af78-833f-4e7a-8b85-ad64c13902e6');\n",
              "          const dataTable =\n",
              "            await google.colab.kernel.invokeFunction('convertToInteractive',\n",
              "                                                     [key], {});\n",
              "          if (!dataTable) return;\n",
              "\n",
              "          const docLinkHtml = 'Like what you see? Visit the ' +\n",
              "            '<a target=\"_blank\" href=https://colab.research.google.com/notebooks/data_table.ipynb>data table notebook</a>'\n",
              "            + ' to learn more about interactive tables.';\n",
              "          element.innerHTML = '';\n",
              "          dataTable['output_type'] = 'display_data';\n",
              "          await google.colab.output.renderOutput(dataTable, element);\n",
              "          const docLink = document.createElement('div');\n",
              "          docLink.innerHTML = docLinkHtml;\n",
              "          element.appendChild(docLink);\n",
              "        }\n",
              "      </script>\n",
              "    </div>\n",
              "  </div>\n",
              "  "
            ]
          },
          "metadata": {},
          "execution_count": 13
        }
      ]
    },
    {
      "cell_type": "markdown",
      "source": [
        "Missing Data"
      ],
      "metadata": {
        "id": "6DHM_QPcWZ4a"
      }
    },
    {
      "cell_type": "code",
      "source": [
        "plt.figure(figsize=(12,4))\n",
        "sns.heatmap(df.isnull(),cbar=True,cmap=\"viridis\",yticklabels=False)\n",
        "plt.title('Missing value in the dataset');"
      ],
      "metadata": {
        "colab": {
          "base_uri": "https://localhost:8080/",
          "height": 366
        },
        "id": "V3FFAC-01vcU",
        "outputId": "3d8341aa-c63f-4e7b-bde9-4dd300664113"
      },
      "execution_count": null,
      "outputs": [
        {
          "output_type": "display_data",
          "data": {
            "text/plain": [
              "<Figure size 864x288 with 2 Axes>"
            ],
            "image/png": "[encoded data removed]"
          },
          "metadata": {
            "needs_background": "light"
          }
        }
      ]
    },
    {
      "cell_type": "markdown",
      "source": [
        "HeatMap"
      ],
      "metadata": {
        "id": "kmS7yuOfWg6q"
      }
    },
    {
      "cell_type": "code",
      "source": [
        "sns.heatmap(df.corr(),cmap='PRGn',annot=True)"
      ],
      "metadata": {
        "colab": {
          "base_uri": "https://localhost:8080/",
          "height": 371
        },
        "id": "UTVh_BFT1xfT",
        "outputId": "d2ac1427-d782-4849-e2f8-0ba49173de78"
      },
      "execution_count": null,
      "outputs": [
        {
          "output_type": "execute_result",
          "data": {
            "text/plain": [
              "<matplotlib.axes._subplots.AxesSubplot at 0x7f4b7826d250>"
            ]
          },
          "metadata": {},
          "execution_count": 15
        },
        {
          "output_type": "display_data",
          "data": {
            "text/plain": [
              "<Figure size 432x288 with 2 Axes>"
            ],
            "image/png": "[encoded data removed]"
          },
          "metadata": {
            "needs_background": "light"
          }
        }
      ]
    },
    {
      "cell_type": "markdown",
      "source": [
        "**periksa hubungan antara usia dan jumlah persalinan sebelumnya**"
      ],
      "metadata": {
        "id": "E1VqJlC0KNDV"
      }
    },
    {
      "cell_type": "code",
      "source": [
        "p= plt.figure(figsize=(14,6))\n",
        "sns.jointplot(y='Usia',x='Melahirkan ke-',data=df,color=\"Green\")"
      ],
      "metadata": {
        "colab": {
          "base_uri": "https://localhost:8080/",
          "height": 476
        },
        "id": "NlxoCOJF14D1",
        "outputId": "9ff34c6f-fcd8-4a97-9384-a47f56450556"
      },
      "execution_count": null,
      "outputs": [
        {
          "output_type": "execute_result",
          "data": {
            "text/plain": [
              "<seaborn.axisgrid.JointGrid at 0x7f4b7b0a2310>"
            ]
          },
          "metadata": {},
          "execution_count": 16
        },
        {
          "output_type": "display_data",
          "data": {
            "text/plain": [
              "<Figure size 1008x432 with 0 Axes>"
            ]
          },
          "metadata": {}
        },
        {
          "output_type": "display_data",
          "data": {
            "text/plain": [
              "<Figure size 432x432 with 3 Axes>"
            ],
            "image/png": "[encoded data removed]"
          },
          "metadata": {
            "needs_background": "light"
          }
        }
      ]
    },
    {
      "cell_type": "markdown",
      "source": [
        "semakin muda wanita, semakin rendah jumlah persalinan sebelumnya"
      ],
      "metadata": {
        "id": "Gkpykzc3My_X"
      }
    },
    {
      "cell_type": "markdown",
      "source": [
        "**Usia vs Persalinan normal**"
      ],
      "metadata": {
        "id": "FBtQFXUAGgNO"
      }
    },
    {
      "cell_type": "code",
      "source": [
        "fig = plt.figure(figsize=(10,8))\n",
        "title = fig.suptitle(\"C-section according to age and prior number of deliveries\", fontsize=14)\n",
        "\n",
        "sns.FacetGrid(data=df,\n",
        "                  hue='Melahirkan Normal',\n",
        "                  palette={1: \"orange\", 0: \"blue\"})\n",
        "\n",
        "sns.displot(data=df, x='Usia', hue='Melahirkan Normal', bins=20,\n",
        "                      fill=True)"
      ],
      "metadata": {
        "colab": {
          "base_uri": "https://localhost:8080/",
          "height": 612
        },
        "id": "UZiuNM27NAW_",
        "outputId": "a5f21456-057b-4967-bbc4-66c0aa5dbcd6"
      },
      "execution_count": null,
      "outputs": [
        {
          "output_type": "execute_result",
          "data": {
            "text/plain": [
              "<seaborn.axisgrid.FacetGrid at 0x7f4b7b1d4580>"
            ]
          },
          "metadata": {},
          "execution_count": 17
        },
        {
          "output_type": "display_data",
          "data": {
            "text/plain": [
              "<Figure size 720x576 with 0 Axes>"
            ]
          },
          "metadata": {}
        },
        {
          "output_type": "display_data",
          "data": {
            "text/plain": [
              "<Figure size 216x216 with 1 Axes>"
            ],
            "image/png": "[encoded data removed]"
          },
          "metadata": {
            "needs_background": "light"
          }
        },
        {
          "output_type": "display_data",
          "data": {
            "text/plain": [
              "<Figure size 462.5x360 with 1 Axes>"
            ],
            "image/png": "[encoded data removed]"
          },
          "metadata": {
            "needs_background": "light"
          }
        }
      ]
    },
    {
      "cell_type": "markdown",
      "source": [
        "Ada banyak kasus wanita berusia sekitar 25 tahun yang tidak menjalani operasi caesar, sementara banyak kasus wanita berusia 32 tahun yang menjalani operasi caesar. Wanita di atas 36 tahun semuanya menjalani operasi caesar."
      ],
      "metadata": {
        "id": "_nr1U1vhXdIc"
      }
    },
    {
      "cell_type": "code",
      "source": [
        "fig = plt.figure(figsize=(10, 7))\n",
        "\n",
        "cp = sns.countplot(data=df,\n",
        "                   x=\"Melahirkan ke-\",\n",
        "                   hue=\"Melahirkan Normal\")"
      ],
      "metadata": {
        "colab": {
          "base_uri": "https://localhost:8080/",
          "height": 442
        },
        "id": "cbNsYcJT2GFa",
        "outputId": "dbb33e22-02c6-4186-ddd8-c6af44868490"
      },
      "execution_count": null,
      "outputs": [
        {
          "output_type": "display_data",
          "data": {
            "text/plain": [
              "<Figure size 720x504 with 1 Axes>"
            ],
            "image/png": "[encoded data removed]"
          },
          "metadata": {
            "needs_background": "light"
          }
        }
      ]
    },
    {
      "cell_type": "code",
      "source": [
        "fig = plt.figure(figsize=(10, 7))\n",
        "\n",
        "cp = sns.countplot(data=df,\n",
        "                   x=\"Waktu Melahirkan\",\n",
        "                   hue=\"Melahirkan Normal\")"
      ],
      "metadata": {
        "colab": {
          "base_uri": "https://localhost:8080/",
          "height": 442
        },
        "id": "f559XVp2RwRZ",
        "outputId": "a48f333a-849f-4788-c581-1f28f510c991"
      },
      "execution_count": null,
      "outputs": [
        {
          "output_type": "display_data",
          "data": {
            "text/plain": [
              "<Figure size 720x504 with 1 Axes>"
            ],
            "image/png": "[encoded data removed]"
          },
          "metadata": {
            "needs_background": "light"
          }
        }
      ]
    },
    {
      "cell_type": "markdown",
      "source": [
        "Kemunculan operasi caesar lebih tinggi saat waktu persalinan tepat waktu (0), sedangkan hampir seimbang saat prematur (1) atau terlambat (2). Saya akan berpikir bahwa pengiriman waktu yang terlambat akan memiliki lebih banyak operasi caesar."
      ],
      "metadata": {
        "id": "p9NKfSTnXti7"
      }
    },
    {
      "cell_type": "code",
      "source": [
        "fig = plt.figure(figsize=(10, 7))\n",
        "\n",
        "cp = sns.countplot(data=df,\n",
        "                   x=\"Tekanan Darah\",\n",
        "                   hue=\"Melahirkan Normal\")"
      ],
      "metadata": {
        "colab": {
          "base_uri": "https://localhost:8080/",
          "height": 442
        },
        "id": "oCXS7HiRRzHx",
        "outputId": "3f66407f-131d-499f-f18a-88e5e8907b41"
      },
      "execution_count": null,
      "outputs": [
        {
          "output_type": "display_data",
          "data": {
            "text/plain": [
              "<Figure size 720x504 with 1 Axes>"
            ],
            "image/png": "[encoded data removed]"
          },
          "metadata": {
            "needs_background": "light"
          }
        }
      ]
    },
    {
      "cell_type": "markdown",
      "source": [
        "Terjadinya operasi caesar lebih besar ketika ibu hamil memiliki tekanan darah rendah (0) atau tekanan darah tinggi (2) pada sampel ini. Kedua kondisi ini tampaknya memengaruhi kebutuhan operasi caesar."
      ],
      "metadata": {
        "id": "qLZdE8ZOXaSD"
      }
    },
    {
      "cell_type": "code",
      "source": [
        "cp = sns.countplot(data=df,\n",
        "                   x=\"Gangguan Jantung\",\n",
        "                   hue=\"Melahirkan Normal\")"
      ],
      "metadata": {
        "colab": {
          "base_uri": "https://localhost:8080/",
          "height": 279
        },
        "id": "vpFoYLMCR35_",
        "outputId": "90c05bec-a5ca-4112-8a58-1e5da6bdc41c"
      },
      "execution_count": null,
      "outputs": [
        {
          "output_type": "display_data",
          "data": {
            "text/plain": [
              "<Figure size 432x288 with 1 Axes>"
            ],
            "image/png": "[encoded data removed]"
          },
          "metadata": {
            "needs_background": "light"
          }
        }
      ]
    },
    {
      "cell_type": "markdown",
      "source": [
        "Terjadinya operasi caesar jauh lebih besar ketika ibu hamil memiliki masalah jantung, yang tampaknya wajar."
      ],
      "metadata": {
        "id": "6dHjz-FoXhhB"
      }
    },
    {
      "cell_type": "code",
      "source": [
        "g = sns.FacetGrid(df, col=\"Tekanan Darah\",  row=\"Waktu Melahirkan\",hue='Melahirkan Normal')\n",
        "g = g.map(plt.scatter, \"Usia\", \"Melahirkan ke-\").add_legend()"
      ],
      "metadata": {
        "colab": {
          "base_uri": "https://localhost:8080/",
          "height": 657
        },
        "id": "ymNxlwhgT7EB",
        "outputId": "ed24ffcb-6f73-4ebd-9f5d-65235672f908"
      },
      "execution_count": null,
      "outputs": [
        {
          "output_type": "display_data",
          "data": {
            "text/plain": [
              "<Figure size 750.5x648 with 9 Axes>"
            ],
            "image/png": "[encoded data removed]"
          },
          "metadata": {
            "needs_background": "light"
          }
        }
      ]
    },
    {
      "cell_type": "markdown",
      "source": [
        "* Tekanan darah rendah tampaknya berkorelasi positif dengan kebutuhan operasi caesar.\n",
        "> * Semua wanita hamil dengan tekanan darah rendah dan waktu melahirkan tepat waktu menjalani operasi caesar.\n",
        "> * Sebagian besar wanita hamil dengan tekanan darah rendah dan waktu persalinan prematur atau terlambat menjalani operasi caesar.\n",
        "\n",
        "* Sebagian besar wanita hamil dengan tekanan darah tinggi dan persalinan prematur atau tepat waktu menjalani operasi caesar. Kebutuhan operasi caesar lebih seimbang untuk ibu hamil dengan tekanan darah tinggi dan waktu melahirkan yang terlambat.\n",
        "* Saya asumsi bahwa wanita hamil dengan waktu persalinan yang terlambat dan tekanan darah tinggi akan memiliki proporsi yang sama atau bahkan jumlah operasi caesar yang lebih tinggi daripada wanita hamil dengan waktu persalinan prematur atau tepat waktu dan tekanan darah tinggi.\n",
        "* Dalam kasus tekanan darah normal, sebagian besar operasi caesar diamati untuk persalinan tepat waktu. Ini mungkin terkait dengan masalah kesehatan lainnya (misalnya masalah jantung) atau ukuran kumpulan data.\n",
        "* 9 dari 22 wanita hamil dengan tekanan darah normal dan waktu persalinan tepat waktu menjalani operasi caesar\n",
        "* Satu dari 6 wanita hamil dengan tekanan darah normal dan waktu persalinan prematur menjalani operasi caesar.\n",
        "* Satu dari 4 wanita hamil dengan tekanan darah normal dan waktu persalinan terlambat menjalani operasi caesar.*"
      ],
      "metadata": {
        "id": "uFQNRQyUWRKJ"
      }
    },
    {
      "cell_type": "code",
      "source": [
        "g = sns.FacetGrid(df, col=\"Gangguan Jantung\",  row=\"Waktu Melahirkan\",hue='Melahirkan Normal')\n",
        "g = g.map(plt.scatter, \"Usia\", \"Melahirkan ke-\").add_legend()"
      ],
      "metadata": {
        "id": "dWpB6UYE8aEv",
        "colab": {
          "base_uri": "https://localhost:8080/",
          "height": 657
        },
        "outputId": "741440b0-151e-4c88-d88b-2b069535ac92"
      },
      "execution_count": null,
      "outputs": [
        {
          "output_type": "display_data",
          "data": {
            "text/plain": [
              "<Figure size 534.5x648 with 6 Axes>"
            ],
            "image/png": "[encoded data removed]"
          },
          "metadata": {
            "needs_background": "light"
          }
        }
      ]
    },
    {
      "cell_type": "markdown",
      "source": [
        "# Data Pre-Processing"
      ],
      "metadata": {
        "id": "Ye0qsHr_4Ohj"
      }
    },
    {
      "cell_type": "markdown",
      "source": [
        "Karena tidak memiliki nilai yang hilang dalam kumpulan data. Jadi kami akan melanjutkan tanpa membuat perubahan apa pun.\n",
        "\n",
        "Sekarang kita akan membagi dataset kita menjadi nilai fitur[X] dan nilai target[Y] dan menormalkan fitur."
      ],
      "metadata": {
        "id": "0eQwErJjdKtS"
      }
    },
    {
      "cell_type": "code",
      "source": [
        "X=df.iloc[:,1:-1]\n",
        "X=X.values\n",
        "Y=df.iloc[:,-1].values"
      ],
      "metadata": {
        "id": "mk0_PWlIbJry"
      },
      "execution_count": null,
      "outputs": []
    },
    {
      "cell_type": "markdown",
      "source": [
        "X hanya menggunakan Waktu Melahirkan ke-,Waktu Melahirkan,\tTekanan Darah,\tGangguan Jantung,\tMelahirkan Normal"
      ],
      "metadata": {
        "id": "WSXu1ud7d8IF"
      }
    },
    {
      "cell_type": "code",
      "source": [
        "print(X)"
      ],
      "metadata": {
        "colab": {
          "base_uri": "https://localhost:8080/"
        },
        "id": "nm3Vlk7OdbLP",
        "outputId": "9ba7cf47-56ad-4bda-c683-bbc859bc94b6"
      },
      "execution_count": null,
      "outputs": [
        {
          "output_type": "stream",
          "name": "stdout",
          "text": [
            "[[22  1  0  2  0]\n",
            " [26  2  0  1  0]\n",
            " [26  2  1  1  0]\n",
            " [28  1  0  2  0]\n",
            " [22  2  0  1  0]\n",
            " [26  1  1  0  0]\n",
            " [27  2  0  1  0]\n",
            " [32  3  0  1  0]\n",
            " [28  2  0  1  0]\n",
            " [27  1  1  1  0]\n",
            " [36  1  0  1  0]\n",
            " [33  1  1  0  0]\n",
            " [23  1  1  1  0]\n",
            " [20  1  0  1  1]\n",
            " [29  1  2  0  1]\n",
            " [25  1  2  0  0]\n",
            " [25  1  0  1  0]\n",
            " [20  1  2  2  0]\n",
            " [37  3  0  1  1]\n",
            " [24  1  2  0  1]\n",
            " [26  1  1  1  0]\n",
            " [33  2  0  0  1]\n",
            " [25  1  1  2  0]\n",
            " [27  1  0  0  1]\n",
            " [20  1  0  2  1]\n",
            " [18  1  0  1  0]\n",
            " [18  1  1  2  1]\n",
            " [30  1  0  1  0]\n",
            " [32  1  0  2  1]\n",
            " [26  2  1  1  1]\n",
            " [25  1  0  0  0]\n",
            " [40  1  0  1  1]\n",
            " [32  2  0  2  1]\n",
            " [27  2  0  1  1]\n",
            " [26  2  2  1  0]\n",
            " [28  3  0  2  0]\n",
            " [33  1  1  1  0]\n",
            " [31  2  2  1  0]\n",
            " [31  1  0  1  0]\n",
            " [26  1  2  0  1]\n",
            " [27  1  0  2  1]\n",
            " [19  1  0  1  0]\n",
            " [36  1  1  2  0]\n",
            " [22  1  0  1  0]\n",
            " [36  4  0  2  1]\n",
            " [28  3  0  1  1]\n",
            " [26  1  0  1  0]\n",
            " [32  2  0  2  1]\n",
            " [26  2  2  1  0]\n",
            " [29  2  0  0  1]\n",
            " [33  3  2  1  1]\n",
            " [21  2  1  0  1]\n",
            " [30  3  2  2  0]\n",
            " [35  1  1  0  0]\n",
            " [29  2  0  1  1]\n",
            " [25  2  0  1  0]\n",
            " [32  3  1  0  1]\n",
            " [21  1  0  0  0]\n",
            " [26  1  0  2  0]\n",
            " [30  2  1  2  1]\n",
            " [22  1  2  2  0]\n",
            " [19  1  0  1  0]\n",
            " [32  2  0  0  0]\n",
            " [32  2  0  1  1]\n",
            " [31  1  2  2  1]\n",
            " [35  2  0  1  0]\n",
            " [28  3  0  1  0]\n",
            " [29  2  0  1  1]\n",
            " [25  1  0  0  0]\n",
            " [27  2  2  0  0]\n",
            " [17  1  0  0  0]\n",
            " [29  1  2  0  1]\n",
            " [28  2  0  1  0]\n",
            " [32  3  0  1  1]\n",
            " [38  3  2  2  1]\n",
            " [27  2  1  1  0]\n",
            " [33  4  0  1  0]\n",
            " [29  2  1  2  0]\n",
            " [25  1  2  0  0]\n",
            " [24  2  2  1  0]]\n"
          ]
        }
      ]
    },
    {
      "cell_type": "markdown",
      "source": [
        "Data preprocessing : dilakukan normalisasi/standarisasi z-score dengan menggunakan fungsi StandardScaler kemudian hasilnya disimpan sebagai sebuah dataframe dengan nama “X1” (standardized attibutes)"
      ],
      "metadata": {
        "id": "HOjg4D9htgqz"
      }
    },
    {
      "cell_type": "code",
      "source": [
        "from sklearn import preprocessing\n",
        "X1= preprocessing.normalize(X)\n",
        "print(X1)"
      ],
      "metadata": {
        "colab": {
          "base_uri": "https://localhost:8080/"
        },
        "id": "t2T9I_8WeR0O",
        "outputId": "822c18c0-b4fc-4808-b57b-908786e4651b"
      },
      "execution_count": null,
      "outputs": [
        {
          "output_type": "stream",
          "name": "stdout",
          "text": [
            "[[0.99487439 0.04522156 0.         0.09044313 0.        ]\n",
            " [0.99632216 0.07664017 0.         0.03832008 0.        ]\n",
            " [0.99559146 0.07658396 0.03829198 0.03829198 0.        ]\n",
            " [0.9968264  0.03560094 0.         0.07120189 0.        ]\n",
            " [0.99487439 0.09044313 0.         0.04522156 0.        ]\n",
            " [0.99852398 0.03840477 0.03840477 0.         0.        ]\n",
            " [0.99658819 0.07382135 0.         0.03691067 0.        ]\n",
            " [0.99515266 0.09329556 0.         0.03109852 0.        ]\n",
            " [0.9968264  0.07120189 0.         0.03560094 0.        ]\n",
            " [0.99794872 0.03696106 0.03696106 0.03696106 0.        ]\n",
            " [0.99922929 0.02775637 0.         0.02775637 0.        ]\n",
            " [0.99908299 0.03027524 0.03027524 0.         0.        ]\n",
            " [0.99717646 0.0433555  0.0433555  0.0433555  0.        ]\n",
            " [0.99627096 0.04981355 0.         0.04981355 0.04981355]\n",
            " [0.99645179 0.03436041 0.06872081 0.         0.03436041]\n",
            " [0.99602384 0.03984095 0.07968191 0.         0.        ]\n",
            " [0.99840383 0.03993615 0.         0.03993615 0.        ]\n",
            " [0.98893635 0.04944682 0.09889364 0.09889364 0.        ]\n",
            " [0.99600652 0.08075729 0.         0.0269191  0.0269191 ]\n",
            " [0.99483201 0.04145133 0.08290267 0.         0.04145133]\n",
            " [0.99778842 0.03837648 0.03837648 0.03837648 0.        ]\n",
            " [0.99771219 0.06046741 0.         0.         0.0302337 ]\n",
            " [0.99523429 0.03980937 0.03980937 0.07961874 0.        ]\n",
            " [0.99863107 0.03698634 0.         0.         0.03698634]\n",
            " [0.99258333 0.04962917 0.         0.09925833 0.04962917]\n",
            " [0.9969278  0.05538488 0.         0.05538488 0.        ]\n",
            " [0.98936948 0.05496497 0.05496497 0.10992994 0.05496497]\n",
            " [0.99889074 0.03329636 0.         0.03329636 0.        ]\n",
            " [0.99708312 0.03115885 0.         0.0623177  0.03115885]\n",
            " [0.99486235 0.07652787 0.03826394 0.03826394 0.03826394]\n",
            " [0.99920096 0.03996804 0.         0.         0.        ]\n",
            " [0.99906382 0.0249766  0.         0.0249766  0.0249766 ]\n",
            " [0.99563423 0.06222714 0.         0.06222714 0.03111357]\n",
            " [0.99591    0.07377111 0.         0.03688556 0.03688556]\n",
            " [0.99340894 0.07641607 0.07641607 0.03820804 0.        ]\n",
            " [0.99181089 0.10626545 0.         0.07084363 0.        ]\n",
            " [0.99862543 0.03026138 0.03026138 0.03026138 0.        ]\n",
            " [0.99535001 0.06421613 0.06421613 0.03210806 0.        ]\n",
            " [0.99896104 0.03222455 0.         0.03222455 0.        ]\n",
            " [0.99559146 0.03829198 0.07658396 0.         0.03829198]\n",
            " [0.99591    0.03688556 0.         0.07377111 0.03688556]\n",
            " [0.99724137 0.05248639 0.         0.05248639 0.        ]\n",
            " [0.99769319 0.0277137  0.0277137  0.0554274  0.        ]\n",
            " [0.99794027 0.04536092 0.         0.04536092 0.        ]\n",
            " [0.9919953  0.1102217  0.         0.05511085 0.02755542]\n",
            " [0.99305766 0.10639904 0.         0.03546635 0.03546635]\n",
            " [0.99852398 0.03840477 0.         0.03840477 0.        ]\n",
            " [0.99563423 0.06222714 0.         0.06222714 0.03111357]\n",
            " [0.99340894 0.07641607 0.07641607 0.03820804 0.        ]\n",
            " [0.99704054 0.06876142 0.         0.         0.03438071]\n",
            " [0.99318329 0.09028939 0.06019293 0.03009646 0.03009646]\n",
            " [0.99326592 0.09459675 0.04729838 0.         0.04729838]\n",
            " [0.99068728 0.09906873 0.06604582 0.06604582 0.        ]\n",
            " [0.99918467 0.02854813 0.02854813 0.         0.        ]\n",
            " [0.99645179 0.06872081 0.         0.03436041 0.03436041]\n",
            " [0.99602384 0.07968191 0.         0.03984095 0.        ]\n",
            " [0.9946718  0.09325048 0.03108349 0.         0.03108349]\n",
            " [0.99886814 0.04756515 0.         0.         0.        ]\n",
            " [0.99632216 0.03832008 0.         0.07664017 0.        ]\n",
            " [0.99449032 0.06629935 0.03314968 0.06629935 0.03314968]\n",
            " [0.99083017 0.04503773 0.09007547 0.09007547 0.        ]\n",
            " [0.99724137 0.05248639 0.         0.05248639 0.        ]\n",
            " [0.99805258 0.06237829 0.         0.         0.        ]\n",
            " [0.99708312 0.0623177  0.         0.03115885 0.03115885]\n",
            " [0.99483734 0.03209153 0.06418305 0.06418305 0.03209153]\n",
            " [0.99796541 0.05702659 0.         0.0285133  0.        ]\n",
            " [0.99368282 0.10646602 0.         0.03548867 0.        ]\n",
            " [0.99645179 0.06872081 0.         0.03436041 0.03436041]\n",
            " [0.99920096 0.03996804 0.         0.         0.        ]\n",
            " [0.99455778 0.07367095 0.07367095 0.         0.        ]\n",
            " [0.99827437 0.05872202 0.         0.         0.        ]\n",
            " [0.99645179 0.03436041 0.06872081 0.         0.03436041]\n",
            " [0.9968264  0.07120189 0.         0.03560094 0.        ]\n",
            " [0.9946718  0.09325048 0.         0.03108349 0.03108349]\n",
            " [0.99382498 0.07845987 0.05230658 0.05230658 0.02615329]\n",
            " [0.99591    0.07377111 0.03688556 0.03688556 0.        ]\n",
            " [0.99228489 0.12027696 0.         0.03006924 0.        ]\n",
            " [0.99469179 0.06859943 0.03429972 0.06859943 0.        ]\n",
            " [0.99602384 0.03984095 0.07968191 0.         0.        ]\n",
            " [0.99227788 0.08268982 0.08268982 0.04134491 0.        ]]\n"
          ]
        }
      ]
    },
    {
      "cell_type": "markdown",
      "source": [
        "Normalisasi mengacu pada penskalaan ulang atribut numerik bernilai nyata ke dalam rentang 0 dan 1. Berguna untuk menskalakan atribut input untuk model yang bergantung pada besaran nilai, seperti ukuran jarak yang digunakan dalam k-tetangga terdekat dan dalam persiapan koefisien regresi."
      ],
      "metadata": {
        "id": "ICUzHDbfex9M"
      }
    },
    {
      "cell_type": "markdown",
      "source": [
        "# Model Building"
      ],
      "metadata": {
        "id": "saZvC-2t4UvJ"
      }
    },
    {
      "cell_type": "markdown",
      "source": [
        "Kami sekarang akan membagi set data menjadi pelatihan dan pengujian sehingga kami dapat memasukkan set data kami ke dalam model dan melatih model kami menggunakan set pelatihan dan kemudian menguji model terlatih kami menggunakan set pengujian.\n",
        "\n",
        "Di sini saya telah membagi kumpulan data sebagai pelatihan- 75% dan pengujian- 25%. test_size=0.25 menunjukkan 75% pelatihan dan 25% pengujian."
      ],
      "metadata": {
        "id": "Exr42jwEfCPn"
      }
    },
    {
      "cell_type": "code",
      "source": [
        "X = df.drop(['ID','Melahirkan Normal'], axis=1)\n",
        "y = df['Melahirkan Normal']"
      ],
      "metadata": {
        "id": "VBcHT-b7k3pz"
      },
      "execution_count": null,
      "outputs": []
    },
    {
      "cell_type": "code",
      "source": [
        "from sklearn.model_selection import train_test_split\n",
        "X_train, X_test, y_train, y_test = train_test_split(X, y,\n",
        "                                                    test_size = 0.25,\n",
        "                                                    random_state = 42)"
      ],
      "metadata": {
        "id": "jMO6XpRde3qq"
      },
      "execution_count": null,
      "outputs": []
    },
    {
      "cell_type": "code",
      "source": [
        "print(\"X_train:\",X_train.shape)\n",
        "print(\"X_test:\",X_test.shape)\n",
        "print(\"y_train:\",y_train.shape)\n",
        "print(\"y_test:\",y_test.shape)"
      ],
      "metadata": {
        "colab": {
          "base_uri": "https://localhost:8080/"
        },
        "id": "kUBGtjETNuYD",
        "outputId": "0969d0e3-4ea0-46df-b638-34858044df54"
      },
      "execution_count": null,
      "outputs": [
        {
          "output_type": "stream",
          "name": "stdout",
          "text": [
            "X_train: (60, 5)\n",
            "X_test: (20, 5)\n",
            "y_train: (60,)\n",
            "y_test: (20,)\n"
          ]
        }
      ]
    },
    {
      "cell_type": "code",
      "source": [
        "X_train.head()"
      ],
      "metadata": {
        "colab": {
          "base_uri": "https://localhost:8080/",
          "height": 206
        },
        "id": "zn3tOWlbfbe6",
        "outputId": "06cb6361-6478-40df-86aa-4fc764c0cfd1"
      },
      "execution_count": null,
      "outputs": [
        {
          "output_type": "execute_result",
          "data": {
            "text/plain": [
              "    Usia  Melahirkan ke-  Waktu Melahirkan  Tekanan Darah  Gangguan Jantung\n",
              "9     27               1                 1              1                 0\n",
              "64    31               1                 2              2                 1\n",
              "5     26               1                 1              0                 0\n",
              "47    32               2                 0              2                 1\n",
              "34    26               2                 2              1                 0"
            ],
            "text/html": [
              "\n",
              "  <div id=\"df-57025a29-0750-49ca-95f0-2ab7a0552fc1\">\n",
              "    <div class=\"colab-df-container\">\n",
              "      <div>\n",
              "<style scoped>\n",
              "    .dataframe tbody tr th:only-of-type {\n",
              "        vertical-align: middle;\n",
              "    }\n",
              "\n",
              "    .dataframe tbody tr th {\n",
              "        vertical-align: top;\n",
              "    }\n",
              "\n",
              "    .dataframe thead th {\n",
              "        text-align: right;\n",
              "    }\n",
              "</style>\n",
              "<table border=\"1\" class=\"dataframe\">\n",
              "  <thead>\n",
              "    <tr style=\"text-align: right;\">\n",
              "      <th></th>\n",
              "      <th>Usia</th>\n",
              "      <th>Melahirkan ke-</th>\n",
              "      <th>Waktu Melahirkan</th>\n",
              "      <th>Tekanan Darah</th>\n",
              "      <th>Gangguan Jantung</th>\n",
              "    </tr>\n",
              "  </thead>\n",
              "  <tbody>\n",
              "    <tr>\n",
              "      <th>9</th>\n",
              "      <td>27</td>\n",
              "      <td>1</td>\n",
              "      <td>1</td>\n",
              "      <td>1</td>\n",
              "      <td>0</td>\n",
              "    </tr>\n",
              "    <tr>\n",
              "      <th>64</th>\n",
              "      <td>31</td>\n",
              "      <td>1</td>\n",
              "      <td>2</td>\n",
              "      <td>2</td>\n",
              "      <td>1</td>\n",
              "    </tr>\n",
              "    <tr>\n",
              "      <th>5</th>\n",
              "      <td>26</td>\n",
              "      <td>1</td>\n",
              "      <td>1</td>\n",
              "      <td>0</td>\n",
              "      <td>0</td>\n",
              "    </tr>\n",
              "    <tr>\n",
              "      <th>47</th>\n",
              "      <td>32</td>\n",
              "      <td>2</td>\n",
              "      <td>0</td>\n",
              "      <td>2</td>\n",
              "      <td>1</td>\n",
              "    </tr>\n",
              "    <tr>\n",
              "      <th>34</th>\n",
              "      <td>26</td>\n",
              "      <td>2</td>\n",
              "      <td>2</td>\n",
              "      <td>1</td>\n",
              "      <td>0</td>\n",
              "    </tr>\n",
              "  </tbody>\n",
              "</table>\n",
              "</div>\n",
              "      <button class=\"colab-df-convert\" onclick=\"convertToInteractive('df-57025a29-0750-49ca-95f0-2ab7a0552fc1')\"\n",
              "              title=\"Convert this dataframe to an interactive table.\"\n",
              "              style=\"display:none;\">\n",
              "        \n",
              "  <svg xmlns=\"http://www.w3.org/2000/svg\" height=\"24px\"viewBox=\"0 0 24 24\"\n",
              "       width=\"24px\">\n",
              "    <path d=\"M0 0h24v24H0V0z\" fill=\"none\"/>\n",
              "    <path d=\"M18.56 5.44l.94 2.06.94-2.06 2.06-.94-2.06-.94-.94-2.06-.94 2.06-2.06.94zm-11 1L8.5 8.5l.94-2.06 2.06-.94-2.06-.94L8.5 2.5l-.94 2.06-2.06.94zm10 10l.94 2.06.94-2.06 2.06-.94-2.06-.94-.94-2.06-.94 2.06-2.06.94z\"/><path d=\"M17.41 7.96l-1.37-1.37c-.4-.4-.92-.59-1.43-.59-.52 0-1.04.2-1.43.59L10.3 9.45l-7.72 7.72c-.78.78-.78 2.05 0 2.83L4 21.41c.39.39.9.59 1.41.59.51 0 1.02-.2 1.41-.59l7.78-7.78 2.81-2.81c.8-.78.8-2.07 0-2.86zM5.41 20L4 18.59l7.72-7.72 1.47 1.35L5.41 20z\"/>\n",
              "  </svg>\n",
              "      </button>\n",
              "      \n",
              "  <style>\n",
              "    .colab-df-container {\n",
              "      display:flex;\n",
              "      flex-wrap:wrap;\n",
              "      gap: 12px;\n",
              "    }\n",
              "\n",
              "    .colab-df-convert {\n",
              "      background-color: #E8F0FE;\n",
              "      border: none;\n",
              "      border-radius: 50%;\n",
              "      cursor: pointer;\n",
              "      display: none;\n",
              "      fill: #1967D2;\n",
              "      height: 32px;\n",
              "      padding: 0 0 0 0;\n",
              "      width: 32px;\n",
              "    }\n",
              "\n",
              "    .colab-df-convert:hover {\n",
              "      background-color: #E2EBFA;\n",
              "      box-shadow: 0px 1px 2px rgba(60, 64, 67, 0.3), 0px 1px 3px 1px rgba(60, 64, 67, 0.15);\n",
              "      fill: #174EA6;\n",
              "    }\n",
              "\n",
              "    [theme=dark] .colab-df-convert {\n",
              "      background-color: #3B4455;\n",
              "      fill: #D2E3FC;\n",
              "    }\n",
              "\n",
              "    [theme=dark] .colab-df-convert:hover {\n",
              "      background-color: #434B5C;\n",
              "      box-shadow: 0px 1px 3px 1px rgba(0, 0, 0, 0.15);\n",
              "      filter: drop-shadow(0px 1px 2px rgba(0, 0, 0, 0.3));\n",
              "      fill: #FFFFFF;\n",
              "    }\n",
              "  </style>\n",
              "\n",
              "      <script>\n",
              "        const buttonEl =\n",
              "          document.querySelector('#df-57025a29-0750-49ca-95f0-2ab7a0552fc1 button.colab-df-convert');\n",
              "        buttonEl.style.display =\n",
              "          google.colab.kernel.accessAllowed ? 'block' : 'none';\n",
              "\n",
              "        async function convertToInteractive(key) {\n",
              "          const element = document.querySelector('#df-57025a29-0750-49ca-95f0-2ab7a0552fc1');\n",
              "          const dataTable =\n",
              "            await google.colab.kernel.invokeFunction('convertToInteractive',\n",
              "                                                     [key], {});\n",
              "          if (!dataTable) return;\n",
              "\n",
              "          const docLinkHtml = 'Like what you see? Visit the ' +\n",
              "            '<a target=\"_blank\" href=https://colab.research.google.com/notebooks/data_table.ipynb>data table notebook</a>'\n",
              "            + ' to learn more about interactive tables.';\n",
              "          element.innerHTML = '';\n",
              "          dataTable['output_type'] = 'display_data';\n",
              "          await google.colab.output.renderOutput(dataTable, element);\n",
              "          const docLink = document.createElement('div');\n",
              "          docLink.innerHTML = docLinkHtml;\n",
              "          element.appendChild(docLink);\n",
              "        }\n",
              "      </script>\n",
              "    </div>\n",
              "  </div>\n",
              "  "
            ]
          },
          "metadata": {},
          "execution_count": 71
        }
      ]
    },
    {
      "cell_type": "code",
      "source": [
        "from sklearn.tree import DecisionTreeClassifier\n",
        "Tree=DecisionTreeClassifier(criterion='entropy')\n",
        "Tree.fit(X_train,y_train)\n",
        "\n"
      ],
      "metadata": {
        "colab": {
          "base_uri": "https://localhost:8080/"
        },
        "id": "Zci8mOcvfdjI",
        "outputId": "2fdffa13-58f3-45ac-e58e-61708761f7d6"
      },
      "execution_count": null,
      "outputs": [
        {
          "output_type": "execute_result",
          "data": {
            "text/plain": [
              "DecisionTreeClassifier(criterion='entropy')"
            ]
          },
          "metadata": {},
          "execution_count": 39
        }
      ]
    },
    {
      "cell_type": "code",
      "source": [
        "predTree_train=Tree.predict(X_train)\n",
        "hasil_train=pd.DataFrame ({'Predicted_risk': predTree_train,'Actual_risk': y_train})\n",
        "hasil_train.head()"
      ],
      "metadata": {
        "colab": {
          "base_uri": "https://localhost:8080/",
          "height": 206
        },
        "id": "m4SJW71yhBUr",
        "outputId": "df1d6fbe-1d59-45e6-cffb-9d0b3871389a"
      },
      "execution_count": null,
      "outputs": [
        {
          "output_type": "execute_result",
          "data": {
            "text/plain": [
              "    Predicted_risk  Actual_risk\n",
              "9                0            0\n",
              "64               1            1\n",
              "5                1            1\n",
              "47               0            0\n",
              "34               0            0"
            ],
            "text/html": [
              "\n",
              "  <div id=\"df-9372dba5-c236-4e59-a0d0-ea98a88c2675\">\n",
              "    <div class=\"colab-df-container\">\n",
              "      <div>\n",
              "<style scoped>\n",
              "    .dataframe tbody tr th:only-of-type {\n",
              "        vertical-align: middle;\n",
              "    }\n",
              "\n",
              "    .dataframe tbody tr th {\n",
              "        vertical-align: top;\n",
              "    }\n",
              "\n",
              "    .dataframe thead th {\n",
              "        text-align: right;\n",
              "    }\n",
              "</style>\n",
              "<table border=\"1\" class=\"dataframe\">\n",
              "  <thead>\n",
              "    <tr style=\"text-align: right;\">\n",
              "      <th></th>\n",
              "      <th>Predicted_risk</th>\n",
              "      <th>Actual_risk</th>\n",
              "    </tr>\n",
              "  </thead>\n",
              "  <tbody>\n",
              "    <tr>\n",
              "      <th>9</th>\n",
              "      <td>0</td>\n",
              "      <td>0</td>\n",
              "    </tr>\n",
              "    <tr>\n",
              "      <th>64</th>\n",
              "      <td>1</td>\n",
              "      <td>1</td>\n",
              "    </tr>\n",
              "    <tr>\n",
              "      <th>5</th>\n",
              "      <td>1</td>\n",
              "      <td>1</td>\n",
              "    </tr>\n",
              "    <tr>\n",
              "      <th>47</th>\n",
              "      <td>0</td>\n",
              "      <td>0</td>\n",
              "    </tr>\n",
              "    <tr>\n",
              "      <th>34</th>\n",
              "      <td>0</td>\n",
              "      <td>0</td>\n",
              "    </tr>\n",
              "  </tbody>\n",
              "</table>\n",
              "</div>\n",
              "      <button class=\"colab-df-convert\" onclick=\"convertToInteractive('df-9372dba5-c236-4e59-a0d0-ea98a88c2675')\"\n",
              "              title=\"Convert this dataframe to an interactive table.\"\n",
              "              style=\"display:none;\">\n",
              "        \n",
              "  <svg xmlns=\"http://www.w3.org/2000/svg\" height=\"24px\"viewBox=\"0 0 24 24\"\n",
              "       width=\"24px\">\n",
              "    <path d=\"M0 0h24v24H0V0z\" fill=\"none\"/>\n",
              "    <path d=\"M18.56 5.44l.94 2.06.94-2.06 2.06-.94-2.06-.94-.94-2.06-.94 2.06-2.06.94zm-11 1L8.5 8.5l.94-2.06 2.06-.94-2.06-.94L8.5 2.5l-.94 2.06-2.06.94zm10 10l.94 2.06.94-2.06 2.06-.94-2.06-.94-.94-2.06-.94 2.06-2.06.94z\"/><path d=\"M17.41 7.96l-1.37-1.37c-.4-.4-.92-.59-1.43-.59-.52 0-1.04.2-1.43.59L10.3 9.45l-7.72 7.72c-.78.78-.78 2.05 0 2.83L4 21.41c.39.39.9.59 1.41.59.51 0 1.02-.2 1.41-.59l7.78-7.78 2.81-2.81c.8-.78.8-2.07 0-2.86zM5.41 20L4 18.59l7.72-7.72 1.47 1.35L5.41 20z\"/>\n",
              "  </svg>\n",
              "      </button>\n",
              "      \n",
              "  <style>\n",
              "    .colab-df-container {\n",
              "      display:flex;\n",
              "      flex-wrap:wrap;\n",
              "      gap: 12px;\n",
              "    }\n",
              "\n",
              "    .colab-df-convert {\n",
              "      background-color: #E8F0FE;\n",
              "      border: none;\n",
              "      border-radius: 50%;\n",
              "      cursor: pointer;\n",
              "      display: none;\n",
              "      fill: #1967D2;\n",
              "      height: 32px;\n",
              "      padding: 0 0 0 0;\n",
              "      width: 32px;\n",
              "    }\n",
              "\n",
              "    .colab-df-convert:hover {\n",
              "      background-color: #E2EBFA;\n",
              "      box-shadow: 0px 1px 2px rgba(60, 64, 67, 0.3), 0px 1px 3px 1px rgba(60, 64, 67, 0.15);\n",
              "      fill: #174EA6;\n",
              "    }\n",
              "\n",
              "    [theme=dark] .colab-df-convert {\n",
              "      background-color: #3B4455;\n",
              "      fill: #D2E3FC;\n",
              "    }\n",
              "\n",
              "    [theme=dark] .colab-df-convert:hover {\n",
              "      background-color: #434B5C;\n",
              "      box-shadow: 0px 1px 3px 1px rgba(0, 0, 0, 0.15);\n",
              "      filter: drop-shadow(0px 1px 2px rgba(0, 0, 0, 0.3));\n",
              "      fill: #FFFFFF;\n",
              "    }\n",
              "  </style>\n",
              "\n",
              "      <script>\n",
              "        const buttonEl =\n",
              "          document.querySelector('#df-9372dba5-c236-4e59-a0d0-ea98a88c2675 button.colab-df-convert');\n",
              "        buttonEl.style.display =\n",
              "          google.colab.kernel.accessAllowed ? 'block' : 'none';\n",
              "\n",
              "        async function convertToInteractive(key) {\n",
              "          const element = document.querySelector('#df-9372dba5-c236-4e59-a0d0-ea98a88c2675');\n",
              "          const dataTable =\n",
              "            await google.colab.kernel.invokeFunction('convertToInteractive',\n",
              "                                                     [key], {});\n",
              "          if (!dataTable) return;\n",
              "\n",
              "          const docLinkHtml = 'Like what you see? Visit the ' +\n",
              "            '<a target=\"_blank\" href=https://colab.research.google.com/notebooks/data_table.ipynb>data table notebook</a>'\n",
              "            + ' to learn more about interactive tables.';\n",
              "          element.innerHTML = '';\n",
              "          dataTable['output_type'] = 'display_data';\n",
              "          await google.colab.output.renderOutput(dataTable, element);\n",
              "          const docLink = document.createElement('div');\n",
              "          docLink.innerHTML = docLinkHtml;\n",
              "          element.appendChild(docLink);\n",
              "        }\n",
              "      </script>\n",
              "    </div>\n",
              "  </div>\n",
              "  "
            ]
          },
          "metadata": {},
          "execution_count": 72
        }
      ]
    },
    {
      "cell_type": "code",
      "source": [
        "predTree_test=Tree.predict(X_test)\n",
        "hasil_test=pd.DataFrame ({'Predicted_risk': predTree_test,'Actual_risk': y_test})\n",
        "hasil_test.head()"
      ],
      "metadata": {
        "colab": {
          "base_uri": "https://localhost:8080/",
          "height": 206
        },
        "id": "7HfvKh5Ifw1y",
        "outputId": "e0023d6d-4ac0-4d8a-a092-9999348e791b"
      },
      "execution_count": null,
      "outputs": [
        {
          "output_type": "execute_result",
          "data": {
            "text/plain": [
              "    Predicted_risk  Actual_risk\n",
              "30               1            1\n",
              "0                0            1\n",
              "22               1            1\n",
              "31               1            0\n",
              "18               0            0"
            ],
            "text/html": [
              "\n",
              "  <div id=\"df-f2f2f537-c7ea-4342-86bf-3461b2867494\">\n",
              "    <div class=\"colab-df-container\">\n",
              "      <div>\n",
              "<style scoped>\n",
              "    .dataframe tbody tr th:only-of-type {\n",
              "        vertical-align: middle;\n",
              "    }\n",
              "\n",
              "    .dataframe tbody tr th {\n",
              "        vertical-align: top;\n",
              "    }\n",
              "\n",
              "    .dataframe thead th {\n",
              "        text-align: right;\n",
              "    }\n",
              "</style>\n",
              "<table border=\"1\" class=\"dataframe\">\n",
              "  <thead>\n",
              "    <tr style=\"text-align: right;\">\n",
              "      <th></th>\n",
              "      <th>Predicted_risk</th>\n",
              "      <th>Actual_risk</th>\n",
              "    </tr>\n",
              "  </thead>\n",
              "  <tbody>\n",
              "    <tr>\n",
              "      <th>30</th>\n",
              "      <td>1</td>\n",
              "      <td>1</td>\n",
              "    </tr>\n",
              "    <tr>\n",
              "      <th>0</th>\n",
              "      <td>0</td>\n",
              "      <td>1</td>\n",
              "    </tr>\n",
              "    <tr>\n",
              "      <th>22</th>\n",
              "      <td>1</td>\n",
              "      <td>1</td>\n",
              "    </tr>\n",
              "    <tr>\n",
              "      <th>31</th>\n",
              "      <td>1</td>\n",
              "      <td>0</td>\n",
              "    </tr>\n",
              "    <tr>\n",
              "      <th>18</th>\n",
              "      <td>0</td>\n",
              "      <td>0</td>\n",
              "    </tr>\n",
              "  </tbody>\n",
              "</table>\n",
              "</div>\n",
              "      <button class=\"colab-df-convert\" onclick=\"convertToInteractive('df-f2f2f537-c7ea-4342-86bf-3461b2867494')\"\n",
              "              title=\"Convert this dataframe to an interactive table.\"\n",
              "              style=\"display:none;\">\n",
              "        \n",
              "  <svg xmlns=\"http://www.w3.org/2000/svg\" height=\"24px\"viewBox=\"0 0 24 24\"\n",
              "       width=\"24px\">\n",
              "    <path d=\"M0 0h24v24H0V0z\" fill=\"none\"/>\n",
              "    <path d=\"M18.56 5.44l.94 2.06.94-2.06 2.06-.94-2.06-.94-.94-2.06-.94 2.06-2.06.94zm-11 1L8.5 8.5l.94-2.06 2.06-.94-2.06-.94L8.5 2.5l-.94 2.06-2.06.94zm10 10l.94 2.06.94-2.06 2.06-.94-2.06-.94-.94-2.06-.94 2.06-2.06.94z\"/><path d=\"M17.41 7.96l-1.37-1.37c-.4-.4-.92-.59-1.43-.59-.52 0-1.04.2-1.43.59L10.3 9.45l-7.72 7.72c-.78.78-.78 2.05 0 2.83L4 21.41c.39.39.9.59 1.41.59.51 0 1.02-.2 1.41-.59l7.78-7.78 2.81-2.81c.8-.78.8-2.07 0-2.86zM5.41 20L4 18.59l7.72-7.72 1.47 1.35L5.41 20z\"/>\n",
              "  </svg>\n",
              "      </button>\n",
              "      \n",
              "  <style>\n",
              "    .colab-df-container {\n",
              "      display:flex;\n",
              "      flex-wrap:wrap;\n",
              "      gap: 12px;\n",
              "    }\n",
              "\n",
              "    .colab-df-convert {\n",
              "      background-color: #E8F0FE;\n",
              "      border: none;\n",
              "      border-radius: 50%;\n",
              "      cursor: pointer;\n",
              "      display: none;\n",
              "      fill: #1967D2;\n",
              "      height: 32px;\n",
              "      padding: 0 0 0 0;\n",
              "      width: 32px;\n",
              "    }\n",
              "\n",
              "    .colab-df-convert:hover {\n",
              "      background-color: #E2EBFA;\n",
              "      box-shadow: 0px 1px 2px rgba(60, 64, 67, 0.3), 0px 1px 3px 1px rgba(60, 64, 67, 0.15);\n",
              "      fill: #174EA6;\n",
              "    }\n",
              "\n",
              "    [theme=dark] .colab-df-convert {\n",
              "      background-color: #3B4455;\n",
              "      fill: #D2E3FC;\n",
              "    }\n",
              "\n",
              "    [theme=dark] .colab-df-convert:hover {\n",
              "      background-color: #434B5C;\n",
              "      box-shadow: 0px 1px 3px 1px rgba(0, 0, 0, 0.15);\n",
              "      filter: drop-shadow(0px 1px 2px rgba(0, 0, 0, 0.3));\n",
              "      fill: #FFFFFF;\n",
              "    }\n",
              "  </style>\n",
              "\n",
              "      <script>\n",
              "        const buttonEl =\n",
              "          document.querySelector('#df-f2f2f537-c7ea-4342-86bf-3461b2867494 button.colab-df-convert');\n",
              "        buttonEl.style.display =\n",
              "          google.colab.kernel.accessAllowed ? 'block' : 'none';\n",
              "\n",
              "        async function convertToInteractive(key) {\n",
              "          const element = document.querySelector('#df-f2f2f537-c7ea-4342-86bf-3461b2867494');\n",
              "          const dataTable =\n",
              "            await google.colab.kernel.invokeFunction('convertToInteractive',\n",
              "                                                     [key], {});\n",
              "          if (!dataTable) return;\n",
              "\n",
              "          const docLinkHtml = 'Like what you see? Visit the ' +\n",
              "            '<a target=\"_blank\" href=https://colab.research.google.com/notebooks/data_table.ipynb>data table notebook</a>'\n",
              "            + ' to learn more about interactive tables.';\n",
              "          element.innerHTML = '';\n",
              "          dataTable['output_type'] = 'display_data';\n",
              "          await google.colab.output.renderOutput(dataTable, element);\n",
              "          const docLink = document.createElement('div');\n",
              "          docLink.innerHTML = docLinkHtml;\n",
              "          element.appendChild(docLink);\n",
              "        }\n",
              "      </script>\n",
              "    </div>\n",
              "  </div>\n",
              "  "
            ]
          },
          "metadata": {},
          "execution_count": 73
        }
      ]
    },
    {
      "cell_type": "code",
      "source": [
        "plt.figure(figsize=(12,8))"
      ],
      "metadata": {
        "colab": {
          "base_uri": "https://localhost:8080/",
          "height": 52
        },
        "id": "dmNWjObzgw28",
        "outputId": "14b52446-d6fa-46a4-baa5-e69c6944a316"
      },
      "execution_count": null,
      "outputs": [
        {
          "output_type": "execute_result",
          "data": {
            "text/plain": [
              "<Figure size 864x576 with 0 Axes>"
            ]
          },
          "metadata": {},
          "execution_count": 44
        },
        {
          "output_type": "display_data",
          "data": {
            "text/plain": [
              "<Figure size 864x576 with 0 Axes>"
            ]
          },
          "metadata": {}
        }
      ]
    },
    {
      "cell_type": "code",
      "source": [
        "from sklearn. tree import DecisionTreeClassifier\n",
        "from sklearn. metrics import accuracy_score\n",
        "from sklearn import tree\n",
        "clf_en = DecisionTreeClassifier (criterion = \"entropy\", random_state = 10,max_depth=3, min_samples_leaf=5)\n",
        "clf_en.fit(X_train, y_train)\n",
        "y_pred = clf_en.predict(X_test)\n",
        "from sklearn import metrics\n",
        "metrics.accuracy_score(y_test, y_pred)*100\n"
      ],
      "metadata": {
        "colab": {
          "base_uri": "https://localhost:8080/"
        },
        "id": "SP-_n6S5fxtz",
        "outputId": "668027c6-c131-4f9e-8460-337748516a1d"
      },
      "execution_count": null,
      "outputs": [
        {
          "output_type": "execute_result",
          "data": {
            "text/plain": [
              "55.00000000000001"
            ]
          },
          "metadata": {},
          "execution_count": 45
        }
      ]
    },
    {
      "cell_type": "code",
      "source": [
        "import pydotplus\n",
        "from sklearn. tree import export_graphviz\n",
        "from IPython. display import Image\n",
        "dot_data = tree.export_graphviz(clf_en, class_names=['0','1'])\n",
        "graph = pydotplus.graph_from_dot_data(dot_data)\n",
        "Image (graph.create_png())"
      ],
      "metadata": {
        "colab": {
          "base_uri": "https://localhost:8080/",
          "height": 592
        },
        "id": "uHgrYGEBitrK",
        "outputId": "b666f842-978b-4e5c-ff3d-046e16b0e7fe"
      },
      "execution_count": null,
      "outputs": [
        {
          "output_type": "execute_result",
          "data": {
            "image/png": "[encoded data removed]",
            "text/plain": [
              "<IPython.core.display.Image object>"
            ]
          },
          "metadata": {},
          "execution_count": 46
        }
      ]
    },
    {
      "cell_type": "markdown",
      "source": [
        "## **evaluasi model**"
      ],
      "metadata": {
        "id": "V7ygPpRnvPHD"
      }
    },
    {
      "cell_type": "code",
      "source": [
        "def plot_confusionmatrix(y_train_pred,y_train,dom):\n",
        "    print(f'{dom} Confusion matrix')\n",
        "    cf = confusion_matrix(y_train_pred,y_train)\n",
        "    sns.heatmap(cf,annot=True,cmap='Blues', fmt='g')\n",
        "    plt.tight_layout()\n",
        "    plt.show()"
      ],
      "metadata": {
        "id": "6aMUnIyI4tTS"
      },
      "execution_count": null,
      "outputs": []
    },
    {
      "cell_type": "code",
      "source": [
        "print(f'Train score {accuracy_score(predTree_train,y_train)}')\n",
        "print(f'Test score {accuracy_score(predTree_test,y_test)}')\n",
        "plot_confusionmatrix(predTree_train,y_train,dom='Train')\n",
        "plot_confusionmatrix(predTree_test,y_test,dom='Test')"
      ],
      "metadata": {
        "colab": {
          "base_uri": "https://localhost:8080/",
          "height": 646
        },
        "id": "fOBE_5IZ43WW",
        "outputId": "6e1e3f03-949c-480a-f0b0-9367ba138720"
      },
      "execution_count": null,
      "outputs": [
        {
          "output_type": "stream",
          "name": "stdout",
          "text": [
            "Train score 0.9666666666666667\n",
            "Test score 0.65\n",
            "Train Confusion matrix\n"
          ]
        },
        {
          "output_type": "display_data",
          "data": {
            "text/plain": [
              "<Figure size 432x288 with 2 Axes>"
            ],
            "image/png": "[encoded data removed]"
          },
          "metadata": {
            "needs_background": "light"
          }
        },
        {
          "output_type": "stream",
          "name": "stdout",
          "text": [
            "Test Confusion matrix\n"
          ]
        },
        {
          "output_type": "display_data",
          "data": {
            "text/plain": [
              "<Figure size 432x288 with 2 Axes>"
            ],
            "image/png": "[encoded data removed]"
          },
          "metadata": {
            "needs_background": "light"
          }
        }
      ]
    },
    {
      "cell_type": "code",
      "source": [
        "from sklearn.metrics import classification_report\n",
        "print(classification_report(y_train, predTree_train))"
      ],
      "metadata": {
        "colab": {
          "base_uri": "https://localhost:8080/"
        },
        "id": "x8PavBCIgDxi",
        "outputId": "5151ab15-3cf8-4a1f-e6f3-c65a6a52a244"
      },
      "execution_count": null,
      "outputs": [
        {
          "output_type": "stream",
          "name": "stdout",
          "text": [
            "              precision    recall  f1-score   support\n",
            "\n",
            "           0       0.94      1.00      0.97        34\n",
            "           1       1.00      0.92      0.96        26\n",
            "\n",
            "    accuracy                           0.97        60\n",
            "   macro avg       0.97      0.96      0.97        60\n",
            "weighted avg       0.97      0.97      0.97        60\n",
            "\n"
          ]
        }
      ]
    },
    {
      "cell_type": "code",
      "source": [
        "print(classification_report(y_test, predTree_test))"
      ],
      "metadata": {
        "colab": {
          "base_uri": "https://localhost:8080/"
        },
        "id": "sCwB5iV2gHWm",
        "outputId": "49f83c0f-2916-43e3-917e-fe1110e21d6c"
      },
      "execution_count": null,
      "outputs": [
        {
          "output_type": "stream",
          "name": "stdout",
          "text": [
            "              precision    recall  f1-score   support\n",
            "\n",
            "           0       0.69      0.75      0.72        12\n",
            "           1       0.57      0.50      0.53         8\n",
            "\n",
            "    accuracy                           0.65        20\n",
            "   macro avg       0.63      0.62      0.63        20\n",
            "weighted avg       0.64      0.65      0.65        20\n",
            "\n"
          ]
        }
      ]
    },
    {
      "cell_type": "markdown",
      "source": [
        "terjadi overfitting pada data, perlu dilakukan prunning"
      ],
      "metadata": {
        "id": "9ugpGLf131JA"
      }
    },
    {
      "cell_type": "markdown",
      "source": [
        "## **menentukan validasi silang dengan k-fold cross validation**"
      ],
      "metadata": {
        "id": "yA6GkCb6WX_4"
      }
    },
    {
      "cell_type": "code",
      "source": [
        "from sklearn.cluster import KMeans\n",
        "wcss = []\n",
        "for i in range(1,11):\n",
        "  km=KMeans(n_clusters=i)\n",
        "  km.fit(X1)\n",
        "  wcss.append(km.inertia_)\n",
        "plt.figure(figsize=(12,6))\n",
        "plt.plot(range(1,11),wcss)\n",
        "plt.plot(range(1,11),wcss,linewidth=2,color=\"red\",marker=\"8\")\n",
        "plt.xlabel(\"K Value\")\n",
        "plt.xticks(np.arange(1,11,1))\n",
        "plt.ylabel(\"Within-cluster Some of Square\")\n",
        "plt.show()"
      ],
      "metadata": {
        "colab": {
          "base_uri": "https://localhost:8080/",
          "height": 388
        },
        "id": "C18G8xZLw3ky",
        "outputId": "93e9e256-7969-43d2-cea0-7881bf0cd68c"
      },
      "execution_count": null,
      "outputs": [
        {
          "output_type": "display_data",
          "data": {
            "text/plain": [
              "<Figure size 864x432 with 1 Axes>"
            ],
            "image/png": "[encoded data removed]"
          },
          "metadata": {
            "needs_background": "light"
          }
        }
      ]
    },
    {
      "cell_type": "code",
      "source": [
        "from yellowbrick.cluster import SilhouetteVisualizer\n",
        "model=KMeans(6,random_state=42)\n",
        "visualizer=SilhouetteVisualizer(model,colors='yellowbrick')\n",
        "visualizer.fit(X1)"
      ],
      "metadata": {
        "colab": {
          "base_uri": "https://localhost:8080/",
          "height": 399
        },
        "id": "phmWb3SQyOhU",
        "outputId": "0f92a4df-4f21-42ac-f1c7-a49229f81f93"
      },
      "execution_count": null,
      "outputs": [
        {
          "output_type": "execute_result",
          "data": {
            "text/plain": [
              "SilhouetteVisualizer(ax=<matplotlib.axes._subplots.AxesSubplot object at 0x7f4b726f5df0>,\n",
              "                     colors='yellowbrick',\n",
              "                     estimator=KMeans(n_clusters=6, random_state=42))"
            ]
          },
          "metadata": {},
          "execution_count": 50
        },
        {
          "output_type": "display_data",
          "data": {
            "text/plain": [
              "<Figure size 576x396 with 1 Axes>"
            ],
            "image/png": "[encoded data removed]"
          },
          "metadata": {}
        }
      ]
    },
    {
      "cell_type": "code",
      "source": [
        "from sklearn.metrics import silhouette_score\n",
        "km=KMeans(n_clusters=8,random_state=42)\n",
        "km.fit(X1)\n",
        "score=silhouette_score(X1,km.labels_)\n",
        "print('SilhouetterScore : %.3f' % score)\n",
        "\n",
        "from sklearn.metrics import silhouette_score\n",
        "k_cluster = []\n",
        "sil_coeffecients = []\n",
        "\n",
        "for n_cluster in range(2,10):\n",
        "  kmeans = KMeans(n_clusters=n_cluster).fit(X1)\n",
        "  label = kmeans.labels_\n",
        "  sil_coeff = silhouette_score(X1, label)\n",
        "  print(\"For n_clusters={}, Silhouette coeffecient = {}\".format(n_cluster , sil_coeff))\n",
        "  sil_coeffecients.append(sil_coeff)\n",
        "  k_cluster.append(n_cluster)\n",
        "\n",
        "plt.plot(k_cluster,sil_coeffecients)\n",
        "plt.ylabel('Silhouette coeffecient')\n",
        "plt.xlabel('No. of Clusters')\n",
        "plt.show()"
      ],
      "metadata": {
        "colab": {
          "base_uri": "https://localhost:8080/",
          "height": 517
        },
        "id": "-yuw3KhjyP0j",
        "outputId": "e9f86004-bf1c-4846-a0c9-9675916ca85b"
      },
      "execution_count": null,
      "outputs": [
        {
          "output_type": "stream",
          "name": "stdout",
          "text": [
            "SilhouetterScore : 0.324\n",
            "For n_clusters=2, Silhouette coeffecient = 0.2862065040590155\n",
            "For n_clusters=3, Silhouette coeffecient = 0.23003865521248157\n",
            "For n_clusters=4, Silhouette coeffecient = 0.26165148081682393\n",
            "For n_clusters=5, Silhouette coeffecient = 0.2834343739313951\n",
            "For n_clusters=6, Silhouette coeffecient = 0.29511998102999115\n",
            "For n_clusters=7, Silhouette coeffecient = 0.3125433802488967\n",
            "For n_clusters=8, Silhouette coeffecient = 0.3121833071848651\n",
            "For n_clusters=9, Silhouette coeffecient = 0.34196824112935337\n"
          ]
        },
        {
          "output_type": "display_data",
          "data": {
            "text/plain": [
              "<Figure size 576x396 with 1 Axes>"
            ],
            "image/png": "[encoded data removed]"
          },
          "metadata": {}
        }
      ]
    },
    {
      "cell_type": "code",
      "source": [
        "model=KMeans(init=\"random\",n_clusters=6)\n",
        "model.fit(X1)\n",
        "print('inertia:',model.inertia_)\n",
        "print('cluster_centroids:',model.cluster_centers_)"
      ],
      "metadata": {
        "colab": {
          "base_uri": "https://localhost:8080/"
        },
        "id": "-L8r3wy6yY3T",
        "outputId": "8c1b61bd-b5ab-48d2-ba4f-688ebabf6a1d"
      },
      "execution_count": null,
      "outputs": [
        {
          "output_type": "stream",
          "name": "stdout",
          "text": [
            "inertia: 0.07017300131081897\n",
            "cluster_centroids: [[9.95019409e-01 4.76798069e-02 1.06603350e-02 7.53123487e-02\n",
            "  2.64857421e-02]\n",
            " [9.98203688e-01 5.04412764e-02 1.06926365e-02 0.00000000e+00\n",
            "  1.10570201e-02]\n",
            " [9.95399804e-01 4.95517168e-02 7.21576738e-02 0.00000000e+00\n",
            "  2.44703129e-02]\n",
            " [9.95112256e-01 8.63029577e-02 3.46944695e-18 3.80189014e-02\n",
            "  1.43216431e-02]\n",
            " [9.93414342e-01 7.06867527e-02 6.27983406e-02 5.23936410e-02\n",
            "  9.04322972e-03]\n",
            " [9.98101321e-01 3.97505050e-02 1.10417573e-02 3.97005301e-02\n",
            "  1.56103721e-03]]\n"
          ]
        }
      ]
    },
    {
      "cell_type": "code",
      "source": [
        "clt=model.labels_\n",
        "hasil=pd.Series(clt,name=\"Cluster\")\n",
        "hasil=pd.DataFrame(hasil)\n",
        "hasil"
      ],
      "metadata": {
        "colab": {
          "base_uri": "https://localhost:8080/",
          "height": 424
        },
        "id": "M3ZOGxMmybk8",
        "outputId": "113d22fd-2d39-4504-ef7a-c98e90554b98"
      },
      "execution_count": null,
      "outputs": [
        {
          "output_type": "execute_result",
          "data": {
            "text/plain": [
              "    Cluster\n",
              "0         0\n",
              "1         3\n",
              "2         4\n",
              "3         0\n",
              "4         3\n",
              "..      ...\n",
              "75        4\n",
              "76        3\n",
              "77        4\n",
              "78        2\n",
              "79        4\n",
              "\n",
              "[80 rows x 1 columns]"
            ],
            "text/html": [
              "\n",
              "  <div id=\"df-e9db896e-cfec-48cf-bf16-e9895c634a7c\">\n",
              "    <div class=\"colab-df-container\">\n",
              "      <div>\n",
              "<style scoped>\n",
              "    .dataframe tbody tr th:only-of-type {\n",
              "        vertical-align: middle;\n",
              "    }\n",
              "\n",
              "    .dataframe tbody tr th {\n",
              "        vertical-align: top;\n",
              "    }\n",
              "\n",
              "    .dataframe thead th {\n",
              "        text-align: right;\n",
              "    }\n",
              "</style>\n",
              "<table border=\"1\" class=\"dataframe\">\n",
              "  <thead>\n",
              "    <tr style=\"text-align: right;\">\n",
              "      <th></th>\n",
              "      <th>Cluster</th>\n",
              "    </tr>\n",
              "  </thead>\n",
              "  <tbody>\n",
              "    <tr>\n",
              "      <th>0</th>\n",
              "      <td>0</td>\n",
              "    </tr>\n",
              "    <tr>\n",
              "      <th>1</th>\n",
              "      <td>3</td>\n",
              "    </tr>\n",
              "    <tr>\n",
              "      <th>2</th>\n",
              "      <td>4</td>\n",
              "    </tr>\n",
              "    <tr>\n",
              "      <th>3</th>\n",
              "      <td>0</td>\n",
              "    </tr>\n",
              "    <tr>\n",
              "      <th>4</th>\n",
              "      <td>3</td>\n",
              "    </tr>\n",
              "    <tr>\n",
              "      <th>...</th>\n",
              "      <td>...</td>\n",
              "    </tr>\n",
              "    <tr>\n",
              "      <th>75</th>\n",
              "      <td>4</td>\n",
              "    </tr>\n",
              "    <tr>\n",
              "      <th>76</th>\n",
              "      <td>3</td>\n",
              "    </tr>\n",
              "    <tr>\n",
              "      <th>77</th>\n",
              "      <td>4</td>\n",
              "    </tr>\n",
              "    <tr>\n",
              "      <th>78</th>\n",
              "      <td>2</td>\n",
              "    </tr>\n",
              "    <tr>\n",
              "      <th>79</th>\n",
              "      <td>4</td>\n",
              "    </tr>\n",
              "  </tbody>\n",
              "</table>\n",
              "<p>80 rows × 1 columns</p>\n",
              "</div>\n",
              "      <button class=\"colab-df-convert\" onclick=\"convertToInteractive('df-e9db896e-cfec-48cf-bf16-e9895c634a7c')\"\n",
              "              title=\"Convert this dataframe to an interactive table.\"\n",
              "              style=\"display:none;\">\n",
              "        \n",
              "  <svg xmlns=\"http://www.w3.org/2000/svg\" height=\"24px\"viewBox=\"0 0 24 24\"\n",
              "       width=\"24px\">\n",
              "    <path d=\"M0 0h24v24H0V0z\" fill=\"none\"/>\n",
              "    <path d=\"M18.56 5.44l.94 2.06.94-2.06 2.06-.94-2.06-.94-.94-2.06-.94 2.06-2.06.94zm-11 1L8.5 8.5l.94-2.06 2.06-.94-2.06-.94L8.5 2.5l-.94 2.06-2.06.94zm10 10l.94 2.06.94-2.06 2.06-.94-2.06-.94-.94-2.06-.94 2.06-2.06.94z\"/><path d=\"M17.41 7.96l-1.37-1.37c-.4-.4-.92-.59-1.43-.59-.52 0-1.04.2-1.43.59L10.3 9.45l-7.72 7.72c-.78.78-.78 2.05 0 2.83L4 21.41c.39.39.9.59 1.41.59.51 0 1.02-.2 1.41-.59l7.78-7.78 2.81-2.81c.8-.78.8-2.07 0-2.86zM5.41 20L4 18.59l7.72-7.72 1.47 1.35L5.41 20z\"/>\n",
              "  </svg>\n",
              "      </button>\n",
              "      \n",
              "  <style>\n",
              "    .colab-df-container {\n",
              "      display:flex;\n",
              "      flex-wrap:wrap;\n",
              "      gap: 12px;\n",
              "    }\n",
              "\n",
              "    .colab-df-convert {\n",
              "      background-color: #E8F0FE;\n",
              "      border: none;\n",
              "      border-radius: 50%;\n",
              "      cursor: pointer;\n",
              "      display: none;\n",
              "      fill: #1967D2;\n",
              "      height: 32px;\n",
              "      padding: 0 0 0 0;\n",
              "      width: 32px;\n",
              "    }\n",
              "\n",
              "    .colab-df-convert:hover {\n",
              "      background-color: #E2EBFA;\n",
              "      box-shadow: 0px 1px 2px rgba(60, 64, 67, 0.3), 0px 1px 3px 1px rgba(60, 64, 67, 0.15);\n",
              "      fill: #174EA6;\n",
              "    }\n",
              "\n",
              "    [theme=dark] .colab-df-convert {\n",
              "      background-color: #3B4455;\n",
              "      fill: #D2E3FC;\n",
              "    }\n",
              "\n",
              "    [theme=dark] .colab-df-convert:hover {\n",
              "      background-color: #434B5C;\n",
              "      box-shadow: 0px 1px 3px 1px rgba(0, 0, 0, 0.15);\n",
              "      filter: drop-shadow(0px 1px 2px rgba(0, 0, 0, 0.3));\n",
              "      fill: #FFFFFF;\n",
              "    }\n",
              "  </style>\n",
              "\n",
              "      <script>\n",
              "        const buttonEl =\n",
              "          document.querySelector('#df-e9db896e-cfec-48cf-bf16-e9895c634a7c button.colab-df-convert');\n",
              "        buttonEl.style.display =\n",
              "          google.colab.kernel.accessAllowed ? 'block' : 'none';\n",
              "\n",
              "        async function convertToInteractive(key) {\n",
              "          const element = document.querySelector('#df-e9db896e-cfec-48cf-bf16-e9895c634a7c');\n",
              "          const dataTable =\n",
              "            await google.colab.kernel.invokeFunction('convertToInteractive',\n",
              "                                                     [key], {});\n",
              "          if (!dataTable) return;\n",
              "\n",
              "          const docLinkHtml = 'Like what you see? Visit the ' +\n",
              "            '<a target=\"_blank\" href=https://colab.research.google.com/notebooks/data_table.ipynb>data table notebook</a>'\n",
              "            + ' to learn more about interactive tables.';\n",
              "          element.innerHTML = '';\n",
              "          dataTable['output_type'] = 'display_data';\n",
              "          await google.colab.output.renderOutput(dataTable, element);\n",
              "          const docLink = document.createElement('div');\n",
              "          docLink.innerHTML = docLinkHtml;\n",
              "          element.appendChild(docLink);\n",
              "        }\n",
              "      </script>\n",
              "    </div>\n",
              "  </div>\n",
              "  "
            ]
          },
          "metadata": {},
          "execution_count": 53
        }
      ]
    },
    {
      "cell_type": "code",
      "source": [
        "from sklearn.pipeline import Pipeline\n",
        "from sklearn.preprocessing import LabelEncoder, StandardScaler\n",
        "from sklearn.decomposition import PCA\n",
        "preprocessor=Pipeline([(\"scaler\",StandardScaler()),(\"pca\",PCA(n_components=2,random_state=42)),])\n",
        "clusterer=Pipeline([(\"kmeans\",KMeans(n_clusters=4,init=\"k-means++\",n_init=50,max_iter=500,random_state=42,),),])\n",
        "pipe=Pipeline([(\"preprocessor\",preprocessor),(\"clusterer\",clusterer)])\n",
        "pipe.fit(df)\n",
        "\n",
        "preprocessor_data=pipe[\"preprocessor\"].transform(df)\n",
        "predicted_labels=pipe[\"clusterer\"][\"kmeans\"].labels_\n",
        "\n",
        "pcadf=pd.DataFrame(pipe[\"preprocessor\"].transform(df),columns=[\"Dim 1\",\"Dim 2\"],)\n",
        "pcadf[\"predicted_cluster\"]=pipe[\"clusterer\"][\"kmeans\"].labels_\n",
        "\n",
        "plt.style.use(\"fivethirtyeight\")\n",
        "plt.figure(figsize=(8,8))\n",
        "scat=sns.scatterplot(\"Dim 1\",\"Dim 2\", s=100,data=pcadf,hue=\"predicted_cluster\", palette=\"Set1\")\n",
        "scat.set_title(\"Representasi\")\n",
        "plt.show()"
      ],
      "metadata": {
        "colab": {
          "base_uri": "https://localhost:8080/",
          "height": 609
        },
        "id": "kVo2Ermby5e8",
        "outputId": "00146c94-d638-4e21-ad76-3c08f4811ca2"
      },
      "execution_count": null,
      "outputs": [
        {
          "output_type": "stream",
          "name": "stderr",
          "text": [
            "/usr/local/lib/python3.8/dist-packages/seaborn/_decorators.py:36: FutureWarning: Pass the following variables as keyword args: x, y. From version 0.12, the only valid positional argument will be `data`, and passing other arguments without an explicit keyword will result in an error or misinterpretation.\n",
            "  warnings.warn(\n"
          ]
        },
        {
          "output_type": "display_data",
          "data": {
            "text/plain": [
              "<Figure size 576x576 with 1 Axes>"
            ],
            "image/png": "[encoded data removed]"
          },
          "metadata": {}
        }
      ]
    },
    {
      "cell_type": "markdown",
      "source": [
        "** validasi silang dengan 8-fold cross validation**"
      ],
      "metadata": {
        "id": "tfv0_D3d1BXU"
      }
    },
    {
      "cell_type": "code",
      "source": [
        "from sklearn.model_selection import KFold\n",
        "from sklearn.model_selection import cross_val_score\n",
        "\n",
        "cv = KFold(n_splits=8, random_state=1, shuffle=True)\n",
        "scores = cross_val_score(Tree, X, y, scoring='accuracy', cv=cv, n_jobs=-1)"
      ],
      "metadata": {
        "id": "Zs4slowUMQ3b"
      },
      "execution_count": null,
      "outputs": []
    },
    {
      "cell_type": "code",
      "source": [
        "print('Accuracy scores of each fold: ', scores)\n",
        "print('Accuracy: %.3f (%.3f)' % (np.mean(scores), np.std(scores)))"
      ],
      "metadata": {
        "colab": {
          "base_uri": "https://localhost:8080/"
        },
        "id": "wKAbwhYU1QBj",
        "outputId": "0069cc3e-2d60-4a87-8e92-17eae2f85bc4"
      },
      "execution_count": null,
      "outputs": [
        {
          "output_type": "stream",
          "name": "stdout",
          "text": [
            "Accuracy scores of each fold:  [0.5 0.5 0.5 0.3 0.8 0.7 0.6 0.7]\n",
            "Accuracy: 0.575 (0.148)\n"
          ]
        }
      ]
    },
    {
      "cell_type": "markdown",
      "source": [
        "melakukan prunning"
      ],
      "metadata": {
        "id": "OvztnyRD3-qm"
      }
    },
    {
      "cell_type": "code",
      "source": [
        "clf = DecisionTreeClassifier(random_state=0)\n",
        "path = clf.cost_complexity_pruning_path(X_train, y_train)\n",
        "ccp_alphas, impurities = path.ccp_alphas, path.impurities"
      ],
      "metadata": {
        "id": "E4Yo7SBj1Qoa"
      },
      "execution_count": null,
      "outputs": []
    },
    {
      "cell_type": "code",
      "source": [
        "clfs = []\n",
        "for ccp_alpha in ccp_alphas:\n",
        "    clf = DecisionTreeClassifier(random_state=0, ccp_alpha=ccp_alpha)\n",
        "    clf.fit(X_train, y_train)\n",
        "    clfs.append(clf)\n",
        "print(\n",
        "    \"Number of nodes in the last tree is: {} with ccp_alpha: {}\".format(\n",
        "        clfs[-1].tree_.node_count, ccp_alphas[-1]\n",
        "    )\n",
        ")"
      ],
      "metadata": {
        "colab": {
          "base_uri": "https://localhost:8080/"
        },
        "id": "54Gj3e4r1l0n",
        "outputId": "8343bad9-3919-444a-b435-43e3f31c7faa"
      },
      "execution_count": null,
      "outputs": [
        {
          "output_type": "stream",
          "name": "stdout",
          "text": [
            "Number of nodes in the last tree is: 1 with ccp_alpha: 0.06351648351648354\n"
          ]
        }
      ]
    },
    {
      "cell_type": "code",
      "source": [
        "train_scores = [clf.score(X_train, y_train) for clf in clfs]\n",
        "test_scores = [clf.score(X_test, y_test) for clf in clfs]\n",
        "\n",
        "fig, ax = plt.subplots()\n",
        "ax.set_xlabel(\"alpha\")\n",
        "ax.set_ylabel(\"accuracy\")\n",
        "ax.set_title(\"Accuracy vs alpha for training and testing sets\")\n",
        "ax.plot(ccp_alphas, train_scores, marker=\"o\", label=\"train\",\n",
        "        drawstyle=\"steps-post\")\n",
        "ax.plot(ccp_alphas, test_scores, marker=\"o\", label=\"test\",\n",
        "        drawstyle=\"steps-post\")\n",
        "ax.legend()\n",
        "plt.show()"
      ],
      "metadata": {
        "colab": {
          "base_uri": "https://localhost:8080/",
          "height": 409
        },
        "id": "7cd45q_21Ur7",
        "outputId": "5f5e86b3-ff6b-4b13-fa76-bc0114bc6309"
      },
      "execution_count": null,
      "outputs": [
        {
          "output_type": "display_data",
          "data": {
            "text/plain": [
              "<Figure size 576x396 with 1 Axes>"
            ],
            "image/png": "[encoded data removed]"
          },
          "metadata": {}
        }
      ]
    },
    {
      "cell_type": "code",
      "source": [
        "train_acc = []\n",
        "test_acc = []\n",
        "for c in clfs:\n",
        "    y_train_pred = c.predict(X_train)\n",
        "    y_test_pred = c.predict(X_test)\n",
        "    train_acc.append(accuracy_score(y_train_pred,y_train))\n",
        "    test_acc.append(accuracy_score(y_test_pred,y_test))\n",
        "\n",
        "plt.scatter(ccp_alphas,train_acc)\n",
        "plt.scatter(ccp_alphas,test_acc)\n",
        "plt.plot(ccp_alphas,train_acc,label='train_accuracy',drawstyle=\"steps-post\")\n",
        "plt.plot(ccp_alphas,test_acc,label='test_accuracy',drawstyle=\"steps-post\")\n",
        "plt.legend()\n",
        "plt.title('Accuracy vs alpha')\n",
        "plt.show()"
      ],
      "metadata": {
        "colab": {
          "base_uri": "https://localhost:8080/",
          "height": 390
        },
        "id": "cv3FhjA03HbY",
        "outputId": "70e92e93-a7fc-45f5-ed1b-bf20926d6b08"
      },
      "execution_count": null,
      "outputs": [
        {
          "output_type": "display_data",
          "data": {
            "text/plain": [
              "<Figure size 576x396 with 1 Axes>"
            ],
            "image/png": "[encoded data removed]"
          },
          "metadata": {}
        }
      ]
    },
    {
      "cell_type": "code",
      "source": [
        "Tree_prun=DecisionTreeClassifier(criterion='entropy',ccp_alpha=0.02)\n",
        "Tree_prun.fit(X_train,y_train)"
      ],
      "metadata": {
        "colab": {
          "base_uri": "https://localhost:8080/"
        },
        "id": "DBMsCvuS1W2V",
        "outputId": "8390d60f-e042-4ad7-e2c3-340e5d65b07d"
      },
      "execution_count": null,
      "outputs": [
        {
          "output_type": "execute_result",
          "data": {
            "text/plain": [
              "DecisionTreeClassifier(ccp_alpha=0.02, criterion='entropy')"
            ]
          },
          "metadata": {},
          "execution_count": 61
        }
      ]
    },
    {
      "cell_type": "code",
      "source": [
        "clfs = []\n",
        "for ccp_alpha in ccp_alphas:\n",
        "    clf = DecisionTreeClassifier(random_state=0, ccp_alpha=ccp_alpha)\n",
        "    clf.fit(X_train, y_train)\n",
        "    clfs.append(clf)\n",
        "print(\n",
        "    \"Number of nodes in the last tree is: {} with ccp_alpha: {}\".format(\n",
        "        clfs[-1].tree_.node_count, ccp_alphas[-1]\n",
        "    )\n",
        ")"
      ],
      "metadata": {
        "colab": {
          "base_uri": "https://localhost:8080/"
        },
        "id": "ADXwww4B1S6M",
        "outputId": "fa65bab3-8b0e-4c50-f760-d3b27c8cc14e"
      },
      "execution_count": null,
      "outputs": [
        {
          "output_type": "stream",
          "name": "stdout",
          "text": [
            "Number of nodes in the last tree is: 1 with ccp_alpha: 0.06351648351648354\n"
          ]
        }
      ]
    },
    {
      "cell_type": "code",
      "source": [
        "clf_ = tree.DecisionTreeClassifier(random_state=0,ccp_alpha=0.063)\n",
        "clf_.fit(X_train,y_train)\n",
        "predTree_train_prun = clf_.predict(X_train)\n",
        "predTree_test_prun = clf_.predict(X_test)\n",
        "\n",
        "print(f'Train score {accuracy_score(predTree_train_prun,y_train)}')\n",
        "print(f'Test score {accuracy_score(predTree_test_prun,y_test)}')\n",
        "plot_confusionmatrix(predTree_train_prun,y_train,dom='Train')\n",
        "plot_confusionmatrix(predTree_test_prun,y_test,dom='Test')"
      ],
      "metadata": {
        "colab": {
          "base_uri": "https://localhost:8080/",
          "height": 846
        },
        "id": "IspThd5T4hIH",
        "outputId": "29edc250-8cd6-4c83-e674-84d8423e9c70"
      },
      "execution_count": null,
      "outputs": [
        {
          "output_type": "stream",
          "name": "stdout",
          "text": [
            "Train score 0.65\n",
            "Test score 0.65\n",
            "Train Confusion matrix\n"
          ]
        },
        {
          "output_type": "display_data",
          "data": {
            "text/plain": [
              "<Figure size 576x396 with 2 Axes>"
            ],
            "image/png": "[encoded data removed]"
          },
          "metadata": {}
        },
        {
          "output_type": "stream",
          "name": "stdout",
          "text": [
            "Test Confusion matrix\n"
          ]
        },
        {
          "output_type": "display_data",
          "data": {
            "text/plain": [
              "<Figure size 576x396 with 2 Axes>"
            ],
            "image/png": "[encoded data removed]"
          },
          "metadata": {}
        }
      ]
    },
    {
      "cell_type": "code",
      "source": [
        "Tree_prun=DecisionTreeClassifier(criterion='entropy',ccp_alpha=0.05)\n",
        "Tree_prun.fit(X_train,y_train)"
      ],
      "metadata": {
        "colab": {
          "base_uri": "https://localhost:8080/"
        },
        "id": "H2oO9RxS62B1",
        "outputId": "e8b65524-c352-455e-c4ee-938d311d8700"
      },
      "execution_count": null,
      "outputs": [
        {
          "output_type": "execute_result",
          "data": {
            "text/plain": [
              "DecisionTreeClassifier(ccp_alpha=0.05, criterion='entropy')"
            ]
          },
          "metadata": {},
          "execution_count": 64
        }
      ]
    },
    {
      "cell_type": "code",
      "source": [
        "import graphviz\n",
        "dot_data=tree.export_graphviz(Tree_prun,out_file=None,\n",
        "                              feature_names=X_train.columns,\n",
        "                              class_names=['caesar','normal'],\n",
        "                              filled=True,rounded=True,\n",
        "                              special_characters=True)\n",
        "graph = graphviz.Source(dot_data)\n",
        "graph\n",
        "\n"
      ],
      "metadata": {
        "colab": {
          "base_uri": "https://localhost:8080/",
          "height": 440
        },
        "id": "7sc0vRWa6b-M",
        "outputId": "605eed44-fe81-4537-ff0e-288713e34bf1"
      },
      "execution_count": null,
      "outputs": [
        {
          "output_type": "execute_result",
          "data": {
            "text/plain": [
              "<graphviz.files.Source at 0x7f4b7632d850>"
            ],
            "image/svg+xml": "<?xml version=\"1.0\" encoding=\"UTF-8\" standalone=\"no\"?>\n<!DOCTYPE svg PUBLIC \"-//W3C//DTD SVG 1.1//EN\"\n \"http://www.w3.org/Graphics/SVG/1.1/DTD/svg11.dtd\">\n<!-- Generated by graphviz version 2.40.1 (20161225.0304)\n -->\n<!-- Title: Tree Pages: 1 -->\n<svg width=\"339pt\" height=\"314pt\"\n viewBox=\"0.00 0.00 339.00 314.00\" xmlns=\"http://www.w3.org/2000/svg\" xmlns:xlink=\"http://www.w3.org/1999/xlink\">\n<g id=\"graph0\" class=\"graph\" transform=\"scale(1 1) rotate(0) translate(4 310)\">\n<title>Tree</title>\n<polygon fill=\"#ffffff\" stroke=\"transparent\" points=\"-4,4 -4,-310 335,-310 335,4 -4,4\"/>\n<!-- 0 -->\n<g id=\"node1\" class=\"node\">\n<title>0</title>\n<path fill=\"#f9e1d0\" stroke=\"#000000\" d=\"M211.5,-306C211.5,-306 58.5,-306 58.5,-306 52.5,-306 46.5,-300 46.5,-294 46.5,-294 46.5,-235 46.5,-235 46.5,-229 52.5,-223 58.5,-223 58.5,-223 211.5,-223 211.5,-223 217.5,-223 223.5,-229 223.5,-235 223.5,-235 223.5,-294 223.5,-294 223.5,-300 217.5,-306 211.5,-306\"/>\n<text text-anchor=\"start\" x=\"54.5\" y=\"-290.8\" font-family=\"Helvetica,sans-Serif\" font-size=\"14.00\" fill=\"#000000\">Gangguan Jantung ≤ 0.5</text>\n<text text-anchor=\"start\" x=\"84\" y=\"-275.8\" font-family=\"Helvetica,sans-Serif\" font-size=\"14.00\" fill=\"#000000\">entropy = 0.987</text>\n<text text-anchor=\"start\" x=\"91\" y=\"-260.8\" font-family=\"Helvetica,sans-Serif\" font-size=\"14.00\" fill=\"#000000\">samples = 60</text>\n<text text-anchor=\"start\" x=\"85\" y=\"-245.8\" font-family=\"Helvetica,sans-Serif\" font-size=\"14.00\" fill=\"#000000\">value = [34, 26]</text>\n<text text-anchor=\"start\" x=\"88\" y=\"-230.8\" font-family=\"Helvetica,sans-Serif\" font-size=\"14.00\" fill=\"#000000\">class = caesar</text>\n</g>\n<!-- 1 -->\n<g id=\"node2\" class=\"node\">\n<title>1</title>\n<path fill=\"#d2e9f9\" stroke=\"#000000\" d=\"M106,-179.5C106,-179.5 12,-179.5 12,-179.5 6,-179.5 0,-173.5 0,-167.5 0,-167.5 0,-123.5 0,-123.5 0,-117.5 6,-111.5 12,-111.5 12,-111.5 106,-111.5 106,-111.5 112,-111.5 118,-117.5 118,-123.5 118,-123.5 118,-167.5 118,-167.5 118,-173.5 112,-179.5 106,-179.5\"/>\n<text text-anchor=\"start\" x=\"8\" y=\"-164.3\" font-family=\"Helvetica,sans-Serif\" font-size=\"14.00\" fill=\"#000000\">entropy = 0.988</text>\n<text text-anchor=\"start\" x=\"15\" y=\"-149.3\" font-family=\"Helvetica,sans-Serif\" font-size=\"14.00\" fill=\"#000000\">samples = 39</text>\n<text text-anchor=\"start\" x=\"9\" y=\"-134.3\" font-family=\"Helvetica,sans-Serif\" font-size=\"14.00\" fill=\"#000000\">value = [17, 22]</text>\n<text text-anchor=\"start\" x=\"12\" y=\"-119.3\" font-family=\"Helvetica,sans-Serif\" font-size=\"14.00\" fill=\"#000000\">class = normal</text>\n</g>\n<!-- 0&#45;&gt;1 -->\n<g id=\"edge1\" class=\"edge\">\n<title>0&#45;&gt;1</title>\n<path fill=\"none\" stroke=\"#000000\" d=\"M108.4189,-222.8796C101.326,-211.7735 93.6479,-199.7513 86.5063,-188.5691\"/>\n<polygon fill=\"#000000\" stroke=\"#000000\" points=\"89.2477,-186.3589 80.9154,-179.8149 83.3482,-190.1267 89.2477,-186.3589\"/>\n<text text-anchor=\"middle\" x=\"75.5319\" y=\"-200.5284\" font-family=\"Helvetica,sans-Serif\" font-size=\"14.00\" fill=\"#000000\">True</text>\n</g>\n<!-- 2 -->\n<g id=\"node3\" class=\"node\">\n<title>2</title>\n<path fill=\"#eb9f68\" stroke=\"#000000\" d=\"M276,-187C276,-187 148,-187 148,-187 142,-187 136,-181 136,-175 136,-175 136,-116 136,-116 136,-110 142,-104 148,-104 148,-104 276,-104 276,-104 282,-104 288,-110 288,-116 288,-116 288,-175 288,-175 288,-181 282,-187 276,-187\"/>\n<text text-anchor=\"start\" x=\"144\" y=\"-171.8\" font-family=\"Helvetica,sans-Serif\" font-size=\"14.00\" fill=\"#000000\">Tekanan Darah ≤ 0.5</text>\n<text text-anchor=\"start\" x=\"161\" y=\"-156.8\" font-family=\"Helvetica,sans-Serif\" font-size=\"14.00\" fill=\"#000000\">entropy = 0.702</text>\n<text text-anchor=\"start\" x=\"168\" y=\"-141.8\" font-family=\"Helvetica,sans-Serif\" font-size=\"14.00\" fill=\"#000000\">samples = 21</text>\n<text text-anchor=\"start\" x=\"166.5\" y=\"-126.8\" font-family=\"Helvetica,sans-Serif\" font-size=\"14.00\" fill=\"#000000\">value = [17, 4]</text>\n<text text-anchor=\"start\" x=\"165\" y=\"-111.8\" font-family=\"Helvetica,sans-Serif\" font-size=\"14.00\" fill=\"#000000\">class = caesar</text>\n</g>\n<!-- 0&#45;&gt;2 -->\n<g id=\"edge2\" class=\"edge\">\n<title>0&#45;&gt;2</title>\n<path fill=\"none\" stroke=\"#000000\" d=\"M161.9309,-222.8796C167.5837,-214.1434 173.6033,-204.8404 179.4366,-195.8253\"/>\n<polygon fill=\"#000000\" stroke=\"#000000\" points=\"182.4601,-197.5952 184.9542,-187.2981 176.5831,-193.7924 182.4601,-197.5952\"/>\n<text text-anchor=\"middle\" x=\"190.1924\" y=\"-208.0431\" font-family=\"Helvetica,sans-Serif\" font-size=\"14.00\" fill=\"#000000\">False</text>\n</g>\n<!-- 3 -->\n<g id=\"node4\" class=\"node\">\n<title>3</title>\n<path fill=\"#e58139\" stroke=\"#000000\" d=\"M191,-68C191,-68 105,-68 105,-68 99,-68 93,-62 93,-56 93,-56 93,-12 93,-12 93,-6 99,0 105,0 105,0 191,0 191,0 197,0 203,-6 203,-12 203,-12 203,-56 203,-56 203,-62 197,-68 191,-68\"/>\n<text text-anchor=\"start\" x=\"105.5\" y=\"-52.8\" font-family=\"Helvetica,sans-Serif\" font-size=\"14.00\" fill=\"#000000\">entropy = 0.0</text>\n<text text-anchor=\"start\" x=\"108.5\" y=\"-37.8\" font-family=\"Helvetica,sans-Serif\" font-size=\"14.00\" fill=\"#000000\">samples = 8</text>\n<text text-anchor=\"start\" x=\"106.5\" y=\"-22.8\" font-family=\"Helvetica,sans-Serif\" font-size=\"14.00\" fill=\"#000000\">value = [8, 0]</text>\n<text text-anchor=\"start\" x=\"101\" y=\"-7.8\" font-family=\"Helvetica,sans-Serif\" font-size=\"14.00\" fill=\"#000000\">class = caesar</text>\n</g>\n<!-- 2&#45;&gt;3 -->\n<g id=\"edge3\" class=\"edge\">\n<title>2&#45;&gt;3</title>\n<path fill=\"none\" stroke=\"#000000\" d=\"M188.1688,-103.9815C183.1044,-95.1585 177.7475,-85.8258 172.6532,-76.9506\"/>\n<polygon fill=\"#000000\" stroke=\"#000000\" points=\"175.6807,-75.1942 167.667,-68.2637 169.6097,-78.6789 175.6807,-75.1942\"/>\n</g>\n<!-- 4 -->\n<g id=\"node5\" class=\"node\">\n<title>4</title>\n<path fill=\"#f1b991\" stroke=\"#000000\" d=\"M319,-68C319,-68 233,-68 233,-68 227,-68 221,-62 221,-56 221,-56 221,-12 221,-12 221,-6 227,0 233,0 233,0 319,0 319,0 325,0 331,-6 331,-12 331,-12 331,-56 331,-56 331,-62 325,-68 319,-68\"/>\n<text text-anchor=\"start\" x=\"229\" y=\"-52.8\" font-family=\"Helvetica,sans-Serif\" font-size=\"14.00\" fill=\"#000000\">entropy = 0.89</text>\n<text text-anchor=\"start\" x=\"232\" y=\"-37.8\" font-family=\"Helvetica,sans-Serif\" font-size=\"14.00\" fill=\"#000000\">samples = 13</text>\n<text text-anchor=\"start\" x=\"234.5\" y=\"-22.8\" font-family=\"Helvetica,sans-Serif\" font-size=\"14.00\" fill=\"#000000\">value = [9, 4]</text>\n<text text-anchor=\"start\" x=\"229\" y=\"-7.8\" font-family=\"Helvetica,sans-Serif\" font-size=\"14.00\" fill=\"#000000\">class = caesar</text>\n</g>\n<!-- 2&#45;&gt;4 -->\n<g id=\"edge4\" class=\"edge\">\n<title>2&#45;&gt;4</title>\n<path fill=\"none\" stroke=\"#000000\" d=\"M235.8312,-103.9815C240.8956,-95.1585 246.2525,-85.8258 251.3468,-76.9506\"/>\n<polygon fill=\"#000000\" stroke=\"#000000\" points=\"254.3903,-78.6789 256.333,-68.2637 248.3193,-75.1942 254.3903,-78.6789\"/>\n</g>\n</g>\n</svg>\n"
          },
          "metadata": {},
          "execution_count": 65
        }
      ]
    },
    {
      "cell_type": "markdown",
      "source": [
        "Kita dapat melihat bahwa ukuran decision tree berkurang secara signifikan. Juga postpruning jauh lebih efisien daripada prepruning."
      ],
      "metadata": {
        "id": "erBuJlSu9VVx"
      }
    },
    {
      "cell_type": "markdown",
      "source": [
        "***Model Regresi Linear***"
      ],
      "metadata": {
        "id": "oWSb4gwiWcyy"
      }
    },
    {
      "cell_type": "code",
      "source": [
        "print(\"Shape of X_train: \",X_train.shape)\n",
        "print(\"Shape of X_test: \", X_test.shape)\n",
        "print(\"Shape of y_train: \",y_train.shape)\n",
        "print(\"Shape of y_test\",y_test.shape)"
      ],
      "metadata": {
        "colab": {
          "base_uri": "https://localhost:8080/"
        },
        "id": "4syeiShM4aVS",
        "outputId": "31a48a4f-1053-4612-f8a9-7d8bddc369e7"
      },
      "execution_count": null,
      "outputs": [
        {
          "output_type": "stream",
          "name": "stdout",
          "text": [
            "Shape of X_train:  (60, 5)\n",
            "Shape of X_test:  (20, 5)\n",
            "Shape of y_train:  (60,)\n",
            "Shape of y_test (20,)\n"
          ]
        }
      ]
    },
    {
      "cell_type": "code",
      "source": [
        "from sklearn.linear_model import LinearRegression\n",
        "model_regresi = LinearRegression()\n",
        "model_regresi.fit(X_train,y_train)\n",
        "print(pd.DataFrame({'Predictor': X.columns, 'coefficient': model_regresi.coef_}))"
      ],
      "metadata": {
        "id": "8bK2IYfZ4bYt",
        "colab": {
          "base_uri": "https://localhost:8080/"
        },
        "outputId": "55e916b2-d156-453a-c1bb-c75bb2f802e2"
      },
      "execution_count": null,
      "outputs": [
        {
          "output_type": "stream",
          "name": "stdout",
          "text": [
            "          Predictor  coefficient\n",
            "0              Usia    -0.001561\n",
            "1    Melahirkan ke-    -0.053588\n",
            "2  Waktu Melahirkan     0.104459\n",
            "3     Tekanan Darah     0.042675\n",
            "4  Gangguan Jantung    -0.375436\n"
          ]
        }
      ]
    },
    {
      "cell_type": "code",
      "source": [
        "y_pred_train=model_regresi.predict(X_train)\n",
        "hasil_train = pd.DataFrame({'Predicted_price': y_pred_train, 'Actual_price': y_train,\n",
        "'Residual': y_train - y_pred_train})\n",
        "print(hasil_train.head(20))"
      ],
      "metadata": {
        "colab": {
          "base_uri": "https://localhost:8080/"
        },
        "id": "n7lp4uLC4dM-",
        "outputId": "32f9602e-6ae0-4779-e0fa-f4b49bdac17f"
      },
      "execution_count": null,
      "outputs": [
        {
          "output_type": "stream",
          "name": "stdout",
          "text": [
            "    Predicted_price  Actual_price  Residual\n",
            "9          0.621547             0 -0.621547\n",
            "64         0.387000             1  0.613000\n",
            "5          0.580433             1  0.419567\n",
            "47         0.122932             0 -0.122932\n",
            "34         0.673979             0 -0.673979\n",
            "62         0.413017             0 -0.413017\n",
            "42         0.650170             0 -0.650170\n",
            "54         0.084940             0 -0.084940\n",
            "16         0.520210             1  0.479790\n",
            "39         0.309456             0 -0.309456\n",
            "56         0.088452             0 -0.088452\n",
            "79         0.677102             1  0.322898\n",
            "7          0.402104             0 -0.402104\n",
            "50         0.234025             1  0.765975\n",
            "53         0.566380             1  0.433620\n",
            "19         0.312578             0 -0.312578\n",
            "66         0.408350             0 -0.408350\n",
            "25         0.531140             1  0.468860\n",
            "44         0.009510             0 -0.009510\n",
            "13         0.152581             1  0.847419\n"
          ]
        }
      ]
    },
    {
      "cell_type": "code",
      "source": [
        "from sklearn.metrics import r2_score\n",
        "y_pred_train = model_regresi.predict(X_train)\n",
        "r2_score_train = r2_score(y_train, y_pred_train)\n",
        "\n",
        "y_pred_test = model_regresi.predict(X_test)\n",
        "r2_score_test = r2_score(y_test, y_pred_test)\n",
        "\n",
        "\n",
        "from sklearn.metrics import mean_squared_error\n",
        "rmse_train = (np.sqrt(mean_squared_error(y_train, y_pred_train)))\n",
        "rmse_test = (np.sqrt(mean_squared_error(y_test, y_pred_test)))\n",
        "\n",
        "from sklearn.model_selection import cross_val_score\n",
        "from sklearn.model_selection import KFold\n",
        "folds = KFold(n_splits = 6, shuffle = True, random_state = 100)\n",
        "cross_val = cross_val_score(estimator = model_regresi, X = X, y = y, cv =folds)"
      ],
      "metadata": {
        "id": "D6TYrhtN5VWU"
      },
      "execution_count": null,
      "outputs": []
    },
    {
      "cell_type": "code",
      "source": [
        "X_const_train=sm.add_constant(X_train)\n",
        "modelsm= sm.OLS(y_train, X_const_train).fit()\n",
        "modelsm.summary()"
      ],
      "metadata": {
        "colab": {
          "base_uri": "https://localhost:8080/",
          "height": 592
        },
        "id": "lZ7QYlmDcsLE",
        "outputId": "d9633c1d-10b4-4f17-9f47-f8ba8049481b"
      },
      "execution_count": null,
      "outputs": [
        {
          "output_type": "stream",
          "name": "stderr",
          "text": [
            "/usr/local/lib/python3.8/dist-packages/statsmodels/tsa/tsatools.py:142: FutureWarning: In a future version of pandas all arguments of concat except for the argument 'objs' will be keyword-only\n",
            "  x = pd.concat(x[::order], 1)\n"
          ]
        },
        {
          "output_type": "execute_result",
          "data": {
            "text/plain": [
              "<class 'statsmodels.iolib.summary.Summary'>\n",
              "\"\"\"\n",
              "                            OLS Regression Results                            \n",
              "==============================================================================\n",
              "Dep. Variable:      Melahirkan Normal   R-squared:                       0.171\n",
              "Model:                            OLS   Adj. R-squared:                  0.095\n",
              "Method:                 Least Squares   F-statistic:                     2.235\n",
              "Date:                Sun, 15 Jan 2023   Prob (F-statistic):             0.0639\n",
              "Time:                        16:11:43   Log-Likelihood:                -37.367\n",
              "No. Observations:                  60   AIC:                             86.73\n",
              "Df Residuals:                      54   BIC:                             99.30\n",
              "Df Model:                           5                                         \n",
              "Covariance Type:            nonrobust                                         \n",
              "====================================================================================\n",
              "                       coef    std err          t      P>|t|      [0.025      0.975]\n",
              "------------------------------------------------------------------------------------\n",
              "const                0.5702      0.385      1.482      0.144      -0.201       1.341\n",
              "Usia                -0.0016      0.015     -0.105      0.917      -0.031       0.028\n",
              "Melahirkan ke-      -0.0536      0.091     -0.590      0.558      -0.236       0.128\n",
              "Waktu Melahirkan     0.1045      0.073      1.424      0.160      -0.043       0.252\n",
              "Tekanan Darah        0.0427      0.087      0.490      0.626      -0.132       0.217\n",
              "Gangguan Jantung    -0.3754      0.130     -2.877      0.006      -0.637      -0.114\n",
              "==============================================================================\n",
              "Omnibus:                       26.613   Durbin-Watson:                   2.201\n",
              "Prob(Omnibus):                  0.000   Jarque-Bera (JB):                4.442\n",
              "Skew:                           0.063   Prob(JB):                        0.108\n",
              "Kurtosis:                       1.673   Cond. No.                         178.\n",
              "==============================================================================\n",
              "\n",
              "Notes:\n",
              "[1] Standard Errors assume that the covariance matrix of the errors is correctly specified.\n",
              "\"\"\""
            ],
            "text/html": [
              "<table class=\"simpletable\">\n",
              "<caption>OLS Regression Results</caption>\n",
              "<tr>\n",
              "  <th>Dep. Variable:</th>    <td>Melahirkan Normal</td> <th>  R-squared:         </th> <td>   0.171</td>\n",
              "</tr>\n",
              "<tr>\n",
              "  <th>Model:</th>                   <td>OLS</td>        <th>  Adj. R-squared:    </th> <td>   0.095</td>\n",
              "</tr>\n",
              "<tr>\n",
              "  <th>Method:</th>             <td>Least Squares</td>   <th>  F-statistic:       </th> <td>   2.235</td>\n",
              "</tr>\n",
              "<tr>\n",
              "  <th>Date:</th>             <td>Sun, 15 Jan 2023</td>  <th>  Prob (F-statistic):</th>  <td>0.0639</td> \n",
              "</tr>\n",
              "<tr>\n",
              "  <th>Time:</th>                 <td>16:11:43</td>      <th>  Log-Likelihood:    </th> <td> -37.367</td>\n",
              "</tr>\n",
              "<tr>\n",
              "  <th>No. Observations:</th>      <td>    60</td>       <th>  AIC:               </th> <td>   86.73</td>\n",
              "</tr>\n",
              "<tr>\n",
              "  <th>Df Residuals:</th>          <td>    54</td>       <th>  BIC:               </th> <td>   99.30</td>\n",
              "</tr>\n",
              "<tr>\n",
              "  <th>Df Model:</th>              <td>     5</td>       <th>                     </th>     <td> </td>   \n",
              "</tr>\n",
              "<tr>\n",
              "  <th>Covariance Type:</th>      <td>nonrobust</td>     <th>                     </th>     <td> </td>   \n",
              "</tr>\n",
              "</table>\n",
              "<table class=\"simpletable\">\n",
              "<tr>\n",
              "          <td></td>            <th>coef</th>     <th>std err</th>      <th>t</th>      <th>P>|t|</th>  <th>[0.025</th>    <th>0.975]</th>  \n",
              "</tr>\n",
              "<tr>\n",
              "  <th>const</th>            <td>    0.5702</td> <td>    0.385</td> <td>    1.482</td> <td> 0.144</td> <td>   -0.201</td> <td>    1.341</td>\n",
              "</tr>\n",
              "<tr>\n",
              "  <th>Usia</th>             <td>   -0.0016</td> <td>    0.015</td> <td>   -0.105</td> <td> 0.917</td> <td>   -0.031</td> <td>    0.028</td>\n",
              "</tr>\n",
              "<tr>\n",
              "  <th>Melahirkan ke-</th>   <td>   -0.0536</td> <td>    0.091</td> <td>   -0.590</td> <td> 0.558</td> <td>   -0.236</td> <td>    0.128</td>\n",
              "</tr>\n",
              "<tr>\n",
              "  <th>Waktu Melahirkan</th> <td>    0.1045</td> <td>    0.073</td> <td>    1.424</td> <td> 0.160</td> <td>   -0.043</td> <td>    0.252</td>\n",
              "</tr>\n",
              "<tr>\n",
              "  <th>Tekanan Darah</th>    <td>    0.0427</td> <td>    0.087</td> <td>    0.490</td> <td> 0.626</td> <td>   -0.132</td> <td>    0.217</td>\n",
              "</tr>\n",
              "<tr>\n",
              "  <th>Gangguan Jantung</th> <td>   -0.3754</td> <td>    0.130</td> <td>   -2.877</td> <td> 0.006</td> <td>   -0.637</td> <td>   -0.114</td>\n",
              "</tr>\n",
              "</table>\n",
              "<table class=\"simpletable\">\n",
              "<tr>\n",
              "  <th>Omnibus:</th>       <td>26.613</td> <th>  Durbin-Watson:     </th> <td>   2.201</td>\n",
              "</tr>\n",
              "<tr>\n",
              "  <th>Prob(Omnibus):</th> <td> 0.000</td> <th>  Jarque-Bera (JB):  </th> <td>   4.442</td>\n",
              "</tr>\n",
              "<tr>\n",
              "  <th>Skew:</th>          <td> 0.063</td> <th>  Prob(JB):          </th> <td>   0.108</td>\n",
              "</tr>\n",
              "<tr>\n",
              "  <th>Kurtosis:</th>      <td> 1.673</td> <th>  Cond. No.          </th> <td>    178.</td>\n",
              "</tr>\n",
              "</table><br/><br/>Notes:<br/>[1] Standard Errors assume that the covariance matrix of the errors is correctly specified."
            ]
          },
          "metadata": {},
          "execution_count": 70
        }
      ]
    }
  ]
}